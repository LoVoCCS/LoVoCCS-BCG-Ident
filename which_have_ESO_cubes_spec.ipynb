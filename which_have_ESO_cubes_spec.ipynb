{
 "cells": [
  {
   "cell_type": "markdown",
   "id": "3da97529-6705-435f-a834-01c094f4369d",
   "metadata": {},
   "source": [
    "# Notes on which LoVoCCS BCGs have ESO cubes"
   ]
  },
  {
   "cell_type": "markdown",
   "id": "71c3a55a-824b-458e-92bb-772a22dcd753",
   "metadata": {},
   "source": [
    "This notebook won't really execute any code - it will just contain notes on which LoVoCCS BCGs have ESO MUSE/KMOS/ALMA data. This information will be pulled from the ESO science archive portal, rather than any API calls, for the moment."
   ]
  },
  {
   "cell_type": "markdown",
   "id": "639671a0-509e-4a02-b2eb-112e490698ba",
   "metadata": {},
   "source": [
    "## Import statements"
   ]
  },
  {
   "cell_type": "code",
   "execution_count": 1,
   "id": "660ff1d9-d71a-4099-bf51-2ccc5cb3a7d3",
   "metadata": {},
   "outputs": [],
   "source": [
    "import pandas as pd\n",
    "\n",
    "import json\n",
    "import os"
   ]
  },
  {
   "cell_type": "markdown",
   "id": "5d05046f-8cfa-4ecf-bfb3-0ab842c7ab2d",
   "metadata": {},
   "source": [
    "## Reading the BCG sample"
   ]
  },
  {
   "cell_type": "code",
   "execution_count": 2,
   "id": "dd907718-1052-436b-a4ae-7668744d85fc",
   "metadata": {},
   "outputs": [
    {
     "data": {
      "text/html": [
       "<div>\n",
       "<style scoped>\n",
       "    .dataframe tbody tr th:only-of-type {\n",
       "        vertical-align: middle;\n",
       "    }\n",
       "\n",
       "    .dataframe tbody tr th {\n",
       "        vertical-align: top;\n",
       "    }\n",
       "\n",
       "    .dataframe thead th {\n",
       "        text-align: right;\n",
       "    }\n",
       "</style>\n",
       "<table border=\"1\" class=\"dataframe\">\n",
       "  <thead>\n",
       "    <tr style=\"text-align: right;\">\n",
       "      <th></th>\n",
       "      <th>cluster_name</th>\n",
       "      <th>no_bcg_cand</th>\n",
       "      <th>BCG1_desi-ls_ra</th>\n",
       "      <th>BCG1_desi-ls_dec</th>\n",
       "      <th>BCG2_desi-ls_ra</th>\n",
       "      <th>BCG2_desi-ls_dec</th>\n",
       "      <th>BCG3_desi-ls_ra</th>\n",
       "      <th>BCG3_desi-ls_dec</th>\n",
       "      <th>BCG4_desi-ls_ra</th>\n",
       "      <th>BCG4_desi-ls_dec</th>\n",
       "      <th>BCG1_lovoccs_ra</th>\n",
       "      <th>BCG1_lovoccs_dec</th>\n",
       "      <th>BCG2_lovoccs_ra</th>\n",
       "      <th>BCG2_lovoccs_dec</th>\n",
       "    </tr>\n",
       "  </thead>\n",
       "  <tbody>\n",
       "    <tr>\n",
       "      <th>0</th>\n",
       "      <td>LoVoCCS-1</td>\n",
       "      <td>False</td>\n",
       "      <td>227.733824</td>\n",
       "      <td>5.744883</td>\n",
       "      <td>NaN</td>\n",
       "      <td>NaN</td>\n",
       "      <td>NaN</td>\n",
       "      <td>NaN</td>\n",
       "      <td>NaN</td>\n",
       "      <td>NaN</td>\n",
       "      <td>NaN</td>\n",
       "      <td>NaN</td>\n",
       "      <td>NaN</td>\n",
       "      <td>NaN</td>\n",
       "    </tr>\n",
       "    <tr>\n",
       "      <th>1</th>\n",
       "      <td>LoVoCCS-2</td>\n",
       "      <td>False</td>\n",
       "      <td>NaN</td>\n",
       "      <td>NaN</td>\n",
       "      <td>NaN</td>\n",
       "      <td>NaN</td>\n",
       "      <td>NaN</td>\n",
       "      <td>NaN</td>\n",
       "      <td>NaN</td>\n",
       "      <td>NaN</td>\n",
       "      <td>44.740836</td>\n",
       "      <td>13.582646</td>\n",
       "      <td>NaN</td>\n",
       "      <td>NaN</td>\n",
       "    </tr>\n",
       "    <tr>\n",
       "      <th>2</th>\n",
       "      <td>LoVoCCS-4A</td>\n",
       "      <td>False</td>\n",
       "      <td>10.460194</td>\n",
       "      <td>-9.302871</td>\n",
       "      <td>NaN</td>\n",
       "      <td>NaN</td>\n",
       "      <td>NaN</td>\n",
       "      <td>NaN</td>\n",
       "      <td>NaN</td>\n",
       "      <td>NaN</td>\n",
       "      <td>NaN</td>\n",
       "      <td>NaN</td>\n",
       "      <td>NaN</td>\n",
       "      <td>NaN</td>\n",
       "    </tr>\n",
       "    <tr>\n",
       "      <th>3</th>\n",
       "      <td>LoVoCCS-4B</td>\n",
       "      <td>False</td>\n",
       "      <td>10.429048</td>\n",
       "      <td>-9.439317</td>\n",
       "      <td>NaN</td>\n",
       "      <td>NaN</td>\n",
       "      <td>NaN</td>\n",
       "      <td>NaN</td>\n",
       "      <td>NaN</td>\n",
       "      <td>NaN</td>\n",
       "      <td>NaN</td>\n",
       "      <td>NaN</td>\n",
       "      <td>NaN</td>\n",
       "      <td>NaN</td>\n",
       "    </tr>\n",
       "    <tr>\n",
       "      <th>4</th>\n",
       "      <td>LoVoCCS-5</td>\n",
       "      <td>False</td>\n",
       "      <td>303.113338</td>\n",
       "      <td>-56.826500</td>\n",
       "      <td>302.710346</td>\n",
       "      <td>-56.673695</td>\n",
       "      <td>303.506670</td>\n",
       "      <td>-57.027568</td>\n",
       "      <td>303.49407</td>\n",
       "      <td>-57.039226</td>\n",
       "      <td>NaN</td>\n",
       "      <td>NaN</td>\n",
       "      <td>NaN</td>\n",
       "      <td>NaN</td>\n",
       "    </tr>\n",
       "    <tr>\n",
       "      <th>...</th>\n",
       "      <td>...</td>\n",
       "      <td>...</td>\n",
       "      <td>...</td>\n",
       "      <td>...</td>\n",
       "      <td>...</td>\n",
       "      <td>...</td>\n",
       "      <td>...</td>\n",
       "      <td>...</td>\n",
       "      <td>...</td>\n",
       "      <td>...</td>\n",
       "      <td>...</td>\n",
       "      <td>...</td>\n",
       "      <td>...</td>\n",
       "      <td>...</td>\n",
       "    </tr>\n",
       "    <tr>\n",
       "      <th>62</th>\n",
       "      <td>LoVoCCS-121</td>\n",
       "      <td>False</td>\n",
       "      <td>52.460588</td>\n",
       "      <td>-52.579591</td>\n",
       "      <td>NaN</td>\n",
       "      <td>NaN</td>\n",
       "      <td>NaN</td>\n",
       "      <td>NaN</td>\n",
       "      <td>NaN</td>\n",
       "      <td>NaN</td>\n",
       "      <td>NaN</td>\n",
       "      <td>NaN</td>\n",
       "      <td>NaN</td>\n",
       "      <td>NaN</td>\n",
       "    </tr>\n",
       "    <tr>\n",
       "      <th>63</th>\n",
       "      <td>LoVoCCS-122</td>\n",
       "      <td>False</td>\n",
       "      <td>156.994404</td>\n",
       "      <td>-6.798922</td>\n",
       "      <td>NaN</td>\n",
       "      <td>NaN</td>\n",
       "      <td>NaN</td>\n",
       "      <td>NaN</td>\n",
       "      <td>NaN</td>\n",
       "      <td>NaN</td>\n",
       "      <td>NaN</td>\n",
       "      <td>NaN</td>\n",
       "      <td>NaN</td>\n",
       "      <td>NaN</td>\n",
       "    </tr>\n",
       "    <tr>\n",
       "      <th>64</th>\n",
       "      <td>LoVoCCS-123</td>\n",
       "      <td>False</td>\n",
       "      <td>193.671028</td>\n",
       "      <td>-29.227460</td>\n",
       "      <td>NaN</td>\n",
       "      <td>NaN</td>\n",
       "      <td>NaN</td>\n",
       "      <td>NaN</td>\n",
       "      <td>NaN</td>\n",
       "      <td>NaN</td>\n",
       "      <td>NaN</td>\n",
       "      <td>NaN</td>\n",
       "      <td>NaN</td>\n",
       "      <td>NaN</td>\n",
       "    </tr>\n",
       "    <tr>\n",
       "      <th>65</th>\n",
       "      <td>LoVoCCS-131</td>\n",
       "      <td>False</td>\n",
       "      <td>137.649589</td>\n",
       "      <td>-10.582130</td>\n",
       "      <td>137.741475</td>\n",
       "      <td>-10.564283</td>\n",
       "      <td>NaN</td>\n",
       "      <td>NaN</td>\n",
       "      <td>NaN</td>\n",
       "      <td>NaN</td>\n",
       "      <td>NaN</td>\n",
       "      <td>NaN</td>\n",
       "      <td>NaN</td>\n",
       "      <td>NaN</td>\n",
       "    </tr>\n",
       "    <tr>\n",
       "      <th>66</th>\n",
       "      <td>LoVoCCS-134</td>\n",
       "      <td>False</td>\n",
       "      <td>329.606320</td>\n",
       "      <td>-60.391193</td>\n",
       "      <td>329.608421</td>\n",
       "      <td>-60.426073</td>\n",
       "      <td>329.538999</td>\n",
       "      <td>-60.245104</td>\n",
       "      <td>NaN</td>\n",
       "      <td>NaN</td>\n",
       "      <td>NaN</td>\n",
       "      <td>NaN</td>\n",
       "      <td>NaN</td>\n",
       "      <td>NaN</td>\n",
       "    </tr>\n",
       "  </tbody>\n",
       "</table>\n",
       "<p>67 rows × 14 columns</p>\n",
       "</div>"
      ],
      "text/plain": [
       "   cluster_name  no_bcg_cand  BCG1_desi-ls_ra  BCG1_desi-ls_dec  \\\n",
       "0     LoVoCCS-1        False       227.733824          5.744883   \n",
       "1     LoVoCCS-2        False              NaN               NaN   \n",
       "2    LoVoCCS-4A        False        10.460194         -9.302871   \n",
       "3    LoVoCCS-4B        False        10.429048         -9.439317   \n",
       "4     LoVoCCS-5        False       303.113338        -56.826500   \n",
       "..          ...          ...              ...               ...   \n",
       "62  LoVoCCS-121        False        52.460588        -52.579591   \n",
       "63  LoVoCCS-122        False       156.994404         -6.798922   \n",
       "64  LoVoCCS-123        False       193.671028        -29.227460   \n",
       "65  LoVoCCS-131        False       137.649589        -10.582130   \n",
       "66  LoVoCCS-134        False       329.606320        -60.391193   \n",
       "\n",
       "    BCG2_desi-ls_ra  BCG2_desi-ls_dec  BCG3_desi-ls_ra  BCG3_desi-ls_dec  \\\n",
       "0               NaN               NaN              NaN               NaN   \n",
       "1               NaN               NaN              NaN               NaN   \n",
       "2               NaN               NaN              NaN               NaN   \n",
       "3               NaN               NaN              NaN               NaN   \n",
       "4        302.710346        -56.673695       303.506670        -57.027568   \n",
       "..              ...               ...              ...               ...   \n",
       "62              NaN               NaN              NaN               NaN   \n",
       "63              NaN               NaN              NaN               NaN   \n",
       "64              NaN               NaN              NaN               NaN   \n",
       "65       137.741475        -10.564283              NaN               NaN   \n",
       "66       329.608421        -60.426073       329.538999        -60.245104   \n",
       "\n",
       "    BCG4_desi-ls_ra  BCG4_desi-ls_dec  BCG1_lovoccs_ra  BCG1_lovoccs_dec  \\\n",
       "0               NaN               NaN              NaN               NaN   \n",
       "1               NaN               NaN        44.740836         13.582646   \n",
       "2               NaN               NaN              NaN               NaN   \n",
       "3               NaN               NaN              NaN               NaN   \n",
       "4         303.49407        -57.039226              NaN               NaN   \n",
       "..              ...               ...              ...               ...   \n",
       "62              NaN               NaN              NaN               NaN   \n",
       "63              NaN               NaN              NaN               NaN   \n",
       "64              NaN               NaN              NaN               NaN   \n",
       "65              NaN               NaN              NaN               NaN   \n",
       "66              NaN               NaN              NaN               NaN   \n",
       "\n",
       "    BCG2_lovoccs_ra  BCG2_lovoccs_dec  \n",
       "0               NaN               NaN  \n",
       "1               NaN               NaN  \n",
       "2               NaN               NaN  \n",
       "3               NaN               NaN  \n",
       "4               NaN               NaN  \n",
       "..              ...               ...  \n",
       "62              NaN               NaN  \n",
       "63              NaN               NaN  \n",
       "64              NaN               NaN  \n",
       "65              NaN               NaN  \n",
       "66              NaN               NaN  \n",
       "\n",
       "[67 rows x 14 columns]"
      ]
     },
     "execution_count": 2,
     "metadata": {},
     "output_type": "execute_result"
    }
   ],
   "source": [
    "bcg_samp = pd.read_csv(\"outputs/bcg_output_sample.csv\")\n",
    "bcg_samp"
   ]
  },
  {
   "cell_type": "markdown",
   "id": "98aa6552-5d9d-4e31-93f9-80de8478ae14",
   "metadata": {},
   "source": [
    "## Notes on which have what"
   ]
  },
  {
   "cell_type": "markdown",
   "id": "7ad57a70-3011-4bae-a07c-2b1bd126a404",
   "metadata": {},
   "source": [
    "### BCG1"
   ]
  },
  {
   "cell_type": "code",
   "execution_count": 3,
   "id": "8179707f-17f2-4ecc-8184-485a5dce99fb",
   "metadata": {},
   "outputs": [],
   "source": [
    "bcg1_file_path = 'outputs/eso_cube_notes/bcg1_eso_cube_notes.json'\n",
    "if os.path.exists(bcg1_file_path):\n",
    "    raise FileExistsError(\"Don't want to overwrite the existing note file, remove it or change the name before running again.\")"
   ]
  },
  {
   "cell_type": "code",
   "execution_count": 4,
   "id": "b9504a4d-2c84-42e7-869c-fbffb068796e",
   "metadata": {},
   "outputs": [],
   "source": [
    "bcg_ones = {n: {'muse': None, 'alma': None, 'kmos': None, 'em_line': None, 'notes': \"\"} for n in bcg_samp['cluster_name'].values}"
   ]
  },
  {
   "cell_type": "markdown",
   "id": "e2e79818-4372-4748-bc72-029db3e4ee55",
   "metadata": {},
   "source": [
    "**For MUSE, I've been lumping together MUSE-DEEP and MUSE entries, but I think MUSE-DEEP might duplicate them. I am changing how I record this from LoVoCCS-21 onwards, and may correct earlier entries. Not that the absolute number really matters**\n",
    "\n",
    "**Now I'm not sure that is right** - for LoVoCCS-67 and onwards will report the number including MUSE-DEEP "
   ]
  },
  {
   "cell_type": "code",
   "execution_count": 5,
   "id": "8e2d2acc-76b9-4c7d-8093-2845ef8a074b",
   "metadata": {},
   "outputs": [],
   "source": [
    "cur_name = 'LoVoCCS-1'\n",
    "bcg_ones[cur_name]['muse'] = 4\n",
    "bcg_ones[cur_name]['em_line'] = False\n",
    "\n",
    "cur_name = 'LoVoCCS-4A'\n",
    "bcg_ones[cur_name]['muse'] = 7\n",
    "bcg_ones[cur_name]['em_line'] = True\n",
    "bcg_ones[cur_name]['kmos'] = 4\n",
    "\n",
    "cur_name = 'LoVoCCS-5'\n",
    "bcg_ones[cur_name]['muse'] = 1\n",
    "bcg_ones[cur_name]['em_line'] = False\n",
    "\n",
    "cur_name = 'LoVoCCS-7'\n",
    "bcg_ones[cur_name]['muse'] = 9\n",
    "bcg_ones[cur_name]['em_line'] = False\n",
    "bcg_ones[cur_name]['notes'] = (\"Don't think there are emission lines, but this is a busy grouping of galaxies and \"\n",
    "                                \"there are arcs? Not sure but maybe the spectrum is odd?\")\n",
    "\n",
    "cur_name = 'LoVoCCS-9'\n",
    "bcg_ones[cur_name]['muse'] = 1\n",
    "bcg_ones[cur_name]['em_line'] = False\n",
    "\n",
    "cur_name = 'LoVoCCS-12'\n",
    "bcg_ones[cur_name]['muse'] = 7\n",
    "bcg_ones[cur_name]['em_line'] = False\n",
    "\n",
    "cur_name = 'LoVoCCS-13'\n",
    "bcg_ones[cur_name]['muse'] = 3\n",
    "bcg_ones[cur_name]['alma'] = 1\n",
    "bcg_ones[cur_name]['kmos'] = 6\n",
    "bcg_ones[cur_name]['em_line'] = True\n",
    "bcg_ones[cur_name]['notes'] = \"Very wide lines in MUSE. Have >2micron spectra from KMOS, but harder to interpret spatially.\"\n",
    "\n",
    "cur_name = 'LoVoCCS-14'\n",
    "bcg_ones[cur_name]['muse'] = 5\n",
    "bcg_ones[cur_name]['em_line'] = False\n",
    "\n",
    "cur_name = 'LoVoCCS-15'\n",
    "bcg_ones[cur_name]['muse'] = 1\n",
    "bcg_ones[cur_name]['alma'] = 7\n",
    "bcg_ones[cur_name]['em_line'] = True\n",
    "bcg_ones[cur_name]['notes'] = \"I mean, its A2597. Lines also look very wide, could just be how they're displayed\"\n",
    "\n",
    "cur_name = 'LoVoCCS-21'\n",
    "bcg_ones[cur_name]['muse'] = 27\n",
    "bcg_ones[cur_name]['kmos'] = 3\n",
    "bcg_ones[cur_name]['em_line'] = False\n",
    "bcg_ones[cur_name]['notes'] = \"Don't think there are emission lines from the BCG, certainly not strong ones?\"\n",
    "\n",
    "cur_name = 'LoVoCCS-24'\n",
    "bcg_ones[cur_name]['muse'] = True\n",
    "bcg_ones[cur_name]['em_line'] = False\n",
    "\n",
    "cur_name = 'LoVoCCS-26'\n",
    "bcg_ones[cur_name]['muse'] = True\n",
    "bcg_ones[cur_name]['em_line'] = False\n",
    "\n",
    "cur_name = 'LoVoCCS-29'\n",
    "bcg_ones[cur_name]['muse'] = 1\n",
    "bcg_ones[cur_name]['em_line'] = False\n",
    "bcg_ones[cur_name]['notes'] = \"Distinct hard drop offs in emission on the edges of the BCG\"\n",
    "\n",
    "cur_name = 'LoVoCCS-30'\n",
    "bcg_ones[cur_name]['muse'] = 1\n",
    "bcg_ones[cur_name]['alma'] = 13\n",
    "bcg_ones[cur_name]['em_line'] = True\n",
    "\n",
    "cur_name = 'LoVoCCS-31'\n",
    "bcg_ones[cur_name]['muse'] = 1\n",
    "bcg_ones[cur_name]['em_line'] = False\n",
    "\n",
    "cur_name = 'LoVoCCS-39'\n",
    "bcg_ones[cur_name]['muse'] = 1\n",
    "bcg_ones[cur_name]['em_line'] = True\n",
    "bcg_ones[cur_name]['notes'] = \"Think there are emission lines, but not sure.\"\n",
    "\n",
    "cur_name = 'LoVoCCS-48A'\n",
    "bcg_ones[cur_name]['muse'] = 2\n",
    "bcg_ones[cur_name]['alma'] = 6\n",
    "bcg_ones[cur_name]['em_line'] = True\n",
    "\n",
    "cur_name = 'LoVoCCS-67'\n",
    "bcg_ones[cur_name]['muse'] = 7\n",
    "bcg_ones[cur_name]['em_line'] = True\n",
    "\n",
    "cur_name = 'LoVoCCS-75'\n",
    "bcg_ones[cur_name]['muse'] = 1\n",
    "bcg_ones[cur_name]['alma'] = 1\n",
    "bcg_ones[cur_name]['em_line'] = True\n",
    "bcg_ones[cur_name]['notes'] = \"Emission lines from small filament\"\n",
    "\n",
    "cur_name = 'LoVoCCS-85'\n",
    "bcg_ones[cur_name]['muse'] = 1\n",
    "bcg_ones[cur_name]['em_line'] = False\n",
    "bcg_ones[cur_name]['notes'] = (\"A LOT going on here morphology wise. Maybe emission lines from the long \"\n",
    "                               \"structure to the left of BCG, but not the actual BCG I don't think\")\n",
    "\n",
    "cur_name = 'LoVoCCS-93A'\n",
    "bcg_ones[cur_name]['muse'] = 11\n",
    "bcg_ones[cur_name]['em_line'] = True\n",
    "bcg_ones[cur_name]['notes'] = \"Maybe some small em lines.\"\n",
    "\n",
    "cur_name = 'LoVoCCS-119'\n",
    "bcg_ones[cur_name]['muse'] = 1\n",
    "bcg_ones[cur_name]['alma'] = 2\n",
    "bcg_ones[cur_name]['em_line'] = True\n",
    "bcg_ones[cur_name]['notes'] = \"Extended low SB emission also demonstrates emission lines\"\n",
    "\n",
    "cur_name = 'LoVoCCS-123'\n",
    "bcg_ones[cur_name]['muse'] = 1\n",
    "bcg_ones[cur_name]['em_line'] = True\n",
    "bcg_ones[cur_name]['notes'] = \"Tentative yes to emission line, but I'm not quite sure.\""
   ]
  },
  {
   "cell_type": "markdown",
   "id": "37b7ae55-280c-4255-bd1e-36de67dd83e6",
   "metadata": {},
   "source": [
    "How many have some MUSE coverage:"
   ]
  },
  {
   "cell_type": "code",
   "execution_count": 6,
   "id": "88fc9b36-8d89-4688-9996-4c399c96a81f",
   "metadata": {},
   "outputs": [
    {
     "data": {
      "text/plain": [
       "23"
      ]
     },
     "execution_count": 6,
     "metadata": {},
     "output_type": "execute_result"
    }
   ],
   "source": [
    "sum([bcg_ones[n]['muse'] is not None for n in bcg_ones])"
   ]
  },
  {
   "cell_type": "markdown",
   "id": "74d6c32a-43cd-49c0-9863-92673c0af28b",
   "metadata": {},
   "source": [
    "How many have some ALMA coverage:"
   ]
  },
  {
   "cell_type": "code",
   "execution_count": 7,
   "id": "132f3d79-24e5-4ea6-87bf-6e073d1686f8",
   "metadata": {},
   "outputs": [
    {
     "data": {
      "text/plain": [
       "6"
      ]
     },
     "execution_count": 7,
     "metadata": {},
     "output_type": "execute_result"
    }
   ],
   "source": [
    "sum([bcg_ones[n]['alma'] is not None for n in bcg_ones])"
   ]
  },
  {
   "cell_type": "markdown",
   "id": "1603acf5-35a4-47b4-bd99-14e205e86f88",
   "metadata": {},
   "source": [
    "How many have some KMOS coverage:"
   ]
  },
  {
   "cell_type": "code",
   "execution_count": 8,
   "id": "56915680-7cba-4276-a53b-b798cf4168e4",
   "metadata": {},
   "outputs": [
    {
     "data": {
      "text/plain": [
       "3"
      ]
     },
     "execution_count": 8,
     "metadata": {},
     "output_type": "execute_result"
    }
   ],
   "source": [
    "sum([bcg_ones[n]['kmos'] is not None for n in bcg_ones])"
   ]
  },
  {
   "cell_type": "markdown",
   "id": "504d5bef-7296-40a7-9f79-914bc35f1ab1",
   "metadata": {},
   "source": [
    "How many might have emission lines:"
   ]
  },
  {
   "cell_type": "code",
   "execution_count": 9,
   "id": "94fcda5c-02b5-4d42-91f8-df9041b8a258",
   "metadata": {},
   "outputs": [
    {
     "data": {
      "text/plain": [
       "11"
      ]
     },
     "execution_count": 9,
     "metadata": {},
     "output_type": "execute_result"
    }
   ],
   "source": [
    "sum([bcg_ones[n]['em_line'] is True for n in bcg_ones])"
   ]
  },
  {
   "cell_type": "markdown",
   "id": "125eae78-89aa-465a-87f5-d70d4f3038e0",
   "metadata": {},
   "source": [
    "Saving the notes:"
   ]
  },
  {
   "cell_type": "code",
   "execution_count": 10,
   "id": "b0360aad-cdb7-4155-b1f2-8bcaabdec315",
   "metadata": {},
   "outputs": [],
   "source": [
    "with open(bcg1_file_path, 'w') as noteo:\n",
    "    json.dump(bcg_ones, noteo)"
   ]
  },
  {
   "cell_type": "markdown",
   "id": "1f40622d-6d4d-4a90-a2fa-f67cb568c192",
   "metadata": {},
   "source": [
    "### BCG2"
   ]
  },
  {
   "cell_type": "code",
   "execution_count": 11,
   "id": "60ea9bf2-34a6-4f2b-a36d-49ad6c7d32be",
   "metadata": {},
   "outputs": [],
   "source": [
    "bcg2_file_path = 'outputs/eso_cube_notes/bcg2_eso_cube_notes.json'\n",
    "if os.path.exists(bcg2_file_path):\n",
    "    raise FileExistsError(\"Don't want to overwrite the existing note file, remove it or change the name before running again.\")"
   ]
  },
  {
   "cell_type": "code",
   "execution_count": 12,
   "id": "a4ad1bff-ff8f-4e56-a2f7-8ad76e225f2a",
   "metadata": {},
   "outputs": [],
   "source": [
    "bcg_twos = {n: {'muse': None, 'alma': None, 'kmos': None, 'em_line': None, 'notes': \"\"} for n in bcg_samp['cluster_name'].values}"
   ]
  },
  {
   "cell_type": "code",
   "execution_count": 13,
   "id": "c0aab315-6ce3-4ee6-8058-13a1147e3580",
   "metadata": {},
   "outputs": [],
   "source": [
    "cur_name = 'LoVoCCS-21'\n",
    "bcg_twos[cur_name]['muse'] = 3\n",
    "bcg_twos[cur_name]['em_line'] = False"
   ]
  },
  {
   "cell_type": "markdown",
   "id": "4b51ae48-66fb-4e41-893b-38bc49fb6f1a",
   "metadata": {},
   "source": [
    "Saving the notes:"
   ]
  },
  {
   "cell_type": "code",
   "execution_count": 14,
   "id": "1ca51180-3442-49bc-9ee0-d91049c7436a",
   "metadata": {},
   "outputs": [],
   "source": [
    "with open(bcg2_file_path, 'w') as noteo:\n",
    "    json.dump(bcg_twos, noteo)"
   ]
  },
  {
   "cell_type": "markdown",
   "id": "22c51368-60c4-4b25-847c-6253efb11d41",
   "metadata": {},
   "source": [
    "### BCG3"
   ]
  },
  {
   "cell_type": "markdown",
   "id": "bc2c0aff-c3bc-4e09-a87d-d4b71eff2982",
   "metadata": {},
   "source": [
    "**None of these have any cubes from ESO**"
   ]
  },
  {
   "cell_type": "code",
   "execution_count": 15,
   "id": "4e8e4863-c3e9-464d-8102-ed3cd01bd191",
   "metadata": {},
   "outputs": [],
   "source": [
    "bcg3_file_path = 'outputs/eso_cube_notes/bcg3_eso_cube_notes.json'\n",
    "if os.path.exists(bcg3_file_path):\n",
    "    raise FileExistsError(\"Don't want to overwrite the existing note file, remove it or change the name before running again.\")"
   ]
  },
  {
   "cell_type": "code",
   "execution_count": 16,
   "id": "b67b51e8-d430-4e33-9c60-239dfa398aab",
   "metadata": {},
   "outputs": [],
   "source": [
    "bcg_threes = {n: {'muse': None, 'alma': None, 'kmos': None, 'em_line': None, 'notes': \"\"} for n in bcg_samp['cluster_name'].values}"
   ]
  },
  {
   "cell_type": "markdown",
   "id": "bca4538a-2e8b-482a-925e-0020c9ecd7b0",
   "metadata": {},
   "source": [
    "Saving the notes:"
   ]
  },
  {
   "cell_type": "code",
   "execution_count": 17,
   "id": "8b7177aa-5570-4a7d-9c20-3f60084ed735",
   "metadata": {},
   "outputs": [],
   "source": [
    "with open(bcg3_file_path, 'w') as noteo:\n",
    "    json.dump(bcg_threes, noteo)"
   ]
  },
  {
   "cell_type": "markdown",
   "id": "e99e5170-b40b-44d6-925e-c26a44b5e71e",
   "metadata": {},
   "source": [
    "### BCG4"
   ]
  },
  {
   "cell_type": "markdown",
   "id": "dfe6c94c-bb27-474c-9c13-09c278f7d5e0",
   "metadata": {},
   "source": [
    "**None of these have any cubes from ESO**"
   ]
  },
  {
   "cell_type": "code",
   "execution_count": 18,
   "id": "97433858-bb26-4387-8953-9a87bad27c3d",
   "metadata": {},
   "outputs": [],
   "source": [
    "bcg_fours = {n: {'muse': None, 'alma': None, 'kmos': None, 'em_line': None, 'notes': \"\"} for n in bcg_samp['cluster_name'].values}"
   ]
  },
  {
   "cell_type": "code",
   "execution_count": 19,
   "id": "e03d0011-35ea-4206-9469-39f5fe4935ed",
   "metadata": {},
   "outputs": [],
   "source": [
    "bcg4_file_path = 'outputs/eso_cube_notes/bcg4_eso_cube_notes.json'\n",
    "if os.path.exists(bcg4_file_path):\n",
    "    raise FileExistsError(\"Don't want to overwrite the existing note file, remove it or change the name before running again.\")"
   ]
  },
  {
   "cell_type": "markdown",
   "id": "b8fb3c90-787a-4bc8-833b-3bb5ef102851",
   "metadata": {},
   "source": [
    "Saving the notes:"
   ]
  },
  {
   "cell_type": "code",
   "execution_count": 20,
   "id": "c622e3dc-9961-4a35-9e33-5c5072d9a67e",
   "metadata": {},
   "outputs": [],
   "source": [
    "with open(bcg4_file_path, 'w') as noteo:\n",
    "    json.dump(bcg_fours, noteo)"
   ]
  }
 ],
 "metadata": {
  "kernelspec": {
   "display_name": "Python 3 (ipykernel)",
   "language": "python",
   "name": "python3"
  },
  "language_info": {
   "codemirror_mode": {
    "name": "ipython",
    "version": 3
   },
   "file_extension": ".py",
   "mimetype": "text/x-python",
   "name": "python",
   "nbconvert_exporter": "python",
   "pygments_lexer": "ipython3",
   "version": "3.12.9"
  }
 },
 "nbformat": 4,
 "nbformat_minor": 5
}
