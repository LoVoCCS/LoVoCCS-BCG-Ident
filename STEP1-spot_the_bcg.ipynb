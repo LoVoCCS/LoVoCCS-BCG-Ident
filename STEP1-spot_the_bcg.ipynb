{
 "cells": [
  {
   "cell_type": "markdown",
   "id": "1d3ee1b9-b1a3-42af-94c8-d482ea63ffec",
   "metadata": {},
   "source": [
    "# Notebook **One** - Identifying the position(s) of Brightest Cluster Galaxies (BCGs)"
   ]
  },
  {
   "cell_type": "markdown",
   "id": "82ca0de5-e85e-4f3e-ae40-5f6d2bd34e54",
   "metadata": {},
   "source": [
    "This notebook contains everything necessary for you to work on the first step of this project - actually identifying which member galaxy (or galaxies, or none) of a galaxy cluster is the **BCG**. \n",
    "\n",
    "**Galaxy clusters** are single, gravitationally bound, objects made up of a **lot** of dark matter, quite a lot of hot gas (which is what emits X-rays), and the galaxies themselves (there are other components, but they don't matter right now).\n",
    "\n",
    "**A BCG** is the most massive, brightest, galaxy in a cluster (though there can be multiple BCGs, or no obvious BCG at all).\n",
    "\n",
    "**What will we get out of this stage of the project?**\n",
    "\n",
    "* For each galaxy cluster in this sample, we get the *coordinates* of the galaxy (or galaxies) that you have identified as being the BCG(s).\n",
    "* We will also know if there is **no obvious BCG** which is very useful information in and of itself.\n",
    "\n",
    "*Once you have examined all of these clusters, we will begin to gather more information about these galaxies from some online databases.*"
   ]
  },
  {
   "cell_type": "markdown",
   "id": "f9aec039-303f-4993-afa7-64f3108cacc8",
   "metadata": {},
   "source": [
    "## Import statements and reading history/sample"
   ]
  },
  {
   "cell_type": "code",
   "execution_count": 1,
   "id": "e7685e4d-438d-4576-9513-a8b23611a473",
   "metadata": {},
   "outputs": [],
   "source": [
    "%matplotlib ipympl\n",
    "\n",
    "from ident_run_setup import cosmo, side_length, HISTORY_FILE_PATH, load_history, proj_name, update_history, InteractiveView\n",
    "\n",
    "from xga.products import Image\n",
    "\n",
    "from astropy.wcs import WCS\n",
    "from astropy.units import Quantity\n",
    "from astropy.visualization import MinMaxInterval, LogStretch\n",
    "import matplotlib\n",
    "from matplotlib import pyplot as plt\n",
    "# from matplotlib_scalebar.scalebar import ScaleBar\n",
    "from matplotlib.colors import LinearSegmentedColormap\n",
    "import numpy as np\n",
    "import pandas as pd\n",
    "pd.set_option('display.max_columns', 500)\n",
    "\n",
    "%matplotlib ipympl"
   ]
  },
  {
   "cell_type": "markdown",
   "id": "9bc2dce2-0219-4850-989f-672682e17616",
   "metadata": {},
   "source": [
    "The framework I've designed for this process (i.e. these notebooks) is trying to keep a useful history of the process - it has recorded the images that we were able to download or generate, and which you'll be looking at in this notebook - and will also help you to more easily record the galaxies that you identify as being possible BCGs. \n",
    "\n",
    "**As this hasn't been tested much, it might be a good idea to keep your own backup copies of the coordinates you identify, by copying the 'history/bcg_ident_proj_save.json' file to some other place on your computer when you're done with each session of identifying BCGs - you could also change the name to add the date and time you made the copy** "
   ]
  },
  {
   "cell_type": "code",
   "execution_count": 2,
   "id": "8d995442-f67c-4aad-b526-49bac032919a",
   "metadata": {},
   "outputs": [],
   "source": [
    "cur_history = load_history()"
   ]
  },
  {
   "cell_type": "markdown",
   "id": "e7467a0b-3277-49f6-b2d3-5397211acaf7",
   "metadata": {},
   "source": [
    "We read the total sample file into a Pandas dataframe:"
   ]
  },
  {
   "cell_type": "code",
   "execution_count": 3,
   "id": "fe98a6b7-69c5-4135-a064-346d366a4dfb",
   "metadata": {},
   "outputs": [
    {
     "data": {
      "text/html": [
       "<div>\n",
       "<style scoped>\n",
       "    .dataframe tbody tr th:only-of-type {\n",
       "        vertical-align: middle;\n",
       "    }\n",
       "\n",
       "    .dataframe tbody tr th {\n",
       "        vertical-align: top;\n",
       "    }\n",
       "\n",
       "    .dataframe thead th {\n",
       "        text-align: right;\n",
       "    }\n",
       "</style>\n",
       "<table border=\"1\" class=\"dataframe\">\n",
       "  <thead>\n",
       "    <tr style=\"text-align: right;\">\n",
       "      <th></th>\n",
       "      <th>LoVoCCSID</th>\n",
       "      <th>common_name</th>\n",
       "      <th>cent_im_ra</th>\n",
       "      <th>cent_im_dec</th>\n",
       "      <th>redshift</th>\n",
       "      <th>MCXC_R500</th>\n",
       "      <th>MCXC_RA</th>\n",
       "      <th>MCXC_DEC</th>\n",
       "      <th>manual_xray_ra</th>\n",
       "      <th>manual_xray_dec</th>\n",
       "      <th>MCXC_Lx500_0.1_2.4</th>\n",
       "      <th>name</th>\n",
       "      <th>ang_prop_ratio</th>\n",
       "    </tr>\n",
       "  </thead>\n",
       "  <tbody>\n",
       "    <tr>\n",
       "      <th>0</th>\n",
       "      <td>1</td>\n",
       "      <td>A2029</td>\n",
       "      <td>227.7343</td>\n",
       "      <td>5.745471</td>\n",
       "      <td>0.0766</td>\n",
       "      <td>1.3344</td>\n",
       "      <td>227.73</td>\n",
       "      <td>5.72</td>\n",
       "      <td>227.7343</td>\n",
       "      <td>5.745471</td>\n",
       "      <td>8.726709e+44</td>\n",
       "      <td>LoVoCCS-1</td>\n",
       "      <td>86.035164</td>\n",
       "    </tr>\n",
       "    <tr>\n",
       "      <th>1</th>\n",
       "      <td>2</td>\n",
       "      <td>A401</td>\n",
       "      <td>44.7400</td>\n",
       "      <td>13.580000</td>\n",
       "      <td>0.0739</td>\n",
       "      <td>1.2421</td>\n",
       "      <td>44.74</td>\n",
       "      <td>13.58</td>\n",
       "      <td>NaN</td>\n",
       "      <td>NaN</td>\n",
       "      <td>6.088643e+44</td>\n",
       "      <td>LoVoCCS-2</td>\n",
       "      <td>83.258258</td>\n",
       "    </tr>\n",
       "  </tbody>\n",
       "</table>\n",
       "</div>"
      ],
      "text/plain": [
       "  LoVoCCSID common_name  cent_im_ra  cent_im_dec  redshift  MCXC_R500  \\\n",
       "0         1       A2029    227.7343     5.745471    0.0766     1.3344   \n",
       "1         2        A401     44.7400    13.580000    0.0739     1.2421   \n",
       "\n",
       "   MCXC_RA  MCXC_DEC  manual_xray_ra  manual_xray_dec  MCXC_Lx500_0.1_2.4  \\\n",
       "0   227.73      5.72        227.7343         5.745471        8.726709e+44   \n",
       "1    44.74     13.58             NaN              NaN        6.088643e+44   \n",
       "\n",
       "        name  ang_prop_ratio  \n",
       "0  LoVoCCS-1       86.035164  \n",
       "1  LoVoCCS-2       83.258258  "
      ]
     },
     "execution_count": 3,
     "metadata": {},
     "output_type": "execute_result"
    }
   ],
   "source": [
    "# This reads the 'comma separated variable', or CSV/csv, file (which contains information about the sample of clusters\n",
    "#  being investigated), from disk (on the hard-disk drive\\HDD, or solid state disk\\SSD) into memory (a much faster form of storage \n",
    "#  called Random Access Memory\\RAM, where files being used by the operating system or currently running software live). We are using \n",
    "#  a Python module called 'Pandas' to read it in - think of it almost like a Python version of Excel\n",
    "samp = pd.read_csv(cur_history['static_samp_file'])\n",
    "# This method shows the top two lines of the loaded-in sample file\n",
    "samp.head(2)"
   ]
  },
  {
   "cell_type": "markdown",
   "id": "3b91199f-a83a-4318-a2a4-ca6905886a67",
   "metadata": {},
   "source": [
    "All cluster names:"
   ]
  },
  {
   "cell_type": "code",
   "execution_count": 4,
   "id": "9b594789-cc5f-41a1-9ab4-cbc2d2faf6a8",
   "metadata": {},
   "outputs": [
    {
     "name": "stdout",
     "output_type": "stream",
     "text": [
      "['LoVoCCS-1', 'LoVoCCS-2', 'LoVoCCS-4A', 'LoVoCCS-4B', 'LoVoCCS-5', 'LoVoCCS-7', 'LoVoCCS-9', 'LoVoCCS-10', 'LoVoCCS-11', 'LoVoCCS-12', 'LoVoCCS-13', 'LoVoCCS-14', 'LoVoCCS-15', 'LoVoCCS-18', 'LoVoCCS-21', 'LoVoCCS-22', 'LoVoCCS-24', 'LoVoCCS-26', 'LoVoCCS-27', 'LoVoCCS-28', 'LoVoCCS-29', 'LoVoCCS-30', 'LoVoCCS-31', 'LoVoCCS-33', 'LoVoCCS-35', 'LoVoCCS-39', 'LoVoCCS-41A', 'LoVoCCS-41B', 'LoVoCCS-41C', 'LoVoCCS-42', 'LoVoCCS-45', 'LoVoCCS-46A', 'LoVoCCS-46B', 'LoVoCCS-46C', 'LoVoCCS-48A', 'LoVoCCS-48B', 'LoVoCCS-49', 'LoVoCCS-51', 'LoVoCCS-55', 'LoVoCCS-58', 'LoVoCCS-60A', 'LoVoCCS-60B', 'LoVoCCS-61', 'LoVoCCS-63', 'LoVoCCS-65', 'LoVoCCS-66A', 'LoVoCCS-66B', 'LoVoCCS-67', 'LoVoCCS-74', 'LoVoCCS-75', 'LoVoCCS-76', 'LoVoCCS-80', 'LoVoCCS-85', 'LoVoCCS-89', 'LoVoCCS-90', 'LoVoCCS-93A', 'LoVoCCS-93B', 'LoVoCCS-94', 'LoVoCCS-98', 'LoVoCCS-99', 'LoVoCCS-108', 'LoVoCCS-119', 'LoVoCCS-121', 'LoVoCCS-122', 'LoVoCCS-123', 'LoVoCCS-131', 'LoVoCCS-134']\n"
     ]
    }
   ],
   "source": [
    "print(list(samp['name'].values))"
   ]
  },
  {
   "cell_type": "markdown",
   "id": "8cb3ae16-9e0f-46f3-97b9-821ee4651d68",
   "metadata": {},
   "source": [
    "## A CAVEAT"
   ]
  },
  {
   "cell_type": "markdown",
   "id": "80a89aed-1bfa-426d-a269-0cc7908bb3ed",
   "metadata": {},
   "source": [
    "For technical reasons that I won't explain here, the only to get this interactive plot process working in Jupyter Notebooks (in its current form at least) is to run the notebook for one cluster, then restart it and run it again for the next, and so on.\n",
    "\n",
    "This stepping through of clusters will happen automatically - once the project history has an entry for BCG coordinates from your investigation, the next time the notebook is run it will move on to the next cluster without BCG coordinates. If you want to go back to a specific cluster and overwrite your first attempt, you can set the variable below to the cluster name (e.g. 'SDSSXCS-124', make sure the name is a string with the '' around it) - **before you run the notebook again, make sure to set `overwrite_cluster=None`, and note that None doesn't have any '' around it, as it is not a string**"
   ]
  },
  {
   "cell_type": "code",
   "execution_count": 5,
   "id": "7129059c-0580-4159-87cf-3fc89560e2c9",
   "metadata": {},
   "outputs": [],
   "source": [
    "# You can change this per the instructions above\n",
    "overwrite_cluster = None\n",
    "\n",
    "# Don't change this though\n",
    "if overwrite_cluster is not None and overwrite_cluster not in samp['name'].values:\n",
    "    raise ValueError(\"The overwriting cluster name you set does not correspond to a name in the sample, check \"\\\n",
    "        \"to make sure you typed it correctly!\")"
   ]
  },
  {
   "cell_type": "markdown",
   "id": "335967a8-b47a-4117-91c4-9c550fee83c5",
   "metadata": {},
   "source": [
    "Here we identify the next cluster that doesn't have any recorded BCG identifications, which will be the next one you'll work on - this makes use of the 'history' that is being written as you go through the sample."
   ]
  },
  {
   "cell_type": "code",
   "execution_count": 6,
   "id": "49ffd938-9c4c-4e1c-a223-a5685186c73d",
   "metadata": {},
   "outputs": [
    {
     "name": "stdout",
     "output_type": "stream",
     "text": [
      "BCG candidate identification is 100.0% complete.\n"
     ]
    },
    {
     "ename": "IndexError",
     "evalue": "index 0 is out of bounds for axis 0 with size 0",
     "output_type": "error",
     "traceback": [
      "\u001b[0;31m---------------------------------------------------------------------------\u001b[0m",
      "\u001b[0;31mIndexError\u001b[0m                                Traceback (most recent call last)",
      "Cell \u001b[0;32mIn[6], line 16\u001b[0m\n\u001b[1;32m     11\u001b[0m \u001b[38;5;28mprint\u001b[39m(\u001b[38;5;124m'\u001b[39m\u001b[38;5;124mBCG candidate identification is \u001b[39m\u001b[38;5;132;01m{p}\u001b[39;00m\u001b[38;5;132;01m% c\u001b[39;00m\u001b[38;5;124momplete.\u001b[39m\u001b[38;5;124m'\u001b[39m\u001b[38;5;241m.\u001b[39mformat(p\u001b[38;5;241m=\u001b[39m\u001b[38;5;28mround\u001b[39m((num_bcg_comp\u001b[38;5;241m/\u001b[39mcur_history[\u001b[38;5;124m'\u001b[39m\u001b[38;5;124mnum_clusters\u001b[39m\u001b[38;5;124m'\u001b[39m])\u001b[38;5;241m*\u001b[39m\u001b[38;5;241m100\u001b[39m, \u001b[38;5;241m2\u001b[39m)))\n\u001b[1;32m     13\u001b[0m \u001b[38;5;28;01mif\u001b[39;00m overwrite_cluster \u001b[38;5;129;01mis\u001b[39;00m \u001b[38;5;28;01mNone\u001b[39;00m:\n\u001b[1;32m     14\u001b[0m     \u001b[38;5;66;03m# Finds the first cluster with a 'False' value in the 'ident_complete' column - though only if you haven't\u001b[39;00m\n\u001b[1;32m     15\u001b[0m     \u001b[38;5;66;03m#  set an overwriting cluster name above\u001b[39;00m\n\u001b[0;32m---> 16\u001b[0m     cur_name \u001b[38;5;241m=\u001b[39m \u001b[43mident_comp_df\u001b[49m\u001b[38;5;241;43m.\u001b[39;49m\u001b[43mloc\u001b[49m\u001b[43m[\u001b[49m\u001b[38;5;241;43m~\u001b[39;49m\u001b[43mident_comp_df\u001b[49m\u001b[43m[\u001b[49m\u001b[38;5;124;43m'\u001b[39;49m\u001b[38;5;124;43mident_complete\u001b[39;49m\u001b[38;5;124;43m'\u001b[39;49m\u001b[43m]\u001b[49m\u001b[43m]\u001b[49m\u001b[38;5;241;43m.\u001b[39;49m\u001b[43mindex\u001b[49m\u001b[43m[\u001b[49m\u001b[38;5;241;43m0\u001b[39;49m\u001b[43m]\u001b[49m\n\u001b[1;32m     17\u001b[0m \u001b[38;5;28;01melse\u001b[39;00m:\n\u001b[1;32m     18\u001b[0m     cur_name \u001b[38;5;241m=\u001b[39m overwrite_cluster\n",
      "File \u001b[0;32m~/software/anaconda3/envs/bcg-ident/lib/python3.12/site-packages/pandas/core/indexes/base.py:5389\u001b[0m, in \u001b[0;36mIndex.__getitem__\u001b[0;34m(self, key)\u001b[0m\n\u001b[1;32m   5386\u001b[0m \u001b[38;5;28;01mif\u001b[39;00m is_integer(key) \u001b[38;5;129;01mor\u001b[39;00m is_float(key):\n\u001b[1;32m   5387\u001b[0m     \u001b[38;5;66;03m# GH#44051 exclude bool, which would return a 2d ndarray\u001b[39;00m\n\u001b[1;32m   5388\u001b[0m     key \u001b[38;5;241m=\u001b[39m com\u001b[38;5;241m.\u001b[39mcast_scalar_indexer(key)\n\u001b[0;32m-> 5389\u001b[0m     \u001b[38;5;28;01mreturn\u001b[39;00m \u001b[43mgetitem\u001b[49m\u001b[43m(\u001b[49m\u001b[43mkey\u001b[49m\u001b[43m)\u001b[49m\n\u001b[1;32m   5391\u001b[0m \u001b[38;5;28;01mif\u001b[39;00m \u001b[38;5;28misinstance\u001b[39m(key, \u001b[38;5;28mslice\u001b[39m):\n\u001b[1;32m   5392\u001b[0m     \u001b[38;5;66;03m# This case is separated from the conditional above to avoid\u001b[39;00m\n\u001b[1;32m   5393\u001b[0m     \u001b[38;5;66;03m# pessimization com.is_bool_indexer and ndim checks.\u001b[39;00m\n\u001b[1;32m   5394\u001b[0m     \u001b[38;5;28;01mreturn\u001b[39;00m \u001b[38;5;28mself\u001b[39m\u001b[38;5;241m.\u001b[39m_getitem_slice(key)\n",
      "\u001b[0;31mIndexError\u001b[0m: index 0 is out of bounds for axis 0 with size 0"
     ]
    }
   ],
   "source": [
    "# Here we use the 'complete' flag stored in the BCG identification history to measure the number of clusters\n",
    "#  for which the BCG candidate process is complete\n",
    "# A bit of a silly step to just extract the 'ident_complete' info from the dictionaries of particular clusters, as they\n",
    "#  could have other entries (like BCG info for instance)\n",
    "just_complete = {n: {'ident_complete': cur_history['bcg_identification'][n]['ident_complete']} \n",
    "                 for n in cur_history['bcg_identification']}\n",
    "ident_comp_df = pd.DataFrame(just_complete).T\n",
    "num_bcg_comp = ident_comp_df['ident_complete'].sum()\n",
    "\n",
    "# Show a quick progress update on identifying the BCGs\n",
    "print('BCG candidate identification is {p}% complete.'.format(p=round((num_bcg_comp/cur_history['num_clusters'])*100, 2)))\n",
    "\n",
    "if overwrite_cluster is None:\n",
    "    # Finds the first cluster with a 'False' value in the 'ident_complete' column - though only if you haven't\n",
    "    #  set an overwriting cluster name above\n",
    "    cur_name = ident_comp_df.loc[~ident_comp_df['ident_complete']].index[0]\n",
    "else:\n",
    "    cur_name = overwrite_cluster\n",
    "\n",
    "# Now we read out the relevant row of the sample table\n",
    "cur_row = samp[samp['name'] == cur_name].iloc[0]\n",
    "cur_row"
   ]
  },
  {
   "cell_type": "markdown",
   "id": "b6ac87bf-979f-4245-97ca-da6ec79b746d",
   "metadata": {},
   "source": [
    "## Searching for BCG candidates"
   ]
  },
  {
   "cell_type": "markdown",
   "id": "8f80dda2-3cf4-4dc0-9f51-6e83b9072f58",
   "metadata": {},
   "source": [
    "Optical and near-infrared wavelengths are where galaxies in general emit the most light, and thus are easiest to see and identify. You will be looking at optical images that I have taken from the 'Dark Energy Spectroscopic Instrument' (DESI) Legacy Survey, which is essentially  a set of uniformly processed observations (some were in the telescope archives from other projects, some they proposed for specifically) that they combined and analysed - this was all to identify targets for DESI (which takes optical/near-infrared *spectra* rather than the images you are looking at). They also have an [online viewer for their survey](https://www.legacysurvey.org/viewer#IC%202455) which is pretty great (if a little slow sometimes).\n",
    "\n",
    "For this task you will also be able to view the X-ray emission from the galaxy cluster itself - this is in another image to the right hand side, and is mostly there to provide some context for where the galaxy cluster is and where to start looking for the BCGs. The X-ray data are from a European Space Agency (ESA) telescope called XMM-Newton, which is particularly good for a lot of galaxy cluster work.\n",
    "\n",
    "**What are you looking for?**\n",
    "\n",
    "1. A collection of yellow-ish galaxies, with an elliptical shape - these will likely be cluster members. With enough experience it is possible to look at an image and say whether there is a cluster there or not, but you won't have this problem as **all of the optical images are centered on the X-ray coordinates of known galaxy clusters**.\n",
    "2. Of those galaxies, are there any that stand out as **being much larger than the others?**\n",
    "3. When you click on them and the cross-hair appears, are they within the bright extended source in the X-ray image? It is also possible that they are BCGs of another galaxy cluster in the field, so when you click does the cross seem to be associated with another extended X-ray source?\n",
    "\n",
    "**A suggestion for a procedure to use:**\n",
    "\n",
    "1. Identify the extended X-ray source we're centered on (by looking for the center of the red box on the X-ray image - you can also click in the centre of the optical image to put a cross-hair down).\n",
    "2. Search for a population of yellow elliptical galaxies in the optical image.\n",
    "3. Judge if any of those galaxies are larger and brighter than the others (there might be more than one, there might be none).\n",
    "4. Click on these galaxies, see if the cross-hair falls within the extended X-ray source we are centered on (if it falls within another extended source we are still interested, but I would like you to make a note of the name, and whether it is the first, second, third, etc. candidate you have saved).\n",
    "5. Zoom closer on the candidate galaxy and adjust the cross-hair to be at the center of the brightest innermost region - **you don't need to take too long on this, the cross hair being absolutely dead center is not essential, and would be a waste of your time**.\n",
    "6. Click the save button, and move on to the next candidate you identified in step 4 (if there are any others).\n",
    "\n",
    "\n",
    "**Notes on the tool**\n",
    "\n",
    "* When you save a BCG candidate, the cross-hair will disappear, and a small white circle will be added to the visualisation.\n",
    "* Saving writes some information about that galaxy to the BCG candidate sample file (in the outputs directory).\n",
    "* If you make a mistake, you can hit the reset button (just below the save button in the toolbar) - this will remove **all** BCG candidates, and their entries in the candidate sample file.\n",
    "* You may not be able to identify any candidates - in that case you have to click 'No BCG candidates' button, just below the reset button (this can also be reset though, if you clicked it accidentally).\n",
    "* When you've zoomed in, you can reset back to the original view by clicking the home button at the top of the toolbar.\n",
    "* If you have clicked the 'zoom to rectangle' button, you will need to click it again before you can make new cross-hairs.\n",
    "\n",
    "***After each session (not after every cluster) of identifying BCGs you should back-up the BCG candidate sample file in the 'outputs' directory.***"
   ]
  },
  {
   "cell_type": "markdown",
   "id": "4f8eaed8-9884-47ed-a69c-926541ad6f3d",
   "metadata": {},
   "source": [
    "### Loading/setting up images"
   ]
  },
  {
   "cell_type": "markdown",
   "id": "4767c390-2ed3-480a-8094-78b9bc4244f0",
   "metadata": {},
   "source": [
    "#### DESI Legacy Survey (optical/near-infrared)"
   ]
  },
  {
   "cell_type": "code",
   "execution_count": null,
   "id": "4680e824-101a-494d-9493-e75860f7a3d6",
   "metadata": {},
   "outputs": [],
   "source": [
    "desi_ls_pth = cur_history['data_operations'][cur_name]['raw_images']['desi-ls']['im_path']\n",
    "desi_ls_data = np.flip(plt.imread(desi_ls_pth), axis=0)\n",
    "\n",
    "ls_wcs = WCS(naxis=2)\n",
    "ls_cen = cur_history['data_operations'][cur_name]['raw_images']['desi-ls']['cen_pos']\n",
    "\n",
    "ls_pix_scale = cur_history['data_operations'][cur_name]['raw_images']['desi-ls']['arcsec_per_pix']\n",
    "ls_wcs.wcs.cdelt = [-1*(ls_pix_scale/3600), ls_pix_scale/3600]\n",
    "ls_wcs.wcs.crpix = [desi_ls_data.shape[0]/2, desi_ls_data.shape[1]/2]\n",
    "ls_wcs.wcs.crval = [ls_cen[0], ls_cen[1]]\n",
    "ls_wcs.wcs.ctype = ['RA---TAN', 'DEC--TAN']"
   ]
  },
  {
   "cell_type": "markdown",
   "id": "ea541d60-e517-48aa-b6c7-329b2c8b5861",
   "metadata": {},
   "source": [
    "#### XMM (X-ray)"
   ]
  },
  {
   "cell_type": "code",
   "execution_count": null,
   "id": "47d5cfda-49ca-406d-87c9-5698481c242a",
   "metadata": {},
   "outputs": [],
   "source": [
    "# xmm_pth = cur_history['data_operations'][cur_name]['raw_images']['desi-ls']['im_path']\n",
    "# xmm_im = Image(xmm_pth, 'combined', 'combined', '', '', '', Quantity(0.5, 'keV'), Quantity(2.0, 'keV'))\n",
    "\n",
    "xm_pth = \"raw_images/{n}/xmm/{n}_0.5-2.0keV_comb.fits\".format(n=cur_name)\n",
    "xmm_im = Image(xm_pth, 'combineed', 'combineed', '', '', '', Quantity(0.5, 'keV'), Quantity(2.0, 'keV'))"
   ]
  },
  {
   "cell_type": "markdown",
   "id": "6e5c3e0a-f2aa-4efe-a998-cd509bea58e9",
   "metadata": {},
   "source": [
    "#### Putting the data together"
   ]
  },
  {
   "cell_type": "code",
   "execution_count": null,
   "id": "60e04766-d2a3-4fd0-a726-ddacb401fad2",
   "metadata": {},
   "outputs": [],
   "source": [
    "im_data = {'desi-ls': desi_ls_data,\n",
    "           'xmm': xmm_im.data}\n",
    "\n",
    "im_wcs = {'desi-ls': ls_wcs,\n",
    "          'xmm': xmm_im.radec_wcs}"
   ]
  },
  {
   "cell_type": "markdown",
   "id": "d1309fea-dca0-42fe-bc52-6e11b9ffcb05",
   "metadata": {},
   "source": [
    "#### Controlling how the images are displayed"
   ]
  },
  {
   "cell_type": "code",
   "execution_count": null,
   "id": "1949d236-ff9a-4a04-9a4e-4983a112e5e8",
   "metadata": {},
   "outputs": [],
   "source": [
    "im_scale = {'xmm': {}}\n",
    "im_scale['xmm']['interval'] = MinMaxInterval()\n",
    "im_scale['xmm']['stretch'] = LogStretch()\n",
    "im_scale['xmm']['cmap'] = 'gnuplot2'"
   ]
  },
  {
   "cell_type": "markdown",
   "id": "904f1f5e-f17a-4b38-a48f-1e47aec60022",
   "metadata": {},
   "source": [
    "### The identification tool"
   ]
  },
  {
   "cell_type": "markdown",
   "id": "d4fac350-2054-4670-90ac-5848ba6f0b9f",
   "metadata": {},
   "source": [
    "**This is where you have to do your task**"
   ]
  },
  {
   "cell_type": "code",
   "execution_count": null,
   "id": "7055c441-7d3e-47ea-9708-5975f80b4edb",
   "metadata": {},
   "outputs": [],
   "source": [
    "cur_im = InteractiveView(im_data, im_wcs, 'desi-ls', cur_name, im_scale=im_scale, figsize=(10, 5))"
   ]
  }
 ],
 "metadata": {
  "kernelspec": {
   "display_name": "Python 3 (ipykernel)",
   "language": "python",
   "name": "python3"
  },
  "language_info": {
   "codemirror_mode": {
    "name": "ipython",
    "version": 3
   },
   "file_extension": ".py",
   "mimetype": "text/x-python",
   "name": "python",
   "nbconvert_exporter": "python",
   "pygments_lexer": "ipython3",
   "version": "3.12.9"
  }
 },
 "nbformat": 4,
 "nbformat_minor": 5
}
