{
 "cells": [
  {
   "cell_type": "markdown",
   "id": "d5c934c7-9a5a-442c-aa37-a8878f662891",
   "metadata": {},
   "source": [
    "# Notes on which LoVoCCS BCGs have SDSS MaNGA IFU cubes"
   ]
  },
  {
   "cell_type": "markdown",
   "id": "1f6d73a7-2da4-4d02-b7e5-4cafb32e0beb",
   "metadata": {},
   "source": [
    "This notebook may not execute much code - rather it will likely just act as a place to make notes on which LoVoCCS BCGs have MaNGA IFU data.\n",
    "\n",
    "<span style=\"color:teal\">**We expect other subsets of the LoVoCCS (e.g. those clusters in the north, which the first LoVoCCS papers don't really address) to have more BCG coverage with MaNGA, as it was an SDSS IFU**.</span>"
   ]
  },
  {
   "cell_type": "markdown",
   "id": "b3f75703-7cbf-4217-bac6-ec2b32cd6e7e",
   "metadata": {},
   "source": [
    "## Import statements"
   ]
  },
  {
   "cell_type": "code",
   "execution_count": 1,
   "id": "b1046cc0-2875-414e-b2ea-88cf98124061",
   "metadata": {},
   "outputs": [],
   "source": [
    "import pandas as pd\n",
    "\n",
    "import json\n",
    "import os"
   ]
  },
  {
   "cell_type": "markdown",
   "id": "1f1f9a09-8ef4-417f-a2c0-c3d7d595bcc3",
   "metadata": {},
   "source": [
    "## Reading the BCG sample"
   ]
  },
  {
   "cell_type": "code",
   "execution_count": 2,
   "id": "8720de59-73ba-4aab-944b-a1c33ece8b1a",
   "metadata": {},
   "outputs": [
    {
     "data": {
      "text/html": [
       "<div>\n",
       "<style scoped>\n",
       "    .dataframe tbody tr th:only-of-type {\n",
       "        vertical-align: middle;\n",
       "    }\n",
       "\n",
       "    .dataframe tbody tr th {\n",
       "        vertical-align: top;\n",
       "    }\n",
       "\n",
       "    .dataframe thead th {\n",
       "        text-align: right;\n",
       "    }\n",
       "</style>\n",
       "<table border=\"1\" class=\"dataframe\">\n",
       "  <thead>\n",
       "    <tr style=\"text-align: right;\">\n",
       "      <th></th>\n",
       "      <th>cluster_name</th>\n",
       "      <th>no_bcg_cand</th>\n",
       "      <th>BCG1_desi-ls_ra</th>\n",
       "      <th>BCG1_desi-ls_dec</th>\n",
       "      <th>BCG2_desi-ls_ra</th>\n",
       "      <th>BCG2_desi-ls_dec</th>\n",
       "      <th>BCG3_desi-ls_ra</th>\n",
       "      <th>BCG3_desi-ls_dec</th>\n",
       "      <th>BCG4_desi-ls_ra</th>\n",
       "      <th>BCG4_desi-ls_dec</th>\n",
       "      <th>BCG1_lovoccs_ra</th>\n",
       "      <th>BCG1_lovoccs_dec</th>\n",
       "      <th>BCG2_lovoccs_ra</th>\n",
       "      <th>BCG2_lovoccs_dec</th>\n",
       "    </tr>\n",
       "  </thead>\n",
       "  <tbody>\n",
       "    <tr>\n",
       "      <th>0</th>\n",
       "      <td>LoVoCCS-1</td>\n",
       "      <td>False</td>\n",
       "      <td>227.733824</td>\n",
       "      <td>5.744883</td>\n",
       "      <td>NaN</td>\n",
       "      <td>NaN</td>\n",
       "      <td>NaN</td>\n",
       "      <td>NaN</td>\n",
       "      <td>NaN</td>\n",
       "      <td>NaN</td>\n",
       "      <td>NaN</td>\n",
       "      <td>NaN</td>\n",
       "      <td>NaN</td>\n",
       "      <td>NaN</td>\n",
       "    </tr>\n",
       "    <tr>\n",
       "      <th>1</th>\n",
       "      <td>LoVoCCS-2</td>\n",
       "      <td>False</td>\n",
       "      <td>NaN</td>\n",
       "      <td>NaN</td>\n",
       "      <td>NaN</td>\n",
       "      <td>NaN</td>\n",
       "      <td>NaN</td>\n",
       "      <td>NaN</td>\n",
       "      <td>NaN</td>\n",
       "      <td>NaN</td>\n",
       "      <td>44.740836</td>\n",
       "      <td>13.582646</td>\n",
       "      <td>NaN</td>\n",
       "      <td>NaN</td>\n",
       "    </tr>\n",
       "    <tr>\n",
       "      <th>2</th>\n",
       "      <td>LoVoCCS-4A</td>\n",
       "      <td>False</td>\n",
       "      <td>10.460194</td>\n",
       "      <td>-9.302871</td>\n",
       "      <td>NaN</td>\n",
       "      <td>NaN</td>\n",
       "      <td>NaN</td>\n",
       "      <td>NaN</td>\n",
       "      <td>NaN</td>\n",
       "      <td>NaN</td>\n",
       "      <td>NaN</td>\n",
       "      <td>NaN</td>\n",
       "      <td>NaN</td>\n",
       "      <td>NaN</td>\n",
       "    </tr>\n",
       "    <tr>\n",
       "      <th>3</th>\n",
       "      <td>LoVoCCS-4B</td>\n",
       "      <td>False</td>\n",
       "      <td>10.429048</td>\n",
       "      <td>-9.439317</td>\n",
       "      <td>NaN</td>\n",
       "      <td>NaN</td>\n",
       "      <td>NaN</td>\n",
       "      <td>NaN</td>\n",
       "      <td>NaN</td>\n",
       "      <td>NaN</td>\n",
       "      <td>NaN</td>\n",
       "      <td>NaN</td>\n",
       "      <td>NaN</td>\n",
       "      <td>NaN</td>\n",
       "    </tr>\n",
       "    <tr>\n",
       "      <th>4</th>\n",
       "      <td>LoVoCCS-5</td>\n",
       "      <td>False</td>\n",
       "      <td>303.113338</td>\n",
       "      <td>-56.826500</td>\n",
       "      <td>302.710346</td>\n",
       "      <td>-56.673695</td>\n",
       "      <td>303.506670</td>\n",
       "      <td>-57.027568</td>\n",
       "      <td>303.49407</td>\n",
       "      <td>-57.039226</td>\n",
       "      <td>NaN</td>\n",
       "      <td>NaN</td>\n",
       "      <td>NaN</td>\n",
       "      <td>NaN</td>\n",
       "    </tr>\n",
       "    <tr>\n",
       "      <th>...</th>\n",
       "      <td>...</td>\n",
       "      <td>...</td>\n",
       "      <td>...</td>\n",
       "      <td>...</td>\n",
       "      <td>...</td>\n",
       "      <td>...</td>\n",
       "      <td>...</td>\n",
       "      <td>...</td>\n",
       "      <td>...</td>\n",
       "      <td>...</td>\n",
       "      <td>...</td>\n",
       "      <td>...</td>\n",
       "      <td>...</td>\n",
       "      <td>...</td>\n",
       "    </tr>\n",
       "    <tr>\n",
       "      <th>62</th>\n",
       "      <td>LoVoCCS-121</td>\n",
       "      <td>False</td>\n",
       "      <td>52.460588</td>\n",
       "      <td>-52.579591</td>\n",
       "      <td>NaN</td>\n",
       "      <td>NaN</td>\n",
       "      <td>NaN</td>\n",
       "      <td>NaN</td>\n",
       "      <td>NaN</td>\n",
       "      <td>NaN</td>\n",
       "      <td>NaN</td>\n",
       "      <td>NaN</td>\n",
       "      <td>NaN</td>\n",
       "      <td>NaN</td>\n",
       "    </tr>\n",
       "    <tr>\n",
       "      <th>63</th>\n",
       "      <td>LoVoCCS-122</td>\n",
       "      <td>False</td>\n",
       "      <td>156.994404</td>\n",
       "      <td>-6.798922</td>\n",
       "      <td>NaN</td>\n",
       "      <td>NaN</td>\n",
       "      <td>NaN</td>\n",
       "      <td>NaN</td>\n",
       "      <td>NaN</td>\n",
       "      <td>NaN</td>\n",
       "      <td>NaN</td>\n",
       "      <td>NaN</td>\n",
       "      <td>NaN</td>\n",
       "      <td>NaN</td>\n",
       "    </tr>\n",
       "    <tr>\n",
       "      <th>64</th>\n",
       "      <td>LoVoCCS-123</td>\n",
       "      <td>False</td>\n",
       "      <td>193.671028</td>\n",
       "      <td>-29.227460</td>\n",
       "      <td>NaN</td>\n",
       "      <td>NaN</td>\n",
       "      <td>NaN</td>\n",
       "      <td>NaN</td>\n",
       "      <td>NaN</td>\n",
       "      <td>NaN</td>\n",
       "      <td>NaN</td>\n",
       "      <td>NaN</td>\n",
       "      <td>NaN</td>\n",
       "      <td>NaN</td>\n",
       "    </tr>\n",
       "    <tr>\n",
       "      <th>65</th>\n",
       "      <td>LoVoCCS-131</td>\n",
       "      <td>False</td>\n",
       "      <td>137.649589</td>\n",
       "      <td>-10.582130</td>\n",
       "      <td>137.741475</td>\n",
       "      <td>-10.564283</td>\n",
       "      <td>NaN</td>\n",
       "      <td>NaN</td>\n",
       "      <td>NaN</td>\n",
       "      <td>NaN</td>\n",
       "      <td>NaN</td>\n",
       "      <td>NaN</td>\n",
       "      <td>NaN</td>\n",
       "      <td>NaN</td>\n",
       "    </tr>\n",
       "    <tr>\n",
       "      <th>66</th>\n",
       "      <td>LoVoCCS-134</td>\n",
       "      <td>False</td>\n",
       "      <td>329.606320</td>\n",
       "      <td>-60.391193</td>\n",
       "      <td>329.608421</td>\n",
       "      <td>-60.426073</td>\n",
       "      <td>329.538999</td>\n",
       "      <td>-60.245104</td>\n",
       "      <td>NaN</td>\n",
       "      <td>NaN</td>\n",
       "      <td>NaN</td>\n",
       "      <td>NaN</td>\n",
       "      <td>NaN</td>\n",
       "      <td>NaN</td>\n",
       "    </tr>\n",
       "  </tbody>\n",
       "</table>\n",
       "<p>67 rows × 14 columns</p>\n",
       "</div>"
      ],
      "text/plain": [
       "   cluster_name  no_bcg_cand  BCG1_desi-ls_ra  BCG1_desi-ls_dec  \\\n",
       "0     LoVoCCS-1        False       227.733824          5.744883   \n",
       "1     LoVoCCS-2        False              NaN               NaN   \n",
       "2    LoVoCCS-4A        False        10.460194         -9.302871   \n",
       "3    LoVoCCS-4B        False        10.429048         -9.439317   \n",
       "4     LoVoCCS-5        False       303.113338        -56.826500   \n",
       "..          ...          ...              ...               ...   \n",
       "62  LoVoCCS-121        False        52.460588        -52.579591   \n",
       "63  LoVoCCS-122        False       156.994404         -6.798922   \n",
       "64  LoVoCCS-123        False       193.671028        -29.227460   \n",
       "65  LoVoCCS-131        False       137.649589        -10.582130   \n",
       "66  LoVoCCS-134        False       329.606320        -60.391193   \n",
       "\n",
       "    BCG2_desi-ls_ra  BCG2_desi-ls_dec  BCG3_desi-ls_ra  BCG3_desi-ls_dec  \\\n",
       "0               NaN               NaN              NaN               NaN   \n",
       "1               NaN               NaN              NaN               NaN   \n",
       "2               NaN               NaN              NaN               NaN   \n",
       "3               NaN               NaN              NaN               NaN   \n",
       "4        302.710346        -56.673695       303.506670        -57.027568   \n",
       "..              ...               ...              ...               ...   \n",
       "62              NaN               NaN              NaN               NaN   \n",
       "63              NaN               NaN              NaN               NaN   \n",
       "64              NaN               NaN              NaN               NaN   \n",
       "65       137.741475        -10.564283              NaN               NaN   \n",
       "66       329.608421        -60.426073       329.538999        -60.245104   \n",
       "\n",
       "    BCG4_desi-ls_ra  BCG4_desi-ls_dec  BCG1_lovoccs_ra  BCG1_lovoccs_dec  \\\n",
       "0               NaN               NaN              NaN               NaN   \n",
       "1               NaN               NaN        44.740836         13.582646   \n",
       "2               NaN               NaN              NaN               NaN   \n",
       "3               NaN               NaN              NaN               NaN   \n",
       "4         303.49407        -57.039226              NaN               NaN   \n",
       "..              ...               ...              ...               ...   \n",
       "62              NaN               NaN              NaN               NaN   \n",
       "63              NaN               NaN              NaN               NaN   \n",
       "64              NaN               NaN              NaN               NaN   \n",
       "65              NaN               NaN              NaN               NaN   \n",
       "66              NaN               NaN              NaN               NaN   \n",
       "\n",
       "    BCG2_lovoccs_ra  BCG2_lovoccs_dec  \n",
       "0               NaN               NaN  \n",
       "1               NaN               NaN  \n",
       "2               NaN               NaN  \n",
       "3               NaN               NaN  \n",
       "4               NaN               NaN  \n",
       "..              ...               ...  \n",
       "62              NaN               NaN  \n",
       "63              NaN               NaN  \n",
       "64              NaN               NaN  \n",
       "65              NaN               NaN  \n",
       "66              NaN               NaN  \n",
       "\n",
       "[67 rows x 14 columns]"
      ]
     },
     "execution_count": 2,
     "metadata": {},
     "output_type": "execute_result"
    }
   ],
   "source": [
    "bcg_samp = pd.read_csv(\"outputs/bcg_output_sample.csv\")\n",
    "bcg_samp"
   ]
  },
  {
   "cell_type": "markdown",
   "id": "d46e410c-1a66-4058-8ceb-8faa23c348c5",
   "metadata": {},
   "source": [
    "## Notes on which have what"
   ]
  },
  {
   "cell_type": "markdown",
   "id": "ace9a904-e86b-4f17-8068-75491278c2d3",
   "metadata": {},
   "source": [
    "### BCG1"
   ]
  },
  {
   "cell_type": "code",
   "execution_count": 3,
   "id": "46874c62-2736-41d7-b682-de74f9247a9a",
   "metadata": {},
   "outputs": [],
   "source": [
    "bcg1_file_path = 'outputs/manga_cube_notes/bcg1_manga_cube_notes.json'\n",
    "if os.path.exists(bcg1_file_path):\n",
    "    raise FileExistsError(\"Don't want to overwrite the existing note file, remove it or change the name before running again.\")"
   ]
  },
  {
   "cell_type": "code",
   "execution_count": 4,
   "id": "3cbdf413-d57b-4813-9a64-2618c94f2a6d",
   "metadata": {},
   "outputs": [],
   "source": [
    "bcg_ones = {n: {'manga': None, 'em_line': None, 'notes': \"\"} for n in bcg_samp['cluster_name'].values}"
   ]
  },
  {
   "cell_type": "code",
   "execution_count": 5,
   "id": "f2da0f8f-251f-422e-afc3-a75111f56f8b",
   "metadata": {},
   "outputs": [],
   "source": [
    "cur_name = 'LoVoCCS-41C'\n",
    "bcg_ones[cur_name]['manga'] = 1\n",
    "bcg_ones[cur_name]['em_line'] = False\n",
    "bcg_ones[cur_name]['notes'] = \"\""
   ]
  },
  {
   "cell_type": "code",
   "execution_count": 6,
   "id": "36354371-819c-4f08-8789-ae26a78ea559",
   "metadata": {},
   "outputs": [],
   "source": [
    "with open(bcg1_file_path, 'w') as noteo:\n",
    "    json.dump(bcg_ones, noteo)"
   ]
  },
  {
   "cell_type": "markdown",
   "id": "b3b48360-d38e-4cf4-8d52-7cd724abe556",
   "metadata": {},
   "source": [
    "### BCG2"
   ]
  },
  {
   "cell_type": "code",
   "execution_count": 7,
   "id": "42a03883-3b0f-482f-b91e-d7dd332e8a37",
   "metadata": {},
   "outputs": [],
   "source": [
    "bcg2_file_path = 'outputs/manga_cube_notes/bcg2_manga_cube_notes.json'\n",
    "if os.path.exists(bcg2_file_path):\n",
    "    raise FileExistsError(\"Don't want to overwrite the existing note file, remove it or change the name before running again.\")"
   ]
  },
  {
   "cell_type": "code",
   "execution_count": 8,
   "id": "6d21e8c9-8329-48cd-bac8-3129d56f852c",
   "metadata": {},
   "outputs": [],
   "source": [
    "bcg_twos = {n: {'manga': None, 'em_line': None, 'notes': \"\"} for n in bcg_samp['cluster_name'].values}"
   ]
  },
  {
   "cell_type": "code",
   "execution_count": 9,
   "id": "ad9bae99-c2c5-4bc9-9de5-252b7f0d58f1",
   "metadata": {},
   "outputs": [],
   "source": [
    "cur_name = 'LoVoCCS-41C'\n",
    "bcg_twos[cur_name]['manga'] = 1\n",
    "bcg_twos[cur_name]['em_line'] = False\n",
    "bcg_twos[cur_name]['notes'] = \"\""
   ]
  },
  {
   "cell_type": "code",
   "execution_count": 10,
   "id": "871a2867-7b25-4a4d-ad52-a67ddac579eb",
   "metadata": {},
   "outputs": [],
   "source": [
    "with open(bcg2_file_path, 'w') as noteo:\n",
    "    json.dump(bcg_twos, noteo)"
   ]
  },
  {
   "cell_type": "markdown",
   "id": "a18b3a99-f0e1-4669-ab0a-318e8ed66200",
   "metadata": {},
   "source": [
    "### BCG3"
   ]
  },
  {
   "cell_type": "code",
   "execution_count": 11,
   "id": "30c32fab-8841-4c43-b699-525cd99a5e21",
   "metadata": {},
   "outputs": [],
   "source": [
    "bcg3_file_path = 'outputs/manga_cube_notes/bcg3_manga_cube_notes.json'\n",
    "if os.path.exists(bcg3_file_path):\n",
    "    raise FileExistsError(\"Don't want to overwrite the existing note file, remove it or change the name before running again.\")"
   ]
  },
  {
   "cell_type": "code",
   "execution_count": 12,
   "id": "e82fd3bc-14e0-4c18-b341-32812e7f2ade",
   "metadata": {},
   "outputs": [],
   "source": [
    "bcg_threes = {n: {'manga': None, 'em_line': None, 'notes': \"\"} for n in bcg_samp['cluster_name'].values}"
   ]
  },
  {
   "cell_type": "code",
   "execution_count": 13,
   "id": "a2446eb1-4cbf-41a2-8bc8-2838b7d4a880",
   "metadata": {},
   "outputs": [],
   "source": [
    "with open(bcg3_file_path, 'w') as noteo:\n",
    "    json.dump(bcg_threes, noteo)"
   ]
  },
  {
   "cell_type": "markdown",
   "id": "d30227aa-a4ec-4558-a852-0fe2f0d3cb99",
   "metadata": {},
   "source": [
    "### BCG4"
   ]
  },
  {
   "cell_type": "code",
   "execution_count": 14,
   "id": "ddf59a07-3428-44e1-9804-72226e50c329",
   "metadata": {},
   "outputs": [],
   "source": [
    "bcg4_file_path = 'outputs/manga_cube_notes/bcg4_manga_cube_notes.json'\n",
    "if os.path.exists(bcg4_file_path):\n",
    "    raise FileExistsError(\"Don't want to overwrite the existing note file, remove it or change the name before running again.\")"
   ]
  },
  {
   "cell_type": "code",
   "execution_count": 15,
   "id": "99912f34-3376-47db-87d9-fa85ccf300ad",
   "metadata": {},
   "outputs": [],
   "source": [
    "bcg_fours = {n: {'manga': None, 'em_line': None, 'notes': \"\"} for n in bcg_samp['cluster_name'].values}"
   ]
  },
  {
   "cell_type": "code",
   "execution_count": 16,
   "id": "dae24d57-3c94-40c6-b79f-f42ea83e3c65",
   "metadata": {},
   "outputs": [],
   "source": [
    "with open(bcg4_file_path, 'w') as noteo:\n",
    "    json.dump(bcg_fours, noteo)"
   ]
  }
 ],
 "metadata": {
  "kernelspec": {
   "display_name": "Python 3 (ipykernel)",
   "language": "python",
   "name": "python3"
  },
  "language_info": {
   "codemirror_mode": {
    "name": "ipython",
    "version": 3
   },
   "file_extension": ".py",
   "mimetype": "text/x-python",
   "name": "python",
   "nbconvert_exporter": "python",
   "pygments_lexer": "ipython3",
   "version": "3.12.9"
  }
 },
 "nbformat": 4,
 "nbformat_minor": 5
}
