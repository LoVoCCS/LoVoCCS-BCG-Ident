{
 "cells": [
  {
   "cell_type": "markdown",
   "id": "a85e9751-fb5a-4a58-a900-70c3e6bf7f69",
   "metadata": {},
   "source": [
    "# Luminosities from VLASS/GALEX cross-match results and fiducial redshifts"
   ]
  },
  {
   "cell_type": "markdown",
   "id": "a6cb4cae-1063-47cb-8eb9-6a089fb81c62",
   "metadata": {},
   "source": []
  },
  {
   "cell_type": "markdown",
   "id": "22dc3753-5229-4fc2-a290-cd1fbb6a1a9f",
   "metadata": {},
   "source": [
    "## Import statements"
   ]
  },
  {
   "cell_type": "code",
   "execution_count": 29,
   "id": "49dae82b-8ac4-4e11-b120-da9426937aab",
   "metadata": {},
   "outputs": [],
   "source": [
    "from ident_run_setup import cosmo, load_history, proj_name\n",
    "\n",
    "from astropy.units import Quantity, spectral_density\n",
    "from matplotlib import pyplot as plt\n",
    "\n",
    "import os\n",
    "import json\n",
    "import numpy as np\n",
    "import pandas as pd\n",
    "pd.set_option('display.max_columns', 500)"
   ]
  },
  {
   "cell_type": "code",
   "execution_count": 2,
   "id": "ca728d5b-c3e6-4557-9b54-68104c9d8d03",
   "metadata": {},
   "outputs": [
    {
     "data": {
      "text/plain": [
       "LambdaCDM(H0=71.0 km / (Mpc s), Om0=0.2648, Ode0=0.7352, Tcmb0=0.0 K, Neff=3.04, m_nu=None, Ob0=0.0448)"
      ]
     },
     "execution_count": 2,
     "metadata": {},
     "output_type": "execute_result"
    }
   ],
   "source": [
    "cosmo"
   ]
  },
  {
   "cell_type": "markdown",
   "id": "4cfbdc98-9bc9-4f43-9524-634546a115b9",
   "metadata": {},
   "source": [
    "## Setting up directories"
   ]
  },
  {
   "cell_type": "code",
   "execution_count": 30,
   "id": "fac8743e-9976-4507-a45e-d7fe1ea7b9eb",
   "metadata": {},
   "outputs": [],
   "source": [
    "lum_out_dir = \"outputs/vlass_galex_luminosities/\"\n",
    "os.makedirs(lum_out_dir, exist_ok=True)"
   ]
  },
  {
   "cell_type": "markdown",
   "id": "fb21c467-d9e4-459a-9808-b4376e6624db",
   "metadata": {},
   "source": [
    "## Loading relevant information files"
   ]
  },
  {
   "cell_type": "markdown",
   "id": "f9b929d4-ff1a-4b54-a2e1-0e02cb1f2f7e",
   "metadata": {},
   "source": [
    "### BCG identification framework history"
   ]
  },
  {
   "cell_type": "code",
   "execution_count": 3,
   "id": "25934d4d-97dd-476a-bbcb-80bcc2fd6774",
   "metadata": {},
   "outputs": [],
   "source": [
    "cur_history = load_history()"
   ]
  },
  {
   "cell_type": "markdown",
   "id": "517cd310-ebf7-48f8-8d66-fe5dbf859028",
   "metadata": {},
   "source": [
    "### BCG candidate sample"
   ]
  },
  {
   "cell_type": "code",
   "execution_count": 4,
   "id": "8896862d-b073-4a6d-b86b-924f3d1888dd",
   "metadata": {},
   "outputs": [
    {
     "name": "stderr",
     "output_type": "stream",
     "text": [
      "/var/folders/td/gw9qkx6d3szb1nkt_cfvcbzm000vzl/T/ipykernel_7774/2768048102.py:15: RuntimeWarning: All-NaN slice encountered\n",
      "  bcg_samp['ra-BCG2'] = np.nanmax(bcg_samp[['ra-BCG2', 'BCG2_lovoccs_ra']].values, axis=1)\n",
      "/var/folders/td/gw9qkx6d3szb1nkt_cfvcbzm000vzl/T/ipykernel_7774/2768048102.py:16: RuntimeWarning: All-NaN slice encountered\n",
      "  bcg_samp['dec-BCG2'] = np.nanmax(bcg_samp[['dec-BCG2', 'BCG2_lovoccs_dec']].values, axis=1)\n"
     ]
    },
    {
     "data": {
      "text/html": [
       "<div>\n",
       "<style scoped>\n",
       "    .dataframe tbody tr th:only-of-type {\n",
       "        vertical-align: middle;\n",
       "    }\n",
       "\n",
       "    .dataframe tbody tr th {\n",
       "        vertical-align: top;\n",
       "    }\n",
       "\n",
       "    .dataframe thead th {\n",
       "        text-align: right;\n",
       "    }\n",
       "</style>\n",
       "<table border=\"1\" class=\"dataframe\">\n",
       "  <thead>\n",
       "    <tr style=\"text-align: right;\">\n",
       "      <th></th>\n",
       "      <th>cluster_name</th>\n",
       "      <th>ra-BCG1</th>\n",
       "      <th>dec-BCG1</th>\n",
       "      <th>ra-BCG2</th>\n",
       "      <th>dec-BCG2</th>\n",
       "      <th>ra-BCG3</th>\n",
       "      <th>dec-BCG3</th>\n",
       "      <th>ra-BCG4</th>\n",
       "      <th>dec-BCG4</th>\n",
       "    </tr>\n",
       "  </thead>\n",
       "  <tbody>\n",
       "    <tr>\n",
       "      <th>0</th>\n",
       "      <td>LoVoCCS-1</td>\n",
       "      <td>227.733824</td>\n",
       "      <td>5.744883</td>\n",
       "      <td>NaN</td>\n",
       "      <td>NaN</td>\n",
       "      <td>NaN</td>\n",
       "      <td>NaN</td>\n",
       "      <td>NaN</td>\n",
       "      <td>NaN</td>\n",
       "    </tr>\n",
       "    <tr>\n",
       "      <th>1</th>\n",
       "      <td>LoVoCCS-2</td>\n",
       "      <td>44.740836</td>\n",
       "      <td>13.582646</td>\n",
       "      <td>NaN</td>\n",
       "      <td>NaN</td>\n",
       "      <td>NaN</td>\n",
       "      <td>NaN</td>\n",
       "      <td>NaN</td>\n",
       "      <td>NaN</td>\n",
       "    </tr>\n",
       "    <tr>\n",
       "      <th>2</th>\n",
       "      <td>LoVoCCS-4A</td>\n",
       "      <td>10.460194</td>\n",
       "      <td>-9.302871</td>\n",
       "      <td>NaN</td>\n",
       "      <td>NaN</td>\n",
       "      <td>NaN</td>\n",
       "      <td>NaN</td>\n",
       "      <td>NaN</td>\n",
       "      <td>NaN</td>\n",
       "    </tr>\n",
       "    <tr>\n",
       "      <th>3</th>\n",
       "      <td>LoVoCCS-4B</td>\n",
       "      <td>10.429048</td>\n",
       "      <td>-9.439317</td>\n",
       "      <td>NaN</td>\n",
       "      <td>NaN</td>\n",
       "      <td>NaN</td>\n",
       "      <td>NaN</td>\n",
       "      <td>NaN</td>\n",
       "      <td>NaN</td>\n",
       "    </tr>\n",
       "    <tr>\n",
       "      <th>4</th>\n",
       "      <td>LoVoCCS-5</td>\n",
       "      <td>303.113338</td>\n",
       "      <td>-56.826500</td>\n",
       "      <td>302.710346</td>\n",
       "      <td>-56.673695</td>\n",
       "      <td>303.50667</td>\n",
       "      <td>-57.027568</td>\n",
       "      <td>303.49407</td>\n",
       "      <td>-57.039226</td>\n",
       "    </tr>\n",
       "    <tr>\n",
       "      <th>5</th>\n",
       "      <td>LoVoCCS-7</td>\n",
       "      <td>330.470382</td>\n",
       "      <td>-59.945214</td>\n",
       "      <td>NaN</td>\n",
       "      <td>NaN</td>\n",
       "      <td>NaN</td>\n",
       "      <td>NaN</td>\n",
       "      <td>NaN</td>\n",
       "      <td>NaN</td>\n",
       "    </tr>\n",
       "    <tr>\n",
       "      <th>6</th>\n",
       "      <td>LoVoCCS-9</td>\n",
       "      <td>67.802961</td>\n",
       "      <td>-61.453626</td>\n",
       "      <td>67.414206</td>\n",
       "      <td>-61.176134</td>\n",
       "      <td>NaN</td>\n",
       "      <td>NaN</td>\n",
       "      <td>NaN</td>\n",
       "      <td>NaN</td>\n",
       "    </tr>\n",
       "    <tr>\n",
       "      <th>7</th>\n",
       "      <td>LoVoCCS-10</td>\n",
       "      <td>194.843512</td>\n",
       "      <td>-4.196002</td>\n",
       "      <td>NaN</td>\n",
       "      <td>NaN</td>\n",
       "      <td>NaN</td>\n",
       "      <td>NaN</td>\n",
       "      <td>NaN</td>\n",
       "      <td>NaN</td>\n",
       "    </tr>\n",
       "    <tr>\n",
       "      <th>8</th>\n",
       "      <td>LoVoCCS-11</td>\n",
       "      <td>137.134448</td>\n",
       "      <td>-9.629780</td>\n",
       "      <td>137.329532</td>\n",
       "      <td>-9.698835</td>\n",
       "      <td>NaN</td>\n",
       "      <td>NaN</td>\n",
       "      <td>NaN</td>\n",
       "      <td>NaN</td>\n",
       "    </tr>\n",
       "    <tr>\n",
       "      <th>9</th>\n",
       "      <td>LoVoCCS-12</td>\n",
       "      <td>206.867783</td>\n",
       "      <td>-32.864949</td>\n",
       "      <td>NaN</td>\n",
       "      <td>NaN</td>\n",
       "      <td>NaN</td>\n",
       "      <td>NaN</td>\n",
       "      <td>NaN</td>\n",
       "      <td>NaN</td>\n",
       "    </tr>\n",
       "    <tr>\n",
       "      <th>10</th>\n",
       "      <td>LoVoCCS-13</td>\n",
       "      <td>49.490389</td>\n",
       "      <td>-44.237780</td>\n",
       "      <td>49.325046</td>\n",
       "      <td>-44.356215</td>\n",
       "      <td>NaN</td>\n",
       "      <td>NaN</td>\n",
       "      <td>NaN</td>\n",
       "      <td>NaN</td>\n",
       "    </tr>\n",
       "    <tr>\n",
       "      <th>11</th>\n",
       "      <td>LoVoCCS-14</td>\n",
       "      <td>44.470998</td>\n",
       "      <td>13.031001</td>\n",
       "      <td>44.535838</td>\n",
       "      <td>13.072944</td>\n",
       "      <td>NaN</td>\n",
       "      <td>NaN</td>\n",
       "      <td>NaN</td>\n",
       "      <td>NaN</td>\n",
       "    </tr>\n",
       "    <tr>\n",
       "      <th>12</th>\n",
       "      <td>LoVoCCS-15</td>\n",
       "      <td>351.331942</td>\n",
       "      <td>-12.124180</td>\n",
       "      <td>NaN</td>\n",
       "      <td>NaN</td>\n",
       "      <td>NaN</td>\n",
       "      <td>NaN</td>\n",
       "      <td>NaN</td>\n",
       "      <td>NaN</td>\n",
       "    </tr>\n",
       "    <tr>\n",
       "      <th>13</th>\n",
       "      <td>LoVoCCS-18</td>\n",
       "      <td>194.672726</td>\n",
       "      <td>-1.761479</td>\n",
       "      <td>NaN</td>\n",
       "      <td>NaN</td>\n",
       "      <td>NaN</td>\n",
       "      <td>NaN</td>\n",
       "      <td>NaN</td>\n",
       "      <td>NaN</td>\n",
       "    </tr>\n",
       "    <tr>\n",
       "      <th>14</th>\n",
       "      <td>LoVoCCS-21</td>\n",
       "      <td>201.986659</td>\n",
       "      <td>-31.495456</td>\n",
       "      <td>201.873241</td>\n",
       "      <td>-31.389798</td>\n",
       "      <td>NaN</td>\n",
       "      <td>NaN</td>\n",
       "      <td>NaN</td>\n",
       "      <td>NaN</td>\n",
       "    </tr>\n",
       "  </tbody>\n",
       "</table>\n",
       "</div>"
      ],
      "text/plain": [
       "   cluster_name     ra-BCG1   dec-BCG1     ra-BCG2   dec-BCG2    ra-BCG3  \\\n",
       "0     LoVoCCS-1  227.733824   5.744883         NaN        NaN        NaN   \n",
       "1     LoVoCCS-2   44.740836  13.582646         NaN        NaN        NaN   \n",
       "2    LoVoCCS-4A   10.460194  -9.302871         NaN        NaN        NaN   \n",
       "3    LoVoCCS-4B   10.429048  -9.439317         NaN        NaN        NaN   \n",
       "4     LoVoCCS-5  303.113338 -56.826500  302.710346 -56.673695  303.50667   \n",
       "5     LoVoCCS-7  330.470382 -59.945214         NaN        NaN        NaN   \n",
       "6     LoVoCCS-9   67.802961 -61.453626   67.414206 -61.176134        NaN   \n",
       "7    LoVoCCS-10  194.843512  -4.196002         NaN        NaN        NaN   \n",
       "8    LoVoCCS-11  137.134448  -9.629780  137.329532  -9.698835        NaN   \n",
       "9    LoVoCCS-12  206.867783 -32.864949         NaN        NaN        NaN   \n",
       "10   LoVoCCS-13   49.490389 -44.237780   49.325046 -44.356215        NaN   \n",
       "11   LoVoCCS-14   44.470998  13.031001   44.535838  13.072944        NaN   \n",
       "12   LoVoCCS-15  351.331942 -12.124180         NaN        NaN        NaN   \n",
       "13   LoVoCCS-18  194.672726  -1.761479         NaN        NaN        NaN   \n",
       "14   LoVoCCS-21  201.986659 -31.495456  201.873241 -31.389798        NaN   \n",
       "\n",
       "     dec-BCG3    ra-BCG4   dec-BCG4  \n",
       "0         NaN        NaN        NaN  \n",
       "1         NaN        NaN        NaN  \n",
       "2         NaN        NaN        NaN  \n",
       "3         NaN        NaN        NaN  \n",
       "4  -57.027568  303.49407 -57.039226  \n",
       "5         NaN        NaN        NaN  \n",
       "6         NaN        NaN        NaN  \n",
       "7         NaN        NaN        NaN  \n",
       "8         NaN        NaN        NaN  \n",
       "9         NaN        NaN        NaN  \n",
       "10        NaN        NaN        NaN  \n",
       "11        NaN        NaN        NaN  \n",
       "12        NaN        NaN        NaN  \n",
       "13        NaN        NaN        NaN  \n",
       "14        NaN        NaN        NaN  "
      ]
     },
     "execution_count": 4,
     "metadata": {},
     "output_type": "execute_result"
    }
   ],
   "source": [
    "bcg_samp = pd.read_csv(\"outputs/bcg_output_sample.csv\")\n",
    "\n",
    "# Make some modifications so that the dataframe doesn't distinguish between DESI and LoVoCCS source data ra-decs; I'm \n",
    "#  putting the column names as 'ra-BCG{N}' (even though I think it is ugly) because we attempt to use the wide-to-tall\n",
    "#  pandas method later and it is easier this way around\n",
    "bcg_samp = bcg_samp.rename(columns={'BCG1_desi-ls_ra': 'ra-BCG1', 'BCG1_desi-ls_dec': 'dec-BCG1', \n",
    "                                    'BCG2_desi-ls_ra': 'ra-BCG2', 'BCG2_desi-ls_dec': 'dec-BCG2',\n",
    "                                    'BCG3_desi-ls_ra': 'ra-BCG3', 'BCG3_desi-ls_dec': 'dec-BCG3',\n",
    "                                    'BCG4_desi-ls_ra': 'ra-BCG4', 'BCG4_desi-ls_dec': 'dec-BCG4'})\n",
    "\n",
    "# A399 and A401 have LoVoCCS-photometry defined coords, as they don't appear in the legacy survey. Need to combine\n",
    "#  the DESI and LoVoCCS columns just into a single column per BCG candidate \n",
    "bcg_samp['ra-BCG1'] = np.nanmax(bcg_samp[['ra-BCG1', 'BCG1_lovoccs_ra']].values, axis=1) \n",
    "bcg_samp['dec-BCG1'] = np.nanmax(bcg_samp[['dec-BCG1', 'BCG1_lovoccs_dec']].values, axis=1) \n",
    "bcg_samp['ra-BCG2'] = np.nanmax(bcg_samp[['ra-BCG2', 'BCG2_lovoccs_ra']].values, axis=1) \n",
    "bcg_samp['dec-BCG2'] = np.nanmax(bcg_samp[['dec-BCG2', 'BCG2_lovoccs_dec']].values, axis=1) \n",
    "\n",
    "# Getting rid of the now unnecessary LoVoCCS columns\n",
    "bcg_samp.drop(columns=['BCG1_lovoccs_ra', 'BCG1_lovoccs_dec', 'BCG2_lovoccs_ra', 'BCG2_lovoccs_dec'], inplace=True)\n",
    "# Also the 'no_bcg_cand' flag column, doesn't matter for this\n",
    "bcg_samp.drop(columns=['no_bcg_cand'], inplace=True)\n",
    "\n",
    "bcg_samp.head(15)"
   ]
  },
  {
   "cell_type": "markdown",
   "id": "b82556e0-02f7-45e0-843f-6b1b77333599",
   "metadata": {},
   "source": [
    "### Fiducial BCG candidate spectroscopic redshifts"
   ]
  },
  {
   "cell_type": "code",
   "execution_count": 5,
   "id": "74c66afe-bf04-4d5b-9198-88221d180dda",
   "metadata": {},
   "outputs": [],
   "source": [
    "bcg1_fidz = pd.read_csv(\"outputs/fiducial_cand_redshift_tables/BCG1_fiducial_specz.csv\").rename(columns={'name': 'cluster_name'})\n",
    "bcg2_fidz = pd.read_csv(\"outputs/fiducial_cand_redshift_tables/BCG2_fiducial_specz.csv\").rename(columns={'name': 'cluster_name'})\n",
    "bcg3_fidz = pd.read_csv(\"outputs/fiducial_cand_redshift_tables/BCG3_fiducial_specz.csv\").rename(columns={'name': 'cluster_name'})\n",
    "bcg4_fidz = pd.read_csv(\"outputs/fiducial_cand_redshift_tables/BCG4_fiducial_specz.csv\").rename(columns={'name': 'cluster_name'})"
   ]
  },
  {
   "cell_type": "markdown",
   "id": "4a6f477d-d07e-4e8f-91ba-75ae98b21488",
   "metadata": {},
   "source": [
    "### VLASS QL Ep.1"
   ]
  },
  {
   "cell_type": "code",
   "execution_count": 6,
   "id": "0571f4b4-add9-419d-93b2-538acb994afd",
   "metadata": {},
   "outputs": [],
   "source": [
    "bcg1_vlass = pd.read_csv(\"outputs/vlass_galex_crossmatches/bcg1_cands_vlass_searchrad10.0arcsec.csv\")\n",
    "bcg2_vlass = pd.read_csv(\"outputs/vlass_galex_crossmatches/bcg2_cands_vlass_searchrad10.0arcsec.csv\")\n",
    "bcg3_vlass = pd.read_csv(\"outputs/vlass_galex_crossmatches/bcg3_cands_vlass_searchrad10.0arcsec.csv\")\n",
    "bcg4_vlass = pd.read_csv(\"outputs/vlass_galex_crossmatches/bcg4_cands_vlass_searchrad10.0arcsec.csv\")"
   ]
  },
  {
   "cell_type": "markdown",
   "id": "bc3361fc-c716-494e-bb3a-1b3bceb67ea3",
   "metadata": {},
   "source": [
    "#### How many have multiple matches?"
   ]
  },
  {
   "cell_type": "code",
   "execution_count": 7,
   "id": "fc5c2faf-d8b9-4c74-abd6-d4099b89437b",
   "metadata": {},
   "outputs": [
    {
     "name": "stdout",
     "output_type": "stream",
     "text": [
      "cluster_name\n",
      "LoVoCCS-123    5\n",
      "LoVoCCS-48A    4\n",
      "LoVoCCS-67     3\n",
      "LoVoCCS-131    3\n",
      "LoVoCCS-1      2\n",
      "LoVoCCS-90     2\n",
      "LoVoCCS-61     2\n",
      "LoVoCCS-41C    2\n",
      "LoVoCCS-99     2\n",
      "Name: count, dtype: int64 \n",
      "\n",
      "cluster_name\n",
      "LoVoCCS-55     2\n",
      "LoVoCCS-41C    2\n",
      "Name: count, dtype: int64 \n",
      "\n",
      "cluster_name\n",
      "LoVoCCS-28    2\n",
      "Name: count, dtype: int64 \n",
      "\n",
      "Series([], Name: count, dtype: int64) \n",
      "\n"
     ]
    }
   ],
   "source": [
    "bcg1_vlass_clust_occ = bcg1_vlass.value_counts('cluster_name')\n",
    "print(bcg1_vlass_clust_occ[bcg1_vlass_clust_occ > 1], '\\n')\n",
    "\n",
    "bcg2_vlass_clust_occ = bcg2_vlass.value_counts('cluster_name')\n",
    "print(bcg2_vlass_clust_occ[bcg2_vlass_clust_occ > 1], '\\n')\n",
    "\n",
    "bcg3_vlass_clust_occ = bcg3_vlass.value_counts('cluster_name')\n",
    "print(bcg3_vlass_clust_occ[bcg3_vlass_clust_occ > 1], '\\n')\n",
    "\n",
    "bcg4_vlass_clust_occ = bcg4_vlass.value_counts('cluster_name')\n",
    "print(bcg4_vlass_clust_occ[bcg4_vlass_clust_occ > 1], '\\n')"
   ]
  },
  {
   "cell_type": "markdown",
   "id": "6f77e444-2a9a-4894-8eb2-6352438dee5d",
   "metadata": {},
   "source": [
    "### GALEX UV Catalog AIS GR6+7"
   ]
  },
  {
   "cell_type": "code",
   "execution_count": 8,
   "id": "3dee4ec7-05a1-4fd4-a00d-fef08f2315da",
   "metadata": {},
   "outputs": [],
   "source": [
    "bcg1_galex = pd.read_csv(\"outputs/vlass_galex_crossmatches/bcg1_cands_galex_searchrad6.0arcsec.csv\")\n",
    "bcg2_galex = pd.read_csv(\"outputs/vlass_galex_crossmatches/bcg2_cands_galex_searchrad6.0arcsec.csv\")\n",
    "bcg3_galex = pd.read_csv(\"outputs/vlass_galex_crossmatches/bcg3_cands_galex_searchrad6.0arcsec.csv\")\n",
    "bcg4_galex = pd.read_csv(\"outputs/vlass_galex_crossmatches/bcg4_cands_galex_searchrad6.0arcsec.csv\")"
   ]
  },
  {
   "cell_type": "markdown",
   "id": "3c4f7ddf-925d-4cee-9f01-39f0e3def850",
   "metadata": {},
   "source": [
    "#### How many have multiple matches?"
   ]
  },
  {
   "cell_type": "code",
   "execution_count": 9,
   "id": "ad5d635b-b118-4898-ab07-886c17e6dac5",
   "metadata": {},
   "outputs": [
    {
     "name": "stdout",
     "output_type": "stream",
     "text": [
      "cluster_name\n",
      "LoVoCCS-21     2\n",
      "LoVoCCS-134    2\n",
      "Name: count, dtype: int64 \n",
      "\n",
      "cluster_name\n",
      "LoVoCCS-134    2\n",
      "Name: count, dtype: int64 \n",
      "\n",
      "Series([], Name: count, dtype: int64) \n",
      "\n",
      "Series([], Name: count, dtype: int64) \n",
      "\n"
     ]
    }
   ],
   "source": [
    "bcg1_galex_clust_occ = bcg1_galex.value_counts('cluster_name')\n",
    "print(bcg1_galex_clust_occ[bcg1_galex_clust_occ > 1], '\\n')\n",
    "\n",
    "bcg2_galex_clust_occ = bcg2_galex.value_counts('cluster_name')\n",
    "print(bcg2_galex_clust_occ[bcg2_galex_clust_occ > 1], '\\n')\n",
    "\n",
    "bcg3_galex_clust_occ = bcg3_galex.value_counts('cluster_name')\n",
    "print(bcg3_galex_clust_occ[bcg3_galex_clust_occ > 1], '\\n')\n",
    "\n",
    "bcg4_galex_clust_occ = bcg4_galex.value_counts('cluster_name')\n",
    "print(bcg4_galex_clust_occ[bcg4_galex_clust_occ > 1], '\\n')"
   ]
  },
  {
   "cell_type": "markdown",
   "id": "bf71f170-9528-49ec-9ba6-b8e40d3cb854",
   "metadata": {},
   "source": [
    "## Combining information"
   ]
  },
  {
   "cell_type": "markdown",
   "id": "d1c184c2-d0ae-41a0-a197-a537813587ce",
   "metadata": {},
   "source": [
    "Rather than one giga-table, we will make tables for each set of BCG candidates (i.e. BCG1, BCG2, ...) - this will be easier because some of the cross-matches have multiple entries per BCG candidate - due to the fact that it wasn't really a cross-match, it was a cone-search within a search radius."
   ]
  },
  {
   "cell_type": "code",
   "execution_count": 10,
   "id": "74f3a4bf-9c59-4fc6-8df9-c200deeb607d",
   "metadata": {},
   "outputs": [],
   "source": [
    "fidz_cols = ['cluster_name', 'z']"
   ]
  },
  {
   "cell_type": "markdown",
   "id": "beb8f4fd-12cb-4700-bab5-cfbfb10b48ad",
   "metadata": {},
   "source": [
    "### VLASS"
   ]
  },
  {
   "cell_type": "markdown",
   "id": "99dbe0f6-ee57-4e7c-bfc4-cbc80db88d4c",
   "metadata": {},
   "source": [
    "We won't be merging GALEX and VLASS matches together, because as they both may have multiple possible matches to the BCG candidate, they are not necessarily representing the same thing - the VLASS matches may be representing different components of large jets for instance (can be registered as multiple entries in the VLASS catalogs), whereas the GALEX matches will hopefully just be the galaxy itself:"
   ]
  },
  {
   "cell_type": "code",
   "execution_count": 11,
   "id": "e419c531-d9e5-4c8f-be9e-f9f046a970fa",
   "metadata": {},
   "outputs": [],
   "source": [
    "vlass_cols = ['cluster_name', 'Ftot', 'e_Ftot', 'Fpeak', 'e_Fpeak', 'arcsec_sep_from_bcg']"
   ]
  },
  {
   "cell_type": "markdown",
   "id": "0cf69eb3-41b6-41a6-8147-5b74a56ab12b",
   "metadata": {},
   "source": [
    "Combining tables:"
   ]
  },
  {
   "cell_type": "code",
   "execution_count": 12,
   "id": "4f332afa-f03f-4f32-a0a1-dcd3f2364063",
   "metadata": {},
   "outputs": [],
   "source": [
    "bcg1_vlass_info = pd.merge(bcg1_vlass[vlass_cols], bcg1_fidz[fidz_cols], on='cluster_name')\n",
    "bcg2_vlass_info = pd.merge(bcg2_vlass[vlass_cols], bcg2_fidz[fidz_cols], on='cluster_name')\n",
    "bcg3_vlass_info = pd.merge(bcg3_vlass[vlass_cols], bcg3_fidz[fidz_cols], on='cluster_name')\n",
    "\n",
    "# No VLASS matches here\n",
    "# bcg4_vlass_info = pd.merge(bcg4_vlass[vlass_cols], bcg4_fidz[fidz_cols], on='cluster_name')\n",
    "\n",
    "bcg1_vlass_info = bcg1_vlass_info.dropna(subset=['Ftot'], how='all')\n",
    "bcg2_vlass_info = bcg2_vlass_info.dropna(subset=['Ftot'], how='all')\n",
    "bcg3_vlass_info = bcg3_vlass_info.dropna(subset=['Ftot'], how='all')\n",
    "# bcg4_vlass_info = bcg4_vlass_info.dropna(subset=['Ftot'], how='all')"
   ]
  },
  {
   "cell_type": "markdown",
   "id": "770ca812-5da9-452b-a64b-ccf812297c3d",
   "metadata": {},
   "source": [
    "### GALEX"
   ]
  },
  {
   "cell_type": "code",
   "execution_count": 13,
   "id": "2b1be239-315a-44b0-b3c1-2f16fb282f0e",
   "metadata": {},
   "outputs": [],
   "source": [
    "galex_cols = ['cluster_name', 'b', 'E(B-V)', 'Fflux', 'e_Fflux', 'Nflux', 'e_Nflux', 'arcsec_sep_from_bcg']\n",
    "galex_rename_cols = {'b': 'bands', 'Fflux': 'FUV_flux', 'e_Fflux': 'err_FUV_flux', \n",
    "                     'Nflux': 'NUV_flux', 'e_Nflux': 'err_NUV_flux'}\n",
    "galex_conv_col_vals = {'bands': {1: 'NUV', 2: 'FUV', 3: 'NUV+FUV'}}"
   ]
  },
  {
   "cell_type": "markdown",
   "id": "525d2579-b37b-4c09-9c02-5817c931b085",
   "metadata": {},
   "source": [
    "Combining tables:"
   ]
  },
  {
   "cell_type": "code",
   "execution_count": 14,
   "id": "2001da99-b04c-49b2-bb6a-8a840cd16bbc",
   "metadata": {},
   "outputs": [],
   "source": [
    "bcg1_galex_info = pd.merge(bcg1_galex[galex_cols], bcg1_fidz[fidz_cols], on='cluster_name').rename(columns=galex_rename_cols)\n",
    "bcg2_galex_info = pd.merge(bcg2_galex[galex_cols], bcg2_fidz[fidz_cols], on='cluster_name').rename(columns=galex_rename_cols)\n",
    "bcg3_galex_info = pd.merge(bcg3_galex[galex_cols], bcg3_fidz[fidz_cols], on='cluster_name').rename(columns=galex_rename_cols)\n",
    "bcg4_galex_info = pd.merge(bcg4_galex[galex_cols], bcg4_fidz[fidz_cols], on='cluster_name').rename(columns=galex_rename_cols)\n",
    "\n",
    "for col_to_conv, conv_dict in galex_conv_col_vals.items():\n",
    "    bcg1_galex_info[col_to_conv] = bcg1_galex_info[col_to_conv].apply(lambda x: conv_dict[x] if not np.isnan(x) else x)\n",
    "    bcg2_galex_info[col_to_conv] = bcg2_galex_info[col_to_conv].apply(lambda x: conv_dict[x] if not np.isnan(x) else x)\n",
    "    bcg3_galex_info[col_to_conv] = bcg3_galex_info[col_to_conv].apply(lambda x: conv_dict[x] if not np.isnan(x) else x)\n",
    "    bcg4_galex_info[col_to_conv] = bcg4_galex_info[col_to_conv].apply(lambda x: conv_dict[x] if not np.isnan(x) else x)\n",
    "\n",
    "bcg1_galex_info = bcg1_galex_info.dropna(subset=['NUV_flux', 'FUV_flux'], how='all')\n",
    "bcg2_galex_info = bcg2_galex_info.dropna(subset=['NUV_flux', 'FUV_flux'], how='all')\n",
    "bcg3_galex_info = bcg3_galex_info.dropna(subset=['NUV_flux', 'FUV_flux'], how='all')\n",
    "bcg4_galex_info = bcg4_galex_info.dropna(subset=['NUV_flux', 'FUV_flux'], how='all')"
   ]
  },
  {
   "cell_type": "markdown",
   "id": "3eebc619-4896-4dd7-bb14-3dbed3805ad3",
   "metadata": {},
   "source": [
    "## Calculating luminosities"
   ]
  },
  {
   "cell_type": "markdown",
   "id": "417e2403-e41f-48aa-8703-484446ecc168",
   "metadata": {},
   "source": [
    "### VLASS"
   ]
  },
  {
   "cell_type": "markdown",
   "id": "711529a2-9eb9-4db4-abac-0a8b1cf6eb4f",
   "metadata": {},
   "source": [
    "<span style='color:red'>**THE FLUX DENSITIES IN THIS CATALOG ARE THOUGHT TO BE SYSTEMATICALLY UNDERESTIMATED BY ~15%**</span>\n",
    "\n",
    "The effective frequency I have chosen is simply because it is the middle of the S-band that the VLASS observations are made in:"
   ]
  },
  {
   "cell_type": "code",
   "execution_count": 15,
   "id": "ac2fd0b7-f29d-4113-ae9b-085230b4ba6c",
   "metadata": {},
   "outputs": [],
   "source": [
    "VLASS_EFF_FREQ = Quantity(3, 'GHz')"
   ]
  },
  {
   "cell_type": "markdown",
   "id": "e9f8c4af-0985-4e50-b588-5cc0b7fe9f19",
   "metadata": {},
   "source": [
    "Calculating the luminosities:"
   ]
  },
  {
   "cell_type": "code",
   "execution_count": 33,
   "id": "3e111428-d244-46f1-bebc-36472035033a",
   "metadata": {},
   "outputs": [],
   "source": [
    "for cur_cand_ind, cur_cand_info in enumerate([bcg1_vlass_info, bcg2_vlass_info, bcg2_vlass_info, bcg2_vlass_info]):\n",
    "    # Calculating luminosity distance\n",
    "    cur_lum_dist = cosmo.luminosity_distance(cur_cand_info['z'].values)[..., None]\n",
    "    # Reading out total VLASS flux/err\n",
    "    cur_vlass_flux = Quantity(cur_cand_info[['Ftot', 'e_Ftot']].values, '1e-6 Jy')\n",
    "    \n",
    "    # Now the actual calculation\n",
    "    cur_vlass_lum = (4*np.pi*(cur_lum_dist**2)*cur_vlass_flux).to('erg/s', equivalencies=spectral_density(VLASS_EFF_FREQ))\n",
    "    cur_cand_info[['VLASS_lum', 'err_VLASS_lum']] = cur_vlass_lum.value\n",
    "\n",
    "    cur_cand_info.to_csv(lum_out_dir + \"BCG\" + str(cur_cand_ind+1) + \"_vlass_luminosities\" + \".csv\", index=False)"
   ]
  },
  {
   "cell_type": "markdown",
   "id": "d63e5286-335e-4c36-827d-32611b11a299",
   "metadata": {},
   "source": [
    "### GALEX"
   ]
  },
  {
   "cell_type": "markdown",
   "id": "c6799ecc-842c-4890-a221-9414d6d29e0b",
   "metadata": {},
   "source": [
    "Have to use an effective wavelength to go from luminosity spectral density to luminosity - these are for GALEX, and are taken from https://ui.adsabs.harvard.edu/abs/2007ApJS..173..682M/abstract."
   ]
  },
  {
   "cell_type": "code",
   "execution_count": 17,
   "id": "5f7cfd8d-dea5-4563-baca-4fc127f57e45",
   "metadata": {},
   "outputs": [],
   "source": [
    "FUV_EFF_WAV = Quantity(1538.6, 'angstrom')\n",
    "NUV_EFF_WAV = Quantity(2315.7, 'angstrom')"
   ]
  },
  {
   "cell_type": "markdown",
   "id": "369aece5-1f2a-4207-9d7e-741d3e8dee73",
   "metadata": {},
   "source": [
    "Calculating the luminosities:"
   ]
  },
  {
   "cell_type": "code",
   "execution_count": 34,
   "id": "ad1f2aa9-b9a3-4039-92b5-673ebfdc1c4c",
   "metadata": {},
   "outputs": [],
   "source": [
    "for cur_cand_ind, cur_cand_info in enumerate([bcg1_galex_info, bcg2_galex_info, bcg2_galex_info, bcg2_galex_info]):\n",
    "    # Calculating luminosity distance\n",
    "    cur_lum_dist = cosmo.luminosity_distance(cur_cand_info['z'].values)[..., None]\n",
    "    # Reading out FUV flux/err\n",
    "    cur_fuv_flux = Quantity(cur_cand_info[['FUV_flux', 'err_FUV_flux']].values, '1e-6 Jy')\n",
    "    # Same for NUV\n",
    "    cur_nuv_flux = Quantity(cur_cand_info[['NUV_flux', 'err_NUV_flux']].values, '1e-6 Jy')\n",
    "\n",
    "    # Now the actual calculation\n",
    "    cur_fuv_lum = (4*np.pi*(cur_lum_dist**2)*cur_fuv_flux).to('erg/s', equivalencies=spectral_density(FUV_EFF_WAV))\n",
    "    cur_cand_info[['FUV_lum', 'err_FUV_lum']] = cur_fuv_lum.value\n",
    "    \n",
    "    cur_nuv_lum = (4*np.pi*(cur_lum_dist**2)*cur_nuv_flux).to('erg/s', equivalencies=spectral_density(NUV_EFF_WAV))\n",
    "    cur_cand_info[['NUV_lum', 'err_NUV_lum']] = cur_nuv_lum.value\n",
    "\n",
    "    cur_cand_info.to_csv(lum_out_dir + \"BCG\" + str(cur_cand_ind+1) + \"_galex_luminosities\" + \".csv\", index=False)"
   ]
  },
  {
   "cell_type": "markdown",
   "id": "ea6c521b-f3a5-4b0e-bf01-2623ea55afb7",
   "metadata": {},
   "source": [
    "## Comparing VLASS and GALEX luminosities"
   ]
  },
  {
   "cell_type": "markdown",
   "id": "6ee5f11e-9d0d-4011-9847-675df5d45de5",
   "metadata": {},
   "source": []
  },
  {
   "cell_type": "markdown",
   "id": "cd98dffb-d491-4fdf-87df-1ed668fdad25",
   "metadata": {},
   "source": [
    "### BCG1 - selecting matches closest to the BCG candidate"
   ]
  },
  {
   "cell_type": "markdown",
   "id": "e3354009-839a-4082-9384-76e0533f1483",
   "metadata": {},
   "source": [
    "Here we wish to plot the VLASS and GALEX luminosities against one another - some cluster BCG candidates have multiple matches in VLASS or GALEX catalogs, and in those cases we will choose just one entry to compare. The entry selected will be the one closest to the original BCG candidate coordinate."
   ]
  },
  {
   "cell_type": "code",
   "execution_count": 19,
   "id": "a769d2e8-8134-4003-8a97-ff63d08063ae",
   "metadata": {},
   "outputs": [],
   "source": [
    "bcg1_vlass_info = bcg1_vlass_info.reset_index(drop=True)\n",
    "sel_ind = bcg1_vlass_info.groupby('cluster_name').idxmin()['arcsec_sep_from_bcg']  #[bcg1_vlass_info['cluster_name']]\n",
    "# \n",
    "bcg1_single_match_vlass_lums = bcg1_vlass_info.loc[sel_ind, ['cluster_name', 'VLASS_lum', 'err_VLASS_lum']]"
   ]
  },
  {
   "cell_type": "code",
   "execution_count": 20,
   "id": "08fbf541-85d3-4107-b49b-b8b67b9ce24f",
   "metadata": {},
   "outputs": [],
   "source": [
    "bcg1_galex_info = bcg1_galex_info.reset_index(drop=True)\n",
    "sel_ind = bcg1_galex_info.groupby('cluster_name').idxmin()['arcsec_sep_from_bcg']  #[bcg1_galex_info['cluster_name']]\n",
    "# \n",
    "bcg1_single_match_galex_lums = bcg1_galex_info.loc[sel_ind, ['cluster_name', 'FUV_lum', 'err_FUV_lum', 'NUV_lum', 'err_NUV_lum']]"
   ]
  },
  {
   "cell_type": "markdown",
   "id": "e4e385d8-6acb-41c8-bec3-8252118dc37b",
   "metadata": {},
   "source": [
    "Combining the tables:"
   ]
  },
  {
   "cell_type": "code",
   "execution_count": 21,
   "id": "63e11fa6-0c75-4482-8fbf-8b15fe1b7b6f",
   "metadata": {},
   "outputs": [],
   "source": [
    "bcg1_onematch_vlass_galex_lums = pd.merge(bcg1_single_match_vlass_lums, bcg1_single_match_galex_lums, on='cluster_name')"
   ]
  },
  {
   "cell_type": "markdown",
   "id": "e677cabb-8a64-4e0e-9480-12be37d789da",
   "metadata": {},
   "source": [
    "Viewing the relation between UV and VLASS luminosity:"
   ]
  },
  {
   "cell_type": "code",
   "execution_count": 35,
   "id": "12aac38e-6050-497d-bccc-60af8034164d",
   "metadata": {},
   "outputs": [
    {
     "data": {
      "image/png": "[encoded data removed]",
      "text/plain": [
       "<Figure size 1250x600 with 2 Axes>"
      ]
     },
     "metadata": {},
     "output_type": "display_data"
    }
   ],
   "source": [
    "fig, ax_arr = plt.subplots(ncols=2, figsize=(12.5, 6))\n",
    "\n",
    "for ax in ax_arr:\n",
    "    ax.minorticks_on()\n",
    "    ax.tick_params(which='both', direction='in', top=True, right=True)\n",
    "\n",
    "ax = ax_arr[0]\n",
    "# Plotting the FUV data\n",
    "ax.errorbar(bcg1_onematch_vlass_galex_lums['VLASS_lum'].values, bcg1_onematch_vlass_galex_lums['FUV_lum'].values,\n",
    "            xerr=bcg1_onematch_vlass_galex_lums['err_VLASS_lum'].values, yerr=bcg1_onematch_vlass_galex_lums['err_FUV_lum'].values, \n",
    "            fmt='D', capsize=2, color='darkcyan')\n",
    "\n",
    "# Labelling\n",
    "ax.set_xlabel(r'$L^{3\\rm{GHz}}_{\\rm{VLASS}}$', fontsize=17)\n",
    "ax.set_ylabel(r'$L^{\\rm{FUV}}_{\\rm{GALEX}}$', fontsize=17)\n",
    "\n",
    "# Log scaling yay\n",
    "ax.set_xscale('log')\n",
    "ax.set_yscale('log')\n",
    "\n",
    "ax = ax_arr[1]\n",
    "# Plotting the FUV data\n",
    "ax.errorbar(bcg1_onematch_vlass_galex_lums['VLASS_lum'].values, bcg1_onematch_vlass_galex_lums['NUV_lum'].values,\n",
    "            xerr=bcg1_onematch_vlass_galex_lums['err_VLASS_lum'].values, yerr=bcg1_onematch_vlass_galex_lums['err_NUV_lum'].values, \n",
    "            fmt='x', capsize=2, color='firebrick')\n",
    "\n",
    "# Labelling\n",
    "ax.set_xlabel(r'$L^{3\\rm{GHz}}_{\\rm{VLASS}}$', fontsize=17)\n",
    "ax.set_ylabel(r'$L^{\\rm{NUV}}_{\\rm{GALEX}}$', fontsize=17)\n",
    "\n",
    "# Log scaling yay\n",
    "ax.set_xscale('log')\n",
    "ax.set_yscale('log')\n",
    "\n",
    "# plt.legend(loc='best')\n",
    "\n",
    "plt.tight_layout()\n",
    "plt.savefig(lum_out_dir + \"BCG1_uvlum-vs-vlasslum.pdf\")\n",
    "plt.show()"
   ]
  },
  {
   "cell_type": "code",
   "execution_count": 23,
   "id": "e87d8d72-1dca-4624-8ffd-a82c6819c51d",
   "metadata": {},
   "outputs": [
    {
     "data": {
      "text/html": [
       "<div>\n",
       "<style scoped>\n",
       "    .dataframe tbody tr th:only-of-type {\n",
       "        vertical-align: middle;\n",
       "    }\n",
       "\n",
       "    .dataframe tbody tr th {\n",
       "        vertical-align: top;\n",
       "    }\n",
       "\n",
       "    .dataframe thead th {\n",
       "        text-align: right;\n",
       "    }\n",
       "</style>\n",
       "<table border=\"1\" class=\"dataframe\">\n",
       "  <thead>\n",
       "    <tr style=\"text-align: right;\">\n",
       "      <th></th>\n",
       "      <th>cluster_name</th>\n",
       "      <th>VLASS_lum</th>\n",
       "      <th>err_VLASS_lum</th>\n",
       "      <th>FUV_lum</th>\n",
       "      <th>err_FUV_lum</th>\n",
       "      <th>NUV_lum</th>\n",
       "      <th>err_NUV_lum</th>\n",
       "    </tr>\n",
       "  </thead>\n",
       "  <tbody>\n",
       "    <tr>\n",
       "      <th>1</th>\n",
       "      <td>LoVoCCS-119</td>\n",
       "      <td>1.566077e+36</td>\n",
       "      <td>4.026790e+35</td>\n",
       "      <td>2.868025e+43</td>\n",
       "      <td>2.904961e+42</td>\n",
       "      <td>3.099745e+43</td>\n",
       "      <td>1.951002e+42</td>\n",
       "    </tr>\n",
       "    <tr>\n",
       "      <th>12</th>\n",
       "      <td>LoVoCCS-75</td>\n",
       "      <td>1.162527e+36</td>\n",
       "      <td>2.667028e+35</td>\n",
       "      <td>1.475145e+43</td>\n",
       "      <td>2.220860e+42</td>\n",
       "      <td>2.048046e+43</td>\n",
       "      <td>1.886228e+42</td>\n",
       "    </tr>\n",
       "    <tr>\n",
       "      <th>14</th>\n",
       "      <td>LoVoCCS-98</td>\n",
       "      <td>6.789770e+35</td>\n",
       "      <td>1.583557e+35</td>\n",
       "      <td>5.284385e+42</td>\n",
       "      <td>1.205281e+42</td>\n",
       "      <td>4.004519e+42</td>\n",
       "      <td>7.412979e+41</td>\n",
       "    </tr>\n",
       "  </tbody>\n",
       "</table>\n",
       "</div>"
      ],
      "text/plain": [
       "   cluster_name     VLASS_lum  err_VLASS_lum       FUV_lum   err_FUV_lum  \\\n",
       "1   LoVoCCS-119  1.566077e+36   4.026790e+35  2.868025e+43  2.904961e+42   \n",
       "12   LoVoCCS-75  1.162527e+36   2.667028e+35  1.475145e+43  2.220860e+42   \n",
       "14   LoVoCCS-98  6.789770e+35   1.583557e+35  5.284385e+42  1.205281e+42   \n",
       "\n",
       "         NUV_lum   err_NUV_lum  \n",
       "1   3.099745e+43  1.951002e+42  \n",
       "12  2.048046e+43  1.886228e+42  \n",
       "14  4.004519e+42  7.412979e+41  "
      ]
     },
     "execution_count": 23,
     "metadata": {},
     "output_type": "execute_result"
    }
   ],
   "source": [
    "bcg1_onematch_vlass_galex_lums[(bcg1_onematch_vlass_galex_lums['VLASS_lum'] < 3e+36) & (bcg1_onematch_vlass_galex_lums['FUV_lum'] > 4e+42)]"
   ]
  },
  {
   "cell_type": "markdown",
   "id": "351d8af0-51dd-4e07-ad96-0f447964fdac",
   "metadata": {},
   "source": [
    "### BCG2 - selecting matches closest to the BCG candidate"
   ]
  },
  {
   "cell_type": "code",
   "execution_count": 24,
   "id": "ea354ef8-aeea-41a4-8968-0bc234302aca",
   "metadata": {},
   "outputs": [],
   "source": [
    "bcg2_vlass_info = bcg2_vlass_info.reset_index(drop=True)\n",
    "sel_ind = bcg2_vlass_info.groupby('cluster_name').idxmin()['arcsec_sep_from_bcg']  #[bcg1_vlass_info['cluster_name']]\n",
    "# \n",
    "bcg2_single_match_vlass_lums = bcg2_vlass_info.loc[sel_ind, ['cluster_name', 'VLASS_lum', 'err_VLASS_lum']]"
   ]
  },
  {
   "cell_type": "code",
   "execution_count": 25,
   "id": "507adccd-6e3d-4c00-ad23-14771b175590",
   "metadata": {},
   "outputs": [],
   "source": [
    "bcg2_galex_info = bcg2_galex_info.reset_index(drop=True)\n",
    "sel_ind = bcg2_galex_info.groupby('cluster_name').idxmin()['arcsec_sep_from_bcg']  #[bcg1_galex_info['cluster_name']]\n",
    "# \n",
    "bcg2_single_match_galex_lums = bcg2_galex_info.loc[sel_ind, ['cluster_name', 'FUV_lum', 'err_FUV_lum', 'NUV_lum', 'err_NUV_lum']]"
   ]
  },
  {
   "cell_type": "markdown",
   "id": "1e3c1193-d683-4699-b344-4ba83ad40c44",
   "metadata": {},
   "source": [
    "Combining the tables:"
   ]
  },
  {
   "cell_type": "code",
   "execution_count": 26,
   "id": "92d5cab1-ea25-440b-8992-a97dad801e26",
   "metadata": {},
   "outputs": [],
   "source": [
    "bcg2_onematch_vlass_galex_lums = pd.merge(bcg2_single_match_vlass_lums, bcg2_single_match_galex_lums, on='cluster_name')"
   ]
  },
  {
   "cell_type": "markdown",
   "id": "f26bf646-2787-4068-b53d-8fa69ebb9390",
   "metadata": {},
   "source": [
    "Viewing the relation between UV and VLASS luminosity:"
   ]
  },
  {
   "cell_type": "code",
   "execution_count": 36,
   "id": "acdd56c4-c00a-4611-ba1b-26df2eee8fab",
   "metadata": {},
   "outputs": [
    {
     "data": {
      "image/png": "[encoded data removed]",
      "text/plain": [
       "<Figure size 1250x600 with 2 Axes>"
      ]
     },
     "metadata": {},
     "output_type": "display_data"
    }
   ],
   "source": [
    "fig, ax_arr = plt.subplots(ncols=2, figsize=(12.5, 6))\n",
    "\n",
    "for ax in ax_arr:\n",
    "    ax.minorticks_on()\n",
    "    ax.tick_params(which='both', direction='in', top=True, right=True)\n",
    "\n",
    "ax = ax_arr[0]\n",
    "# Plotting the FUV data\n",
    "ax.errorbar(bcg2_onematch_vlass_galex_lums['VLASS_lum'].values, bcg2_onematch_vlass_galex_lums['FUV_lum'].values,\n",
    "            xerr=bcg2_onematch_vlass_galex_lums['err_VLASS_lum'].values, yerr=bcg2_onematch_vlass_galex_lums['err_FUV_lum'].values, \n",
    "            fmt='D', capsize=2, color='darkcyan')\n",
    "\n",
    "# Labelling\n",
    "ax.set_xlabel(r'$L^{3\\rm{GHz}}_{\\rm{VLASS}}$', fontsize=17)\n",
    "ax.set_ylabel(r'$L^{\\rm{FUV}}_{\\rm{GALEX}}$', fontsize=17)\n",
    "\n",
    "# Log scaling yay\n",
    "ax.set_xscale('log')\n",
    "ax.set_yscale('log')\n",
    "\n",
    "ax = ax_arr[1]\n",
    "# Plotting the FUV data\n",
    "ax.errorbar(bcg2_onematch_vlass_galex_lums['VLASS_lum'].values, bcg2_onematch_vlass_galex_lums['NUV_lum'].values,\n",
    "            xerr=bcg2_onematch_vlass_galex_lums['err_VLASS_lum'].values, yerr=bcg2_onematch_vlass_galex_lums['err_NUV_lum'].values, \n",
    "            fmt='x', capsize=2, color='firebrick')\n",
    "\n",
    "# Labelling\n",
    "ax.set_xlabel(r'$L^{3\\rm{GHz}}_{\\rm{VLASS}}$', fontsize=17)\n",
    "ax.set_ylabel(r'$L^{\\rm{NUV}}_{\\rm{GALEX}}$', fontsize=17)\n",
    "\n",
    "# Log scaling yay\n",
    "ax.set_xscale('log')\n",
    "ax.set_yscale('log')\n",
    "\n",
    "# plt.legend(loc='best')\n",
    "\n",
    "plt.savefig(lum_out_dir + \"BCG2_uvlum-vs-vlasslum.pdf\")\n",
    "plt.tight_layout()\n",
    "plt.show()"
   ]
  }
 ],
 "metadata": {
  "kernelspec": {
   "display_name": "Python 3 (ipykernel)",
   "language": "python",
   "name": "python3"
  },
  "language_info": {
   "codemirror_mode": {
    "name": "ipython",
    "version": 3
   },
   "file_extension": ".py",
   "mimetype": "text/x-python",
   "name": "python",
   "nbconvert_exporter": "python",
   "pygments_lexer": "ipython3",
   "version": "3.12.9"
  }
 },
 "nbformat": 4,
 "nbformat_minor": 5
}
