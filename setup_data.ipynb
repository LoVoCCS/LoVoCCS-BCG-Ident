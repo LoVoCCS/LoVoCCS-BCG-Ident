{
 "cells": [
  {
   "cell_type": "markdown",
   "id": "6ffef524-0c52-4f0e-bbb9-e8fe28efef7a",
   "metadata": {},
   "source": [
    "# Setting up for BCG identification"
   ]
  },
  {
   "cell_type": "markdown",
   "id": "a3f6f7e9-0765-4fb4-bd07-c5a534aec00e",
   "metadata": {},
   "source": [
    "If you're a student working on a BCG identification project, there is no need for you to run this notebook!\n",
    "\n",
    "You're welcome to read through and get a handle on what the setup processes are doing though - the point of this notebook is essentially to make sure that all optical, infrared, and X-ray images are generated/downloaded ready for you to look at. The 'spot the BCG' notebook (the first of the set) will explain everything you need to know about those different wavelengths, and what we use them for.\n",
    "\n",
    "**If you're running this to setup a BCG identification run, make sure to go and configure everything in 'common.py' before running!**"
   ]
  },
  {
   "cell_type": "markdown",
   "id": "4d930d1d-c71f-4681-b6c3-10be0b8695de",
   "metadata": {},
   "source": [
    "## Import Statements"
   ]
  },
  {
   "cell_type": "code",
   "execution_count": 1,
   "id": "0bddffd0-5ada-4ad5-854b-068066985ac3",
   "metadata": {},
   "outputs": [],
   "source": [
    "from ident_run_setup import cosmo, rel_miss, rel_downloaders, side_length, init_samp_file, HISTORY_FILE_PATH, \\\n",
    "    HISTORY_ROOT, load_history, proj_name, update_history, OUTPUT_ROOT, OUTPUT_CLUSTER_PATH\n",
    "\n",
    "import pandas as pd\n",
    "pd.set_option('display.max_columns', 500)\n",
    "import numpy as np\n",
    "from tqdm import tqdm\n",
    "from astropy.units import Quantity\n",
    "import os\n",
    "from warnings import warn\n",
    "import json\n",
    "from copy import deepcopy\n",
    "from shutil import copyfile\n",
    "from urllib.error import HTTPError\n",
    "\n",
    "try:\n",
    "    from xga.sourcetools import ang_to_rad\n",
    "    from xga.imagetools.misc import pix_deg_scale\n",
    "except:\n",
    "    # Using a general 'except' clause is not usually recommended - you ideally want to be catching\n",
    "    #  specific TYPES of error, so would specify them after the 'except' clause\n",
    "    raise ValueError(\"There was a problem importing XGA - likely running with a pre-multi-mission version.\")\n",
    "\n",
    "# Store the current directory\n",
    "TOP_WD = os.getcwd()"
   ]
  },
  {
   "cell_type": "markdown",
   "id": "0e94001d-0408-4aef-a5c2-58a1928c40c7",
   "metadata": {},
   "source": [
    "## What cosmology is set?"
   ]
  },
  {
   "cell_type": "markdown",
   "id": "ebc2efd8-3a6c-41ab-a962-4ea8b36f0227",
   "metadata": {},
   "source": []
  },
  {
   "cell_type": "code",
   "execution_count": 2,
   "id": "b55784a3-ea71-4dbb-ab96-0b81d7565062",
   "metadata": {},
   "outputs": [
    {
     "data": {
      "text/plain": [
       "LambdaCDM(H0=71.0 km / (Mpc s), Om0=0.2648, Ode0=0.7352, Tcmb0=0.0 K, Neff=3.04, m_nu=None, Ob0=0.0448)"
      ]
     },
     "execution_count": 2,
     "metadata": {},
     "output_type": "execute_result"
    }
   ],
   "source": [
    "cosmo"
   ]
  },
  {
   "cell_type": "markdown",
   "id": "d736c93c-9bd7-402b-a31f-3e5ac7a5ed61",
   "metadata": {},
   "source": [
    "## Loading and setting up the sample of clusters"
   ]
  },
  {
   "cell_type": "markdown",
   "id": "195c4d5a-bb7d-4c3d-802b-a9b904a03b02",
   "metadata": {},
   "source": []
  },
  {
   "cell_type": "markdown",
   "id": "aef468c9-a5e5-45a5-a42f-c3b11e3209f3",
   "metadata": {},
   "source": [
    "### Reading in the sample file and checking for required information"
   ]
  },
  {
   "cell_type": "markdown",
   "id": "d21154f3-6915-4576-9bec-cd700cd77300",
   "metadata": {},
   "source": []
  },
  {
   "cell_type": "code",
   "execution_count": 6,
   "id": "cf638c56-5dbe-4686-a076-ddda7ad88137",
   "metadata": {},
   "outputs": [
    {
     "data": {
      "text/html": [
       "<div>\n",
       "<style scoped>\n",
       "    .dataframe tbody tr th:only-of-type {\n",
       "        vertical-align: middle;\n",
       "    }\n",
       "\n",
       "    .dataframe tbody tr th {\n",
       "        vertical-align: top;\n",
       "    }\n",
       "\n",
       "    .dataframe thead th {\n",
       "        text-align: right;\n",
       "    }\n",
       "</style>\n",
       "<table border=\"1\" class=\"dataframe\">\n",
       "  <thead>\n",
       "    <tr style=\"text-align: right;\">\n",
       "      <th></th>\n",
       "      <th>LoVoCCSID</th>\n",
       "      <th>common_name</th>\n",
       "      <th>cent_im_ra</th>\n",
       "      <th>cent_im_dec</th>\n",
       "      <th>redshift</th>\n",
       "      <th>MCXC_R500</th>\n",
       "      <th>MCXC_RA</th>\n",
       "      <th>MCXC_DEC</th>\n",
       "      <th>manual_xray_ra</th>\n",
       "      <th>manual_xray_dec</th>\n",
       "      <th>MCXC_Lx500_0.1_2.4</th>\n",
       "      <th>name</th>\n",
       "    </tr>\n",
       "  </thead>\n",
       "  <tbody>\n",
       "    <tr>\n",
       "      <th>0</th>\n",
       "      <td>1</td>\n",
       "      <td>A2029</td>\n",
       "      <td>227.734300</td>\n",
       "      <td>5.745471</td>\n",
       "      <td>0.0766</td>\n",
       "      <td>1.3344</td>\n",
       "      <td>227.73000</td>\n",
       "      <td>5.720000</td>\n",
       "      <td>227.734300</td>\n",
       "      <td>5.745471</td>\n",
       "      <td>8.726709e+44</td>\n",
       "      <td>LoVoCCS-1</td>\n",
       "    </tr>\n",
       "    <tr>\n",
       "      <th>1</th>\n",
       "      <td>2</td>\n",
       "      <td>A401</td>\n",
       "      <td>44.740000</td>\n",
       "      <td>13.580000</td>\n",
       "      <td>0.0739</td>\n",
       "      <td>1.2421</td>\n",
       "      <td>44.74000</td>\n",
       "      <td>13.580000</td>\n",
       "      <td>NaN</td>\n",
       "      <td>NaN</td>\n",
       "      <td>6.088643e+44</td>\n",
       "      <td>LoVoCCS-2</td>\n",
       "    </tr>\n",
       "    <tr>\n",
       "      <th>2</th>\n",
       "      <td>4A</td>\n",
       "      <td>A85North</td>\n",
       "      <td>10.458750</td>\n",
       "      <td>-9.301944</td>\n",
       "      <td>0.0555</td>\n",
       "      <td>1.2103</td>\n",
       "      <td>10.45875</td>\n",
       "      <td>-9.301944</td>\n",
       "      <td>NaN</td>\n",
       "      <td>NaN</td>\n",
       "      <td>5.100085e+44</td>\n",
       "      <td>LoVoCCS-4A</td>\n",
       "    </tr>\n",
       "    <tr>\n",
       "      <th>3</th>\n",
       "      <td>4B</td>\n",
       "      <td>A85South</td>\n",
       "      <td>10.451487</td>\n",
       "      <td>-9.460007</td>\n",
       "      <td>0.0555</td>\n",
       "      <td>1.2103</td>\n",
       "      <td>10.45875</td>\n",
       "      <td>-9.301944</td>\n",
       "      <td>10.451487</td>\n",
       "      <td>-9.460007</td>\n",
       "      <td>5.100085e+44</td>\n",
       "      <td>LoVoCCS-4B</td>\n",
       "    </tr>\n",
       "    <tr>\n",
       "      <th>4</th>\n",
       "      <td>5</td>\n",
       "      <td>A3667</td>\n",
       "      <td>303.157313</td>\n",
       "      <td>-56.845978</td>\n",
       "      <td>0.0556</td>\n",
       "      <td>1.1990</td>\n",
       "      <td>303.13000</td>\n",
       "      <td>-56.830000</td>\n",
       "      <td>303.157313</td>\n",
       "      <td>-56.845978</td>\n",
       "      <td>4.871933e+44</td>\n",
       "      <td>LoVoCCS-5</td>\n",
       "    </tr>\n",
       "  </tbody>\n",
       "</table>\n",
       "</div>"
      ],
      "text/plain": [
       "  LoVoCCSID common_name  cent_im_ra  cent_im_dec  redshift  MCXC_R500  \\\n",
       "0         1       A2029  227.734300     5.745471    0.0766     1.3344   \n",
       "1         2        A401   44.740000    13.580000    0.0739     1.2421   \n",
       "2        4A    A85North   10.458750    -9.301944    0.0555     1.2103   \n",
       "3        4B    A85South   10.451487    -9.460007    0.0555     1.2103   \n",
       "4         5       A3667  303.157313   -56.845978    0.0556     1.1990   \n",
       "\n",
       "     MCXC_RA   MCXC_DEC  manual_xray_ra  manual_xray_dec  MCXC_Lx500_0.1_2.4  \\\n",
       "0  227.73000   5.720000      227.734300         5.745471        8.726709e+44   \n",
       "1   44.74000  13.580000             NaN              NaN        6.088643e+44   \n",
       "2   10.45875  -9.301944             NaN              NaN        5.100085e+44   \n",
       "3   10.45875  -9.301944       10.451487        -9.460007        5.100085e+44   \n",
       "4  303.13000 -56.830000      303.157313       -56.845978        4.871933e+44   \n",
       "\n",
       "         name  \n",
       "0   LoVoCCS-1  \n",
       "1   LoVoCCS-2  \n",
       "2  LoVoCCS-4A  \n",
       "3  LoVoCCS-4B  \n",
       "4   LoVoCCS-5  "
      ]
     },
     "execution_count": 6,
     "metadata": {},
     "output_type": "execute_result"
    }
   ],
   "source": [
    "# Point the notebook to the CSV containing basic information about the sample of clusters\n",
    "samp = pd.read_csv(init_samp_file)\n",
    "samp['LoVoCCS_name'] = samp['LoVoCCSID'].apply(lambda x: 'LoVoCCS-'+x)\n",
    "\n",
    "samp = samp.rename(columns={'LoVoCCS_name': 'name', \n",
    "                            'start_ra': 'cent_im_ra',\n",
    "                            'start_dec': 'cent_im_dec',\n",
    "                            'MCXC_Redshift': 'redshift'})\n",
    "\n",
    "# A notebook isn't really the ideal environment for this, as each individual cell can be re-run, changing what is stored in \n",
    "#  memory (RAM). As such, we'll run the checks for specific column names in the same cell in which we read in the sample file, so \n",
    "#  no other cell has a chance to modify the dataframe\n",
    "if (~np.isin(np.array(['name', 'cent_im_ra', 'cent_im_dec', 'redshift']), samp.columns)).any():\n",
    "    col_names = \", \".join(samp.columns)\n",
    "    raise KeyError(\"Some required sample columns are not present; input file columns are - {}.\".format(col_names))\n",
    "\n",
    "# Show a snippet of the sample as a quick check, though it must have the required columns to have reached this point\n",
    "samp.head(5)"
   ]
  },
  {
   "cell_type": "markdown",
   "id": "3d884781-b361-413a-a1ea-554a8634683e",
   "metadata": {},
   "source": [
    "### Adding angular-to-proper distance ratios to sample"
   ]
  },
  {
   "cell_type": "markdown",
   "id": "e79d8d28-fad0-444a-955a-d2429443557b",
   "metadata": {},
   "source": []
  },
  {
   "cell_type": "code",
   "execution_count": 7,
   "id": "9af59206-affc-4710-ab6e-382e70dd65c5",
   "metadata": {},
   "outputs": [
    {
     "data": {
      "text/latex": [
       "$[86.035164,~83.258258,~63.861748,~63.861748,~63.969433,~107.44049,~67.508937,~94.060906,~62.459546,~45.855107,~84.597462,~81.50087,~94.764981,~94.060906,~55.71302,~98.965554,~103.5196,~107.44049,~67.615768,~86.035164,~117.27665,~62.135354,~94.161558,~115.94022,~105.9744,~111.42204,~94.764981,~94.764981,~94.764981,~85.419579,~125.39246,~100.15824,~100.15824,~100.15824,~54.945131,~57.354254,~127.90759,~104.60146,~127.443,~99.264036,~99.661689,~99.661689,~116.3225,~126.60539,~53.295396,~103.81492,~103.81492,~55.164657,~115.65329,~119.93663,~96.6703,~94.865471,~117.46722,~119.7472,~91.233152,~58.554158,~58.554158,~105.77853,~85.932626,~63.754038,~116.70442,~118.9886,~71.233229,~126.13931,~62.675547,~101.14962,~84.391694] \\; \\mathrm{\\frac{kpc}{{}^{\\prime}}}$"
      ],
      "text/plain": [
       "<Quantity [ 86.03516377,  83.25825773,  63.86174827,  63.86174827,\n",
       "            63.96943327, 107.44049192,  67.50893674,  94.06090552,\n",
       "            62.45954604,  45.85510708,  84.59746221,  81.50086974,\n",
       "            94.76498142,  94.06090552,  55.71302041,  98.96555427,\n",
       "           103.51959771, 107.44049192,  67.61576845,  86.03516377,\n",
       "           117.27664903,  62.13535412,  94.16155772, 115.94022489,\n",
       "           105.97439714, 111.42203776,  94.76498142,  94.76498142,\n",
       "            94.76498142,  85.41957868, 125.39246381, 100.15823848,\n",
       "           100.15823848, 100.15823848,  54.94513115,  57.35425368,\n",
       "           127.90759212, 104.60145534, 127.44300133,  99.26403573,\n",
       "            99.66168896,  99.66168896, 116.32249957, 126.60539498,\n",
       "            53.29539604, 103.8149224 , 103.8149224 ,  55.16465691,\n",
       "           115.65328796, 119.93662714,  96.67030018,  94.86547051,\n",
       "           117.46721577, 119.74719582,  91.23315158,  58.5541579 ,\n",
       "            58.5541579 , 105.77853413,  85.93262584,  63.75403805,\n",
       "           116.70442269, 118.98859941,  71.23322927, 126.13931083,\n",
       "            62.67554745, 101.14961698,  84.39169412] kpc / arcmin>"
      ]
     },
     "execution_count": 7,
     "metadata": {},
     "output_type": "execute_result"
    }
   ],
   "source": [
    "ang_step = Quantity(1, 'arcmin')\n",
    "ang_prop_ratios = (ang_to_rad(ang_step, samp['redshift'].values, cosmo=cosmo) / ang_step)\n",
    "# Unfortunately dataframes and quantities do not seem to be getting on at the moment, so we save the\n",
    "#  float version of these values\n",
    "samp['ang_prop_ratio'] = ang_prop_ratios.value\n",
    "ang_prop_ratios"
   ]
  },
  {
   "cell_type": "markdown",
   "id": "e6016340-24b5-4099-bda8-b4dc5319d3a1",
   "metadata": {},
   "source": [
    "## Setting up directory structure and history files"
   ]
  },
  {
   "cell_type": "markdown",
   "id": "21253f29-cb74-445d-b442-a8015f2c03b4",
   "metadata": {},
   "source": []
  },
  {
   "cell_type": "markdown",
   "id": "b16d2350-95b3-46d3-9e43-8936b0adb972",
   "metadata": {},
   "source": [
    "### Storage for files that record the history of the identification run"
   ]
  },
  {
   "cell_type": "markdown",
   "id": "f2524f52-caef-44f7-93a0-84b502a7db16",
   "metadata": {},
   "source": []
  },
  {
   "cell_type": "code",
   "execution_count": 8,
   "id": "6e4ed3a3-27ac-4f64-b586-c95815ecf5d9",
   "metadata": {},
   "outputs": [],
   "source": [
    "# Switch the root path to a relative path, otherwise the history is not portable across machines\n",
    "static_samp_file = os.path.relpath(os.path.join(HISTORY_ROOT, 'STATIC_'+proj_name+'.csv'))\n",
    "\n",
    "if os.path.exists(HISTORY_FILE_PATH):\n",
    "    cur_history = load_history()\n",
    "    samp = pd.read_csv(static_samp_file)\n",
    "    ang_prop_ratios = Quantity(samp['ang_prop_ratio'], 'kpc/arcmin')\n",
    "    \n",
    "else:\n",
    "    if not os.path.exists(HISTORY_ROOT):\n",
    "        os.makedirs(HISTORY_ROOT)\n",
    "    \n",
    "    if not os.path.exists(HISTORY_FILE_PATH):\n",
    "        data_ops = {n: {'raw_images': {mn: {'complete': False, 'unavailable': False} for mn in rel_miss}} for n in samp['name'].values}\n",
    "        bcg_ops = {n: {'ident_complete': False} for n in samp['name'].values}\n",
    "        \n",
    "        cur_history = {'project_name': proj_name,\n",
    "                       'num_clusters': len(samp),\n",
    "                       'static_samp_file': static_samp_file,\n",
    "                       'chosen_missions': rel_miss,\n",
    "                       'cosmo_repr': str(cosmo),\n",
    "                       'side_length': side_length.to('kpc').value,\n",
    "                       'data_operations': data_ops,\n",
    "                       'bcg_identification': bcg_ops,\n",
    "                       'bcg_spec_identification': bcg_ops}\n",
    "        \n",
    "        with open(HISTORY_FILE_PATH, 'w') as write_historo:\n",
    "            json.dump(cur_history, write_historo)\n",
    "        \n",
    "        samp.to_csv(static_samp_file, index=False)\n"
   ]
  },
  {
   "cell_type": "markdown",
   "id": "5d57acd6-eb31-4052-b5b3-ddd2c385508b",
   "metadata": {},
   "source": [
    "### Storage for downloaded/generated raw images"
   ]
  },
  {
   "cell_type": "markdown",
   "id": "8dba5624-0d69-48b6-8c00-a149fb4ceaa1",
   "metadata": {},
   "source": []
  },
  {
   "cell_type": "code",
   "execution_count": 9,
   "id": "d36f94b0-f6d2-4fd4-bd1c-3f077616273d",
   "metadata": {},
   "outputs": [],
   "source": [
    "raw_im_pth_abs = os.path.abspath(\"raw_images/{n}/{m}\") + '/'\n",
    "raw_im_pth = os.path.relpath(raw_im_pth_abs)\n",
    "\n",
    "for src_name in samp['name'].values:\n",
    "    for miss_name in rel_miss:\n",
    "        if not os.path.exists(raw_im_pth.format(m=miss_name, n=src_name)):\n",
    "            os.makedirs(raw_im_pth.format(m=miss_name, n=src_name))"
   ]
  },
  {
   "cell_type": "markdown",
   "id": "6d37bb83-fdd6-43d0-99bc-6d1e2fb71bed",
   "metadata": {},
   "source": [
    "### Storage for outputs"
   ]
  },
  {
   "cell_type": "markdown",
   "id": "f89a75f5-03f7-4e86-831f-46d9fd3fb567",
   "metadata": {},
   "source": []
  },
  {
   "cell_type": "code",
   "execution_count": 10,
   "id": "1a7431ef-75a3-4812-b558-790439f80a8a",
   "metadata": {},
   "outputs": [],
   "source": [
    "for src_name in samp['name'].values:\n",
    "    if not os.path.exists(OUTPUT_CLUSTER_PATH.format(n=src_name)):\n",
    "        os.makedirs(OUTPUT_CLUSTER_PATH.format(n=src_name))"
   ]
  },
  {
   "cell_type": "markdown",
   "id": "f94fa3f0-e291-4198-9fb5-dc02af17b647",
   "metadata": {},
   "source": [
    "## Generating and saving XMM images"
   ]
  },
  {
   "cell_type": "markdown",
   "id": "ef584cef-b004-4a67-a866-9865e101ae3a",
   "metadata": {},
   "source": [
    "We address XMM observations slightly differently, as one of the best ways of getting images is to download the raw data and reprocess it - as this is complex, we also allow for the introduction of already-generated FITS images to the history.\n",
    "\n",
    "Currently, existing file names must be formatted in a very specific way (see the code for further information)."
   ]
  },
  {
   "cell_type": "code",
   "execution_count": 11,
   "id": "70ab1910-ffcd-43d3-a8d4-b9bebe586f9c",
   "metadata": {},
   "outputs": [],
   "source": [
    "# existing_xmm = None\n",
    "existing_xmm = \"/Users/dt237/Desktop/LoVoCCS-XMM-Stacks/named_combined_xmm_images/\"\n",
    "\n",
    "# The sub-directory path and file name we expect for existing XMM data\n",
    "im_file_existing_xmm = \"{n}/xmm/{n}_0.5-2.0keV_comb.fits\""
   ]
  },
  {
   "cell_type": "code",
   "execution_count": 12,
   "id": "5a9d4596-b9bd-4f3b-9805-0568f7e8a558",
   "metadata": {},
   "outputs": [
    {
     "name": "stderr",
     "output_type": "stream",
     "text": [
      "Moving existing XMM images: 100%|████████████████████████████████████████████| 67/67 [00:00<00:00, 229.00it/s]\n"
     ]
    }
   ],
   "source": [
    "if 'xmm' in rel_miss:\n",
    "    if existing_xmm is not None:\n",
    "\n",
    "        # Check that the existing XMM path is real\n",
    "        if not os.path.exists(existing_xmm):\n",
    "            raise FileNotFoundError(\"The specified 'existing_xmm' path does not exist.\")\n",
    "\n",
    "        # We make a copy of the data operations section of the history, as it may be changed in this next bit\n",
    "        data_op_hist = deepcopy(cur_history['data_operations'])\n",
    "        # And a change flag\n",
    "        hist_change = False\n",
    "        \n",
    "        with tqdm(total=len(samp), desc='Moving existing XMM images') as onwards:\n",
    "            for row_ind, row in samp.iterrows():\n",
    "                # Read out the cluster name - so we can store things in the right place, and keep track of which image\n",
    "                #  belongs to which cluster\n",
    "                cur_name = row['name']\n",
    "                \n",
    "                # First, lets check if this cluster has had XMM data set up already - if yes then we can skip\n",
    "                if cur_history['data_operations'][cur_name]['raw_images']['xmm']['complete']:\n",
    "                    onwards.update(1)\n",
    "                    continue\n",
    "    \n",
    "                # We currently don't build any flexibility into the directory and file name format supported for \n",
    "                #  adding existing images - that will likely change if this gets developed further\n",
    "                cur_exist_path = os.path.join(existing_xmm, im_file_existing_xmm.format(n=cur_name))\n",
    "                if not os.path.exists(cur_exist_path):\n",
    "                    data_op_hist[cur_name]['raw_images']['xmm']['unavailable'] = True\n",
    "                    data_op_hist[cur_name]['raw_images']['xmm']['complete'] = True\n",
    "                    hist_change = True\n",
    "                    \n",
    "                else:\n",
    "                    cur_final_dir = raw_im_pth.format(n=cur_name, m='xmm')\n",
    "                    final_xmm_im_path = os.path.join(cur_final_dir, \"{n}_0.5-2.0keV_comb.fits\".format(n=cur_name))\n",
    "    \n",
    "                    copyfile(cur_exist_path, final_xmm_im_path)\n",
    "                                                     \n",
    "                    # data_op_hist[cur_name]['raw_images']['xmm']['arcsec_per_pix'] = \n",
    "                    # data_op_hist[cur_name]['raw_images']['xmm']['cen_pos'] = \n",
    "                    data_op_hist[cur_name]['raw_images']['xmm']['complete'] = True\n",
    "                    data_op_hist[cur_name]['raw_images']['xmm']['unavailable'] = False\n",
    "                    # Make sure we save the RELATIVE path - otherwise this history file won't work on other systems\n",
    "                    data_op_hist[cur_name]['raw_images']['xmm']['im_path'] = os.path.relpath(final_xmm_im_path)\n",
    "                    hist_change = True\n",
    "                    \n",
    "                onwards.update(1)\n",
    "\n",
    "        # Only run the update history function if there were changes\n",
    "        if hist_change:\n",
    "            cur_history = update_history({'data_operations': data_op_hist})\n",
    "        \n",
    "    else:\n",
    "        raise NotImplementedError(\"The downloading and processing of XMM data for BCG identification \"\\\n",
    "                                  \"projects has not yet been implemented.\")"
   ]
  },
  {
   "cell_type": "markdown",
   "id": "15ae5c89-e2db-49e2-a980-201624dd7aaa",
   "metadata": {},
   "source": [
    "## Downloading DESI Legacy Survey optical/NIR photometry"
   ]
  },
  {
   "cell_type": "markdown",
   "id": "ac08e928-889b-4afd-be9b-19e4b5846a56",
   "metadata": {},
   "source": []
  },
  {
   "cell_type": "code",
   "execution_count": 13,
   "id": "f503053f-50ba-4e69-abb0-a35435d64086",
   "metadata": {},
   "outputs": [],
   "source": [
    "#\n",
    "ls_pixsize_lim = Quantity(3000, 'pix')\n",
    "\n",
    "#\n",
    "ls_start_pix_scale = Quantity(0.262, 'arcsec/pixel')"
   ]
  },
  {
   "cell_type": "markdown",
   "id": "8720e534-9a3d-4a34-be92-6904d8d53574",
   "metadata": {},
   "source": []
  },
  {
   "cell_type": "code",
   "execution_count": 14,
   "id": "5a8c98d3-b102-4ecf-aa89-25872fccccf6",
   "metadata": {},
   "outputs": [
    {
     "name": "stderr",
     "output_type": "stream",
     "text": [
      "/Users/dt237/software/anaconda3/envs/bcg-ident/lib/python3.12/site-packages/IPython/core/interactiveshell.py:3579: UserWarning: The Legacy Survey pixel side length for one or more clusters is greater than allowed by the cutout server - changing pixel scale to 1.31 arcsec / pix\n",
      "  exec(code_obj, self.user_global_ns, self.user_ns)\n",
      "Downloading DESI Legacy Survey DR10 photometry:   0%|                                  | 0/67 [00:00<?, ?it/s][EveryStamp:LegacyDownloader] 2025-04-16 11:22:14,422 - INFO: Downloading cutout from https://www.legacysurvey.org/viewer/jpeg-cutout/?ra=227.734300&dec=5.745471&layer=ls-dr10&pixscale=1.310&bands=griz&size=1597\n"
     ]
    },
    {
     "name": "stdout",
     "output_type": "stream",
     "text": [
      "\n",
      "  0%|                                                                                 | 0/538 [00:00<?, ?KB/s]\u001b[A\n",
      "  6%|████▏                                                                  | 32/538 [00:00<00:02, 211.20KB/s]\u001b[A\n",
      " 31%|█████████████████████▊                                                | 168/538 [00:00<00:00, 645.35KB/s]\u001b[A\n",
      "539KB [00:00, 1220.94KB/s]                                                                                    \u001b[A"
     ]
    },
    {
     "name": "stderr",
     "output_type": "stream",
     "text": [
      "Downloading DESI Legacy Survey DR10 photometry:   1%|▍                         | 1/67 [00:06<07:39,  6.97s/it][EveryStamp:LegacyDownloader] 2025-04-16 11:22:21,387 - INFO: Downloading cutout from https://www.legacysurvey.org/viewer/jpeg-cutout/?ra=44.740000&dec=13.580000&layer=ls-dr10&pixscale=1.310&bands=griz&size=1650\n"
     ]
    },
    {
     "name": "stdout",
     "output_type": "stream",
     "text": [
      "\n",
      "\n",
      "  0%|                                                                                  | 0/42 [00:00<?, ?KB/s]\u001b[A\n",
      "43KB [00:00, 195.08KB/s]                                                                                      \u001b[A"
     ]
    },
    {
     "name": "stderr",
     "output_type": "stream",
     "text": [
      "Downloading DESI Legacy Survey DR10 photometry:   3%|▊                         | 2/67 [00:10<05:32,  5.12s/it][EveryStamp:LegacyDownloader] 2025-04-16 11:22:25,215 - INFO: Downloading cutout from https://www.legacysurvey.org/viewer/jpeg-cutout/?ra=10.458750&dec=-9.301944&layer=ls-dr10&pixscale=1.310&bands=griz&size=2151\n"
     ]
    },
    {
     "name": "stdout",
     "output_type": "stream",
     "text": [
      "\n",
      "\n",
      "  0%|                                                                                | 0/1010 [00:00<?, ?KB/s]\u001b[A\n",
      "  3%|██▏                                                                   | 32/1010 [00:00<00:07, 134.88KB/s]\u001b[A\n",
      "  8%|█████▌                                                                | 80/1010 [00:00<00:04, 192.59KB/s]\u001b[A\n",
      " 30%|████████████████████▊                                                | 304/1010 [00:00<00:00, 750.04KB/s]\u001b[A\n",
      " 42%|█████████████████████████████▏                                       | 428/1010 [00:00<00:00, 871.36KB/s]\u001b[A\n",
      " 57%|███████████████████████████████████████▌                             | 580/1010 [00:00<00:00, 997.68KB/s]\u001b[A\n",
      "1011KB [00:01, 991.95KB/s]                                                                                    \u001b[A"
     ]
    },
    {
     "name": "stderr",
     "output_type": "stream",
     "text": [
      "Downloading DESI Legacy Survey DR10 photometry:   4%|█▏                        | 3/67 [00:25<10:13,  9.58s/it][EveryStamp:LegacyDownloader] 2025-04-16 11:22:40,112 - INFO: Downloading cutout from https://www.legacysurvey.org/viewer/jpeg-cutout/?ra=10.451487&dec=-9.460007&layer=ls-dr10&pixscale=1.310&bands=griz&size=2151\n"
     ]
    },
    {
     "name": "stdout",
     "output_type": "stream",
     "text": [
      "\n",
      "\n",
      "  0%|                                                                                | 0/1023 [00:00<?, ?KB/s]\u001b[A\n",
      "  1%|▌                                                                       | 8/1023 [00:00<00:43, 23.47KB/s]\u001b[A\n",
      "  3%|██▏                                                                    | 32/1023 [00:00<00:12, 77.29KB/s]\u001b[A\n",
      " 18%|████████████▍                                                        | 184/1023 [00:00<00:02, 280.73KB/s]\u001b[A\n",
      " 37%|█████████████████████████▋                                           | 380/1023 [00:01<00:01, 496.35KB/s]\u001b[A\n",
      " 57%|███████████████████████████████████████▋                             | 588/1023 [00:01<00:00, 593.16KB/s]\u001b[A\n",
      "1024KB [00:01, 694.75KB/s]                                                                                    \u001b[A"
     ]
    },
    {
     "name": "stderr",
     "output_type": "stream",
     "text": [
      "Downloading DESI Legacy Survey DR10 photometry:   6%|█▌                        | 4/67 [00:40<12:08, 11.56s/it][EveryStamp:LegacyDownloader] 2025-04-16 11:22:54,723 - INFO: Downloading cutout from https://www.legacysurvey.org/viewer/jpeg-cutout/?ra=303.157313&dec=-56.845978&layer=ls-dr10&pixscale=1.310&bands=griz&size=2147\n"
     ]
    },
    {
     "name": "stdout",
     "output_type": "stream",
     "text": [
      "\n",
      "\n",
      "  0%|                                                                                | 0/1359 [00:00<?, ?KB/s]\u001b[A\n",
      "  1%|▍                                                                       | 8/1359 [00:00<00:18, 72.26KB/s]\u001b[A\n",
      "  6%|████                                                                  | 80/1359 [00:00<00:03, 369.86KB/s]\u001b[A\n",
      " 13%|████████▉                                                            | 176/1359 [00:00<00:02, 495.82KB/s]\u001b[A\n",
      " 27%|██████████████████▋                                                  | 368/1359 [00:00<00:01, 898.14KB/s]\u001b[A\n",
      " 47%|████████████████████████████████▎                                    | 636/1359 [00:00<00:00, 956.47KB/s]\u001b[A\n",
      " 75%|██████████████████████████████████████████████████▍                | 1024/1359 [00:00<00:00, 1533.69KB/s]\u001b[A\n",
      "1360KB [00:01, 1268.27KB/s]                                                                                   \u001b[A"
     ]
    },
    {
     "name": "stderr",
     "output_type": "stream",
     "text": [
      "Downloading DESI Legacy Survey DR10 photometry:   7%|█▉                        | 5/67 [00:52<12:07, 11.74s/it][EveryStamp:LegacyDownloader] 2025-04-16 11:23:06,767 - INFO: Downloading cutout from https://www.legacysurvey.org/viewer/jpeg-cutout/?ra=330.480000&dec=-59.950000&layer=ls-dr10&pixscale=1.310&bands=griz&size=1278\n"
     ]
    },
    {
     "name": "stdout",
     "output_type": "stream",
     "text": [
      "\n",
      "\n",
      "  0%|                                                                                 | 0/407 [00:00<?, ?KB/s]\u001b[A\n",
      "  8%|█████▊                                                                 | 33/407 [00:00<00:01, 248.22KB/s]\u001b[A\n",
      " 20%|█████████████▉                                                         | 80/407 [00:00<00:01, 205.03KB/s]\u001b[A\n",
      "408KB [00:00, 647.43KB/s]                                                                                     \u001b[A"
     ]
    },
    {
     "name": "stderr",
     "output_type": "stream",
     "text": [
      "Downloading DESI Legacy Survey DR10 photometry:   9%|██▎                       | 6/67 [00:58<10:00,  9.84s/it][EveryStamp:LegacyDownloader] 2025-04-16 11:23:12,910 - INFO: Downloading cutout from https://www.legacysurvey.org/viewer/jpeg-cutout/?ra=67.830487&dec=-61.447401&layer=ls-dr10&pixscale=1.310&bands=griz&size=2035\n"
     ]
    },
    {
     "name": "stdout",
     "output_type": "stream",
     "text": [
      "\n",
      "\n",
      "  0%|                                                                                | 0/1065 [00:00<?, ?KB/s]\u001b[A\n",
      "  3%|██▏                                                                   | 33/1065 [00:00<00:05, 197.33KB/s]\u001b[A\n",
      "  8%|█████▎                                                                | 80/1065 [00:00<00:04, 244.47KB/s]\u001b[A\n",
      " 17%|███████████▍                                                         | 176/1065 [00:00<00:01, 472.51KB/s]\u001b[A\n",
      " 40%|███████████████████████████▋                                         | 428/1065 [00:00<00:00, 868.59KB/s]\u001b[A\n",
      " 70%|████████████████████████████████████████████████▍                    | 748/1065 [00:00<00:00, 918.01KB/s]\u001b[A\n",
      "1066KB [00:01, 855.40KB/s]                                                                                    \u001b[A"
     ]
    },
    {
     "name": "stderr",
     "output_type": "stream",
     "text": [
      "Downloading DESI Legacy Survey DR10 photometry:  10%|██▋                       | 7/67 [01:09<10:18, 10.31s/it][EveryStamp:LegacyDownloader] 2025-04-16 11:23:24,178 - INFO: Downloading cutout from https://www.legacysurvey.org/viewer/jpeg-cutout/?ra=194.840000&dec=-4.190000&layer=ls-dr10&pixscale=1.310&bands=griz&size=1460\n"
     ]
    },
    {
     "name": "stdout",
     "output_type": "stream",
     "text": [
      "\n",
      "\n",
      "  0%|                                                                                 | 0/623 [00:00<?, ?KB/s]\u001b[A\n",
      "  5%|███▋                                                                   | 32/623 [00:00<00:01, 313.47KB/s]\u001b[A\n",
      "624KB [00:00, 1625.36KB/s]                                                                                    \u001b[A"
     ]
    },
    {
     "name": "stderr",
     "output_type": "stream",
     "text": [
      "Downloading DESI Legacy Survey DR10 photometry:  12%|███                       | 8/67 [01:19<09:58, 10.15s/it][EveryStamp:LegacyDownloader] 2025-04-16 11:23:34,009 - INFO: Downloading cutout from https://www.legacysurvey.org/viewer/jpeg-cutout/?ra=137.280000&dec=-9.670000&layer=ls-dr10&pixscale=1.310&bands=griz&size=2199\n"
     ]
    },
    {
     "name": "stdout",
     "output_type": "stream",
     "text": [
      "\n",
      "\n",
      "  0%|                                                                                | 0/1301 [00:00<?, ?KB/s]\u001b[A\n",
      "  2%|█▋                                                                    | 32/1301 [00:00<00:07, 166.34KB/s]\u001b[A\n",
      " 14%|█████████▎                                                           | 176/1301 [00:00<00:01, 653.90KB/s]\u001b[A\n",
      "1302KB [00:00, 2828.17KB/s]                                                                                   \u001b[A"
     ]
    },
    {
     "name": "stderr",
     "output_type": "stream",
     "text": [
      "Downloading DESI Legacy Survey DR10 photometry:  13%|███▍                      | 9/67 [01:34<11:22, 11.77s/it][EveryStamp:LegacyDownloader] 2025-04-16 11:23:49,331 - INFO: Downloading cutout from https://www.legacysurvey.org/viewer/jpeg-cutout/?ra=206.870000&dec=-32.850000&layer=ls-dr10&pixscale=1.310&bands=griz&size=2996\n"
     ]
    },
    {
     "name": "stdout",
     "output_type": "stream",
     "text": [
      "\n",
      "\n",
      "  0%|                                                                                | 0/2652 [00:00<?, ?KB/s]\u001b[A\n",
      "  1%|▊                                                                     | 32/2652 [00:00<00:10, 260.64KB/s]\u001b[A\n",
      "  7%|████▌                                                                | 176/2652 [00:00<00:03, 746.95KB/s]\u001b[A\n",
      " 17%|███████████▎                                                        | 440/2652 [00:00<00:01, 1473.82KB/s]\u001b[A\n",
      " 28%|██████████████████▊                                                 | 732/2652 [00:00<00:01, 1893.21KB/s]\u001b[A\n",
      " 43%|████████████████████████████▉                                      | 1144/2652 [00:00<00:00, 2619.59KB/s]\u001b[A\n",
      " 55%|████████████████████████████████████▊                              | 1456/2652 [00:00<00:00, 2778.07KB/s]\u001b[A\n",
      " 74%|█████████████████████████████████████████████████▋                 | 1965/2652 [00:00<00:00, 3499.71KB/s]\u001b[A\n",
      "2653KB [00:00, 2824.50KB/s]                                                                                   \u001b[A"
     ]
    },
    {
     "name": "stderr",
     "output_type": "stream",
     "text": [
      "Downloading DESI Legacy Survey DR10 photometry:  15%|███▋                     | 10/67 [01:57<14:27, 15.21s/it][EveryStamp:LegacyDownloader] 2025-04-16 11:24:12,254 - INFO: Downloading cutout from https://www.legacysurvey.org/viewer/jpeg-cutout/?ra=49.490000&dec=-44.240000&layer=ls-dr10&pixscale=1.310&bands=griz&size=1624\n"
     ]
    },
    {
     "name": "stdout",
     "output_type": "stream",
     "text": [
      "\n",
      "\n",
      "  0%|                                                                                 | 0/569 [00:00<?, ?KB/s]\u001b[A\n",
      "  6%|███▉                                                                   | 32/569 [00:00<00:02, 189.69KB/s]\u001b[A\n",
      "570KB [00:00, 1558.85KB/s]                                                                                    \u001b[A"
     ]
    },
    {
     "name": "stderr",
     "output_type": "stream",
     "text": [
      "Downloading DESI Legacy Survey DR10 photometry:  16%|████                     | 11/67 [02:05<12:01, 12.89s/it]"
     ]
    },
    {
     "name": "stdout",
     "output_type": "stream",
     "text": [
      "\n"
     ]
    },
    {
     "name": "stderr",
     "output_type": "stream",
     "text": [
      "[EveryStamp:LegacyDownloader] 2025-04-16 11:24:19,863 - INFO: Downloading cutout from https://www.legacysurvey.org/viewer/jpeg-cutout/?ra=44.460000&dec=13.050000&layer=ls-dr10&pixscale=1.310&bands=griz&size=1685\n"
     ]
    },
    {
     "name": "stdout",
     "output_type": "stream",
     "text": [
      "\n",
      "  0%|                                                                                  | 0/44 [00:00<?, ?KB/s]\u001b[A\n",
      "45KB [00:00, 277.12KB/s]                                                                                      \u001b[A"
     ]
    },
    {
     "name": "stderr",
     "output_type": "stream",
     "text": [
      "Downloading DESI Legacy Survey DR10 photometry:  18%|████▍                    | 12/67 [02:08<08:56,  9.75s/it][EveryStamp:LegacyDownloader] 2025-04-16 11:24:22,429 - INFO: Downloading cutout from https://www.legacysurvey.org/viewer/jpeg-cutout/?ra=351.330000&dec=-12.130000&layer=ls-dr10&pixscale=1.310&bands=griz&size=1449\n"
     ]
    },
    {
     "name": "stdout",
     "output_type": "stream",
     "text": [
      "\n",
      "\n",
      "  0%|                                                                                 | 0/442 [00:00<?, ?KB/s]\u001b[A\n",
      "  2%|█▎                                                                       | 8/442 [00:00<00:12, 33.70KB/s]\u001b[A\n",
      " 19%|█████████████▍                                                         | 84/442 [00:00<00:01, 270.29KB/s]\u001b[A\n",
      " 42%|█████████████████████████████▏                                        | 184/442 [00:00<00:00, 436.85KB/s]\u001b[A\n",
      "443KB [00:00, 688.17KB/s]                                                                                     \u001b[A"
     ]
    },
    {
     "name": "stderr",
     "output_type": "stream",
     "text": [
      "Downloading DESI Legacy Survey DR10 photometry:  19%|████▊                    | 13/67 [02:13<07:33,  8.39s/it][EveryStamp:LegacyDownloader] 2025-04-16 11:24:27,706 - INFO: Downloading cutout from https://www.legacysurvey.org/viewer/jpeg-cutout/?ra=194.671250&dec=-1.756944&layer=ls-dr10&pixscale=1.310&bands=griz&size=1460\n"
     ]
    },
    {
     "name": "stdout",
     "output_type": "stream",
     "text": [
      "\n",
      "\n",
      "  0%|                                                                                 | 0/500 [00:00<?, ?KB/s]\u001b[A\n",
      "  2%|█▏                                                                       | 8/500 [00:00<00:09, 49.46KB/s]\u001b[A\n",
      "  6%|████▌                                                                  | 32/500 [00:00<00:03, 123.47KB/s]\u001b[A\n",
      " 15%|██████████▊                                                            | 76/500 [00:00<00:01, 217.30KB/s]\u001b[A\n",
      "501KB [00:00, 656.65KB/s]                                                                                     \u001b[A"
     ]
    },
    {
     "name": "stderr",
     "output_type": "stream",
     "text": [
      "Downloading DESI Legacy Survey DR10 photometry:  21%|█████▏                   | 14/67 [02:20<07:07,  8.07s/it][EveryStamp:LegacyDownloader] 2025-04-16 11:24:35,030 - INFO: Downloading cutout from https://www.legacysurvey.org/viewer/jpeg-cutout/?ra=201.990000&dec=-31.500000&layer=ls-dr10&pixscale=1.310&bands=griz&size=2466\n"
     ]
    },
    {
     "name": "stdout",
     "output_type": "stream",
     "text": [
      "\n",
      "\n",
      "  0%|                                                                                | 0/1852 [00:00<?, ?KB/s]\u001b[A\n",
      "  1%|▍                                                                      | 12/1852 [00:00<00:20, 88.65KB/s]\u001b[A\n",
      "  4%|███                                                                   | 80/1852 [00:00<00:04, 359.73KB/s]\u001b[A\n",
      " 11%|███████▉                                                             | 212/1852 [00:00<00:02, 682.81KB/s]\u001b[A\n",
      " 21%|██████████████▌                                                      | 392/1852 [00:00<00:01, 999.84KB/s]\u001b[A\n",
      " 31%|█████████████████████▌                                               | 580/1852 [00:00<00:01, 844.35KB/s]\u001b[A\n",
      " 48%|████████████████████████████████▊                                   | 892/1852 [00:00<00:00, 1365.91KB/s]\u001b[A\n",
      " 67%|████████████████████████████████████████████▌                      | 1233/1852 [00:00<00:00, 1870.23KB/s]\u001b[A\n",
      " 79%|████████████████████████████████████████████████████▋              | 1456/1852 [00:01<00:00, 1944.86KB/s]\u001b[A\n",
      "1853KB [00:01, 1524.44KB/s]                                                                                   \u001b[A"
     ]
    },
    {
     "name": "stderr",
     "output_type": "stream",
     "text": [
      "Downloading DESI Legacy Survey DR10 photometry:  22%|█████▌                   | 15/67 [02:37<09:14, 10.66s/it][EveryStamp:LegacyDownloader] 2025-04-16 11:24:51,704 - INFO: Downloading cutout from https://www.legacysurvey.org/viewer/jpeg-cutout/?ra=308.694130&dec=-35.823600&layer=ls-dr10&pixscale=1.310&bands=griz&size=1388\n"
     ]
    },
    {
     "name": "stdout",
     "output_type": "stream",
     "text": [
      "\n",
      "\n",
      "  0%|                                                                                 | 0/581 [00:00<?, ?KB/s]\u001b[A\n",
      "  6%|███▉                                                                   | 32/581 [00:00<00:01, 286.59KB/s]\u001b[A\n",
      " 30%|█████████████████████▏                                                | 176/581 [00:00<00:00, 498.12KB/s]\u001b[A\n",
      "582KB [00:00, 956.03KB/s]                                                                                     \u001b[A"
     ]
    },
    {
     "name": "stderr",
     "output_type": "stream",
     "text": [
      "Downloading DESI Legacy Survey DR10 photometry:  24%|█████▉                   | 16/67 [02:42<07:46,  9.15s/it][EveryStamp:LegacyDownloader] 2025-04-16 11:24:57,349 - INFO: Downloading cutout from https://www.legacysurvey.org/viewer/jpeg-cutout/?ra=342.487500&dec=-64.429444&layer=ls-dr10&pixscale=1.310&bands=griz&size=1327\n"
     ]
    },
    {
     "name": "stdout",
     "output_type": "stream",
     "text": [
      "\n",
      "\n",
      "  0%|                                                                                 | 0/401 [00:00<?, ?KB/s]\u001b[A\n",
      "  2%|█▍                                                                       | 8/401 [00:00<00:11, 32.83KB/s]\u001b[A\n",
      "  8%|█████▋                                                                  | 32/401 [00:00<00:03, 98.04KB/s]\u001b[A\n",
      " 21%|██████████████▊                                                        | 84/401 [00:00<00:01, 159.74KB/s]\u001b[A\n",
      "402KB [00:01, 364.29KB/s]                                                                                     \u001b[A"
     ]
    },
    {
     "name": "stderr",
     "output_type": "stream",
     "text": [
      "Downloading DESI Legacy Survey DR10 photometry:  25%|██████▎                  | 17/67 [02:49<06:51,  8.23s/it][EveryStamp:LegacyDownloader] 2025-04-16 11:25:03,432 - INFO: Downloading cutout from https://www.legacysurvey.org/viewer/jpeg-cutout/?ra=333.635833&dec=-10.371667&layer=ls-dr10&pixscale=1.310&bands=griz&size=1278\n"
     ]
    },
    {
     "name": "stdout",
     "output_type": "stream",
     "text": [
      "\n",
      "\n",
      "  0%|                                                                                 | 0/380 [00:00<?, ?KB/s]\u001b[A\n",
      "  2%|█▌                                                                       | 8/380 [00:00<00:16, 22.37KB/s]\u001b[A\n",
      "  8%|██████                                                                  | 32/380 [00:00<00:04, 73.14KB/s]\u001b[A\n",
      " 22%|███████████████▋                                                       | 84/380 [00:00<00:02, 128.00KB/s]\u001b[A\n",
      "381KB [00:00, 405.85KB/s]                                                                                     \u001b[A"
     ]
    },
    {
     "name": "stderr",
     "output_type": "stream",
     "text": [
      "Downloading DESI Legacy Survey DR10 photometry:  27%|██████▋                  | 18/67 [03:05<08:49, 10.80s/it][EveryStamp:LegacyDownloader] 2025-04-16 11:25:20,209 - INFO: Downloading cutout from https://www.legacysurvey.org/viewer/jpeg-cutout/?ra=55.720000&dec=-53.640000&layer=ls-dr10&pixscale=1.310&bands=griz&size=2032\n"
     ]
    },
    {
     "name": "stdout",
     "output_type": "stream",
     "text": [
      "\n",
      "\n",
      "  0%|                                                                                 | 0/940 [00:00<?, ?KB/s]\u001b[A\n",
      "  3%|██▍                                                                    | 32/940 [00:00<00:03, 277.19KB/s]\u001b[A\n",
      " 19%|█████████████                                                         | 176/940 [00:00<00:00, 819.72KB/s]\u001b[A\n",
      "941KB [00:00, 2398.05KB/s]                                                                                    \u001b[A"
     ]
    },
    {
     "name": "stderr",
     "output_type": "stream",
     "text": [
      "Downloading DESI Legacy Survey DR10 photometry:  28%|███████                  | 19/67 [03:17<08:46, 10.97s/it][EveryStamp:LegacyDownloader] 2025-04-16 11:25:31,567 - INFO: Downloading cutout from https://www.legacysurvey.org/viewer/jpeg-cutout/?ra=184.420000&dec=3.660000&layer=ls-dr10&pixscale=1.310&bands=griz&size=1597\n"
     ]
    },
    {
     "name": "stdout",
     "output_type": "stream",
     "text": [
      "\n",
      "\n",
      "  0%|                                                                                 | 0/546 [00:00<?, ?KB/s]\u001b[A\n",
      "  1%|█                                                                        | 8/546 [00:00<00:08, 66.85KB/s]\u001b[A\n",
      " 15%|██████████▍                                                            | 80/546 [00:00<00:01, 277.49KB/s]\u001b[A\n",
      "547KB [00:00, 1109.51KB/s]                                                                                    \u001b[A"
     ]
    },
    {
     "name": "stderr",
     "output_type": "stream",
     "text": [
      "Downloading DESI Legacy Survey DR10 photometry:  30%|███████▍                 | 20/67 [03:23<07:23,  9.44s/it][EveryStamp:LegacyDownloader] 2025-04-16 11:25:37,458 - INFO: Downloading cutout from https://www.legacysurvey.org/viewer/jpeg-cutout/?ra=10.540000&dec=-28.540000&layer=ls-dr10&pixscale=1.310&bands=griz&size=1171\n"
     ]
    },
    {
     "name": "stdout",
     "output_type": "stream",
     "text": [
      "\n",
      "\n",
      "  0%|                                                                                 | 0/269 [00:00<?, ?KB/s]\u001b[A\n",
      "  3%|██▏                                                                      | 8/269 [00:00<00:05, 50.37KB/s]\u001b[A\n",
      " 12%|████████▍                                                              | 32/269 [00:00<00:02, 113.31KB/s]\u001b[A\n",
      " 30%|█████████████████████                                                  | 80/269 [00:00<00:01, 106.27KB/s]\u001b[A\n",
      "270KB [00:00, 295.60KB/s]                                                                                     \u001b[A"
     ]
    },
    {
     "name": "stderr",
     "output_type": "stream",
     "text": [
      "Downloading DESI Legacy Survey DR10 photometry:  31%|███████▊                 | 21/67 [03:27<06:05,  7.95s/it][EveryStamp:LegacyDownloader] 2025-04-16 11:25:41,941 - INFO: Downloading cutout from https://www.legacysurvey.org/viewer/jpeg-cutout/?ra=139.530000&dec=-12.090000&layer=ls-dr10&pixscale=1.310&bands=griz&size=2211\n"
     ]
    },
    {
     "name": "stdout",
     "output_type": "stream",
     "text": [
      "\n",
      "\n",
      "  0%|                                                                                | 0/1285 [00:00<?, ?KB/s]\u001b[A\n",
      "  1%|▍                                                                       | 8/1285 [00:00<00:39, 32.72KB/s]\u001b[A\n",
      "  2%|█▊                                                                     | 32/1285 [00:00<00:14, 85.55KB/s]\u001b[A\n",
      "  6%|████▏                                                                 | 77/1285 [00:00<00:07, 153.53KB/s]\u001b[A\n",
      " 14%|█████████▌                                                           | 177/1285 [00:00<00:04, 255.13KB/s]\u001b[A\n",
      " 28%|███████████████████▌                                                 | 365/1285 [00:00<00:01, 576.12KB/s]\u001b[A\n",
      " 50%|█████████████████████████████████▉                                  | 641/1285 [00:01<00:00, 1014.00KB/s]\u001b[A\n",
      " 73%|██████████████████████████████████████████████████                   | 933/1285 [00:01<00:00, 985.43KB/s]\u001b[A\n",
      "1286KB [00:01, 797.96KB/s]                                                                                    \u001b[A"
     ]
    },
    {
     "name": "stderr",
     "output_type": "stream",
     "text": [
      "Downloading DESI Legacy Survey DR10 photometry:  33%|████████▏                | 22/67 [03:43<07:50, 10.47s/it][EveryStamp:LegacyDownloader] 2025-04-16 11:25:58,266 - INFO: Downloading cutout from https://www.legacysurvey.org/viewer/jpeg-cutout/?ra=332.580000&dec=-12.180000&layer=ls-dr10&pixscale=1.310&bands=griz&size=1459\n"
     ]
    },
    {
     "name": "stdout",
     "output_type": "stream",
     "text": [
      "\n",
      "\n",
      "  0%|                                                                                 | 0/481 [00:00<?, ?KB/s]\u001b[A\n",
      "  7%|████▋                                                                  | 32/481 [00:00<00:03, 129.30KB/s]\u001b[A\n",
      " 17%|███████████▊                                                           | 80/481 [00:00<00:01, 207.94KB/s]\u001b[A\n",
      " 37%|██████████████████████████▏                                           | 180/481 [00:00<00:00, 437.12KB/s]\u001b[A\n",
      "482KB [00:00, 732.35KB/s]                                                                                     \u001b[A"
     ]
    },
    {
     "name": "stderr",
     "output_type": "stream",
     "text": [
      "Downloading DESI Legacy Survey DR10 photometry:  34%|████████▌                | 23/67 [03:50<06:53,  9.39s/it][EveryStamp:LegacyDownloader] 2025-04-16 11:26:05,152 - INFO: Downloading cutout from https://www.legacysurvey.org/viewer/jpeg-cutout/?ra=172.592007&dec=-14.576101&layer=ls-dr10&pixscale=1.310&bands=griz&size=1185\n"
     ]
    },
    {
     "name": "stdout",
     "output_type": "stream",
     "text": [
      "\n",
      "\n",
      "  0%|                                                                                 | 0/353 [00:00<?, ?KB/s]\u001b[A\n",
      "  9%|██████▍                                                                | 32/353 [00:00<00:01, 207.53KB/s]\u001b[A\n",
      "354KB [00:00, 1017.09KB/s]                                                                                    \u001b[A"
     ]
    },
    {
     "name": "stderr",
     "output_type": "stream",
     "text": [
      "Downloading DESI Legacy Survey DR10 photometry:  36%|████████▉                | 24/67 [03:56<05:56,  8.29s/it]"
     ]
    },
    {
     "name": "stdout",
     "output_type": "stream",
     "text": [
      "\n"
     ]
    },
    {
     "name": "stderr",
     "output_type": "stream",
     "text": [
      "[EveryStamp:LegacyDownloader] 2025-04-16 11:26:10,886 - INFO: Downloading cutout from https://www.legacysurvey.org/viewer/jpeg-cutout/?ra=341.577500&dec=-52.729444&layer=ls-dr10&pixscale=1.310&bands=griz&size=1296\n"
     ]
    },
    {
     "name": "stdout",
     "output_type": "stream",
     "text": [
      "\n",
      "  0%|                                                                                 | 0/389 [00:00<?, ?KB/s]\u001b[A\n",
      "  2%|█▌                                                                       | 8/389 [00:00<00:05, 69.60KB/s]\u001b[A\n",
      " 21%|██████████████▌                                                        | 80/389 [00:00<00:01, 253.55KB/s]\u001b[A\n",
      " 45%|███████████████████████████████▋                                      | 176/389 [00:00<00:00, 471.78KB/s]\u001b[A\n",
      "390KB [00:00, 646.62KB/s]                                                                                     \u001b[A"
     ]
    },
    {
     "name": "stderr",
     "output_type": "stream",
     "text": [
      "Downloading DESI Legacy Survey DR10 photometry:  37%|█████████▎               | 25/67 [04:02<05:22,  7.69s/it][EveryStamp:LegacyDownloader] 2025-04-16 11:26:17,157 - INFO: Downloading cutout from https://www.legacysurvey.org/viewer/jpeg-cutout/?ra=229.690000&dec=6.230000&layer=ls-dr10&pixscale=1.310&bands=griz&size=1233\n"
     ]
    },
    {
     "name": "stdout",
     "output_type": "stream",
     "text": [
      "\n",
      "\n",
      "  0%|                                                                                 | 0/384 [00:00<?, ?KB/s]\u001b[A\n",
      "  8%|█████▉                                                                 | 32/384 [00:00<00:01, 306.64KB/s]\u001b[A\n",
      " 21%|██████████████▊                                                        | 80/384 [00:00<00:01, 276.90KB/s]\u001b[A\n",
      " 46%|████████████████████████████████                                      | 176/384 [00:00<00:00, 431.75KB/s]\u001b[A\n",
      "385KB [00:00, 693.14KB/s]                                                                                     \u001b[A"
     ]
    },
    {
     "name": "stderr",
     "output_type": "stream",
     "text": [
      "Downloading DESI Legacy Survey DR10 photometry:  39%|█████████▋               | 26/67 [04:06<04:29,  6.56s/it][EveryStamp:LegacyDownloader] 2025-04-16 11:26:21,101 - INFO: Downloading cutout from https://www.legacysurvey.org/viewer/jpeg-cutout/?ra=202.707467&dec=-1.862240&layer=ls-dr10&pixscale=1.310&bands=griz&size=1449\n"
     ]
    },
    {
     "name": "stdout",
     "output_type": "stream",
     "text": [
      "\n",
      "\n",
      "  0%|                                                                                 | 0/501 [00:00<?, ?KB/s]\u001b[A\n",
      "  2%|█▏                                                                       | 8/501 [00:00<00:14, 34.11KB/s]\u001b[A\n",
      "  6%|████▌                                                                  | 32/501 [00:00<00:04, 106.34KB/s]\u001b[A\n",
      " 34%|████████████████████████                                              | 172/501 [00:00<00:01, 275.05KB/s]\u001b[A\n",
      "502KB [00:00, 564.51KB/s]                                                                                     \u001b[A"
     ]
    },
    {
     "name": "stderr",
     "output_type": "stream",
     "text": [
      "Downloading DESI Legacy Survey DR10 photometry:  40%|██████████               | 27/67 [04:11<04:06,  6.17s/it][EveryStamp:LegacyDownloader] 2025-04-16 11:26:26,352 - INFO: Downloading cutout from https://www.legacysurvey.org/viewer/jpeg-cutout/?ra=202.793430&dec=-1.726838&layer=ls-dr10&pixscale=1.310&bands=griz&size=1449\n"
     ]
    },
    {
     "name": "stdout",
     "output_type": "stream",
     "text": [
      "\n",
      "\n",
      "  0%|                                                                                 | 0/506 [00:00<?, ?KB/s]\u001b[A\n",
      "  2%|█▏                                                                       | 8/506 [00:00<00:08, 62.24KB/s]\u001b[A\n",
      "  6%|████▍                                                                  | 32/506 [00:00<00:04, 117.01KB/s]\u001b[A\n",
      " 16%|███████████▏                                                           | 80/506 [00:00<00:01, 240.12KB/s]\u001b[A\n",
      " 35%|████████████████████████▎                                             | 176/506 [00:00<00:00, 455.45KB/s]\u001b[A\n",
      "507KB [00:00, 700.47KB/s]                                                                                     \u001b[A"
     ]
    },
    {
     "name": "stderr",
     "output_type": "stream",
     "text": [
      "Downloading DESI Legacy Survey DR10 photometry:  42%|██████████▍              | 28/67 [04:26<05:39,  8.70s/it][EveryStamp:LegacyDownloader] 2025-04-16 11:26:40,956 - INFO: Downloading cutout from https://www.legacysurvey.org/viewer/jpeg-cutout/?ra=202.556560&dec=-2.094492&layer=ls-dr10&pixscale=1.310&bands=griz&size=1449\n"
     ]
    },
    {
     "name": "stdout",
     "output_type": "stream",
     "text": [
      "\n",
      "\n",
      "  0%|                                                                                 | 0/489 [00:00<?, ?KB/s]\u001b[A\n",
      "  2%|█▏                                                                       | 8/489 [00:00<00:24, 19.85KB/s]\u001b[A\n",
      "  7%|████▋                                                                   | 32/489 [00:00<00:11, 40.94KB/s]\u001b[A\n",
      " 16%|███████████▎                                                            | 77/489 [00:01<00:04, 87.14KB/s]\u001b[A\n",
      " 55%|██████████████████████████████████████▋                               | 270/489 [00:01<00:00, 380.60KB/s]\u001b[A\n",
      "490KB [00:01, 305.55KB/s]                                                                                     \u001b[A"
     ]
    },
    {
     "name": "stderr",
     "output_type": "stream",
     "text": [
      "Downloading DESI Legacy Survey DR10 photometry:  43%|██████████▊              | 29/67 [04:33<05:07,  8.09s/it][EveryStamp:LegacyDownloader] 2025-04-16 11:26:47,631 - INFO: Downloading cutout from https://www.legacysurvey.org/viewer/jpeg-cutout/?ra=328.538333&dec=-57.855278&layer=ls-dr10&pixscale=1.310&bands=griz&size=1608\n"
     ]
    },
    {
     "name": "stdout",
     "output_type": "stream",
     "text": [
      "\n",
      "\n",
      "  0%|                                                                                 | 0/629 [00:00<?, ?KB/s]\u001b[A\n",
      "  1%|▉                                                                        | 8/629 [00:00<00:08, 72.01KB/s]\u001b[A\n",
      "  5%|███▋                                                                    | 32/629 [00:00<00:11, 52.05KB/s]\u001b[A\n",
      " 13%|█████████▏                                                             | 81/629 [00:00<00:04, 129.62KB/s]\u001b[A\n",
      " 29%|████████████████████▏                                                 | 181/629 [00:01<00:02, 187.17KB/s]\u001b[A\n",
      "630KB [00:01, 475.50KB/s]                                                                                     \u001b[A"
     ]
    },
    {
     "name": "stderr",
     "output_type": "stream",
     "text": [
      "Downloading DESI Legacy Survey DR10 photometry:  45%|███████████▏             | 30/67 [04:41<04:57,  8.05s/it][EveryStamp:LegacyDownloader] 2025-04-16 11:26:55,578 - INFO: Downloading cutout from https://www.legacysurvey.org/viewer/jpeg-cutout/?ra=26.259583&dec=-53.013889&layer=ls-dr10&pixscale=1.310&bands=griz&size=1095\n"
     ]
    },
    {
     "name": "stdout",
     "output_type": "stream",
     "text": [
      "\n",
      "\n",
      "  0%|                                                                                 | 0/246 [00:00<?, ?KB/s]\u001b[A\n",
      "  3%|██▎                                                                      | 8/246 [00:00<00:18, 12.96KB/s]\u001b[A\n",
      " 34%|████████████████████████▏                                              | 84/246 [00:00<00:01, 124.32KB/s]\u001b[A\n",
      "247KB [00:01, 199.77KB/s]                                                                                     \u001b[A"
     ]
    },
    {
     "name": "stderr",
     "output_type": "stream",
     "text": [
      "Downloading DESI Legacy Survey DR10 photometry:  46%|███████████▌             | 31/67 [04:47<04:27,  7.44s/it][EveryStamp:LegacyDownloader] 2025-04-16 11:27:01,607 - INFO: Downloading cutout from https://www.legacysurvey.org/viewer/jpeg-cutout/?ra=335.987686&dec=-1.583249&layer=ls-dr10&pixscale=1.310&bands=griz&size=1371\n"
     ]
    },
    {
     "name": "stdout",
     "output_type": "stream",
     "text": [
      "\n",
      "\n",
      "  0%|                                                                                 | 0/426 [00:00<?, ?KB/s]\u001b[A\n",
      "  2%|█▎                                                                       | 8/426 [00:00<00:36, 11.50KB/s]\u001b[A\n",
      "  8%|█████▍                                                                  | 32/426 [00:00<00:08, 48.64KB/s]\u001b[A\n",
      " 11%|███████▌                                                                | 45/426 [00:00<00:06, 60.68KB/s]\u001b[A\n",
      " 44%|██████████████████████████████▉                                       | 188/426 [00:01<00:01, 217.68KB/s]\u001b[A\n",
      " 49%|██████████████████████████████████▌                                   | 210/426 [00:01<00:01, 144.07KB/s]\u001b[A\n",
      "427KB [00:01, 226.30KB/s]                                                                                     \u001b[A"
     ]
    },
    {
     "name": "stderr",
     "output_type": "stream",
     "text": [
      "Downloading DESI Legacy Survey DR10 photometry:  48%|███████████▉             | 32/67 [04:55<04:31,  7.75s/it][EveryStamp:LegacyDownloader] 2025-04-16 11:27:10,058 - INFO: Downloading cutout from https://www.legacysurvey.org/viewer/jpeg-cutout/?ra=336.063345&dec=-1.516853&layer=ls-dr10&pixscale=1.310&bands=griz&size=1371\n"
     ]
    },
    {
     "name": "stdout",
     "output_type": "stream",
     "text": [
      "\n",
      "\n",
      "  0%|                                                                                 | 0/423 [00:00<?, ?KB/s]\u001b[A\n",
      "  2%|█▍                                                                       | 8/423 [00:00<00:06, 59.46KB/s]\u001b[A\n",
      "  8%|█████▎                                                                 | 32/423 [00:00<00:03, 109.13KB/s]\u001b[A\n",
      " 19%|█████████████▍                                                         | 80/423 [00:00<00:01, 211.96KB/s]\u001b[A\n",
      " 42%|█████████████████████████████▏                                        | 176/423 [00:00<00:01, 246.13KB/s]\u001b[A\n",
      "424KB [00:01, 411.92KB/s]                                                                                     \u001b[A"
     ]
    },
    {
     "name": "stderr",
     "output_type": "stream",
     "text": [
      "Downloading DESI Legacy Survey DR10 photometry:  49%|████████████▎            | 33/67 [05:05<04:47,  8.45s/it][EveryStamp:LegacyDownloader] 2025-04-16 11:27:20,139 - INFO: Downloading cutout from https://www.legacysurvey.org/viewer/jpeg-cutout/?ra=335.948893&dec=-1.649615&layer=ls-dr10&pixscale=1.310&bands=griz&size=1371\n"
     ]
    },
    {
     "name": "stdout",
     "output_type": "stream",
     "text": [
      "\n",
      "\n",
      "  0%|                                                                                 | 0/428 [00:00<?, ?KB/s]\u001b[A\n",
      "  8%|█████▍                                                                 | 33/428 [00:00<00:01, 241.10KB/s]\u001b[A\n",
      " 43%|██████████████████████████████                                        | 184/428 [00:00<00:00, 617.30KB/s]\u001b[A\n",
      "429KB [00:00, 908.55KB/s]                                                                                     \u001b[A"
     ]
    },
    {
     "name": "stderr",
     "output_type": "stream",
     "text": [
      "Downloading DESI Legacy Survey DR10 photometry:  51%|████████████▋            | 34/67 [05:11<04:09,  7.57s/it][EveryStamp:LegacyDownloader] 2025-04-16 11:27:25,670 - INFO: Downloading cutout from https://www.legacysurvey.org/viewer/jpeg-cutout/?ra=194.287408&dec=-17.409460&layer=ls-dr10&pixscale=1.310&bands=griz&size=2500\n"
     ]
    },
    {
     "name": "stdout",
     "output_type": "stream",
     "text": [
      "\n",
      "\n",
      "  0%|                                                                                | 0/1541 [00:00<?, ?KB/s]\u001b[A\n",
      "  2%|█▍                                                                    | 32/1541 [00:00<00:07, 212.44KB/s]\u001b[A\n",
      "  7%|████▋                                                                | 104/1541 [00:00<00:03, 401.80KB/s]\u001b[A\n",
      " 25%|█████████████████▎                                                  | 392/1541 [00:00<00:00, 1322.43KB/s]\u001b[A\n",
      " 55%|█████████████████████████████████████▏                              | 844/1541 [00:00<00:00, 2232.80KB/s]\u001b[A\n",
      "1542KB [00:00, 2404.45KB/s]                                                                                   \u001b[A"
     ]
    },
    {
     "name": "stderr",
     "output_type": "stream",
     "text": [
      "Downloading DESI Legacy Survey DR10 photometry:  52%|█████████████            | 35/67 [05:27<05:24, 10.15s/it][EveryStamp:LegacyDownloader] 2025-04-16 11:27:41,842 - INFO: Downloading cutout from https://www.legacysurvey.org/viewer/jpeg-cutout/?ra=194.455488&dec=-17.273181&layer=ls-dr10&pixscale=1.310&bands=griz&size=2395\n"
     ]
    },
    {
     "name": "stdout",
     "output_type": "stream",
     "text": [
      "\n",
      "\n",
      "  0%|                                                                                | 0/1407 [00:00<?, ?KB/s]\u001b[A\n",
      "  1%|▍                                                                       | 8/1407 [00:00<00:21, 64.18KB/s]\u001b[A\n",
      "  2%|█▌                                                                    | 32/1407 [00:00<00:09, 145.79KB/s]\u001b[A\n",
      "  6%|████▏                                                                 | 84/1407 [00:00<00:07, 181.73KB/s]\u001b[A\n",
      " 13%|█████████▏                                                           | 188/1407 [00:00<00:03, 361.23KB/s]\u001b[A\n",
      " 26%|█████████████████▋                                                   | 360/1407 [00:00<00:01, 670.75KB/s]\u001b[A\n",
      " 38%|██████████████████████████▍                                          | 540/1407 [00:00<00:01, 791.26KB/s]\u001b[A\n",
      " 66%|█████████████████████████████████████████████                       | 932/1407 [00:01<00:00, 1166.48KB/s]\u001b[A\n",
      " 85%|████████████████████████████████████████████████████████▌          | 1189/1407 [00:01<00:00, 1444.42KB/s]\u001b[A\n",
      "1408KB [00:01, 1002.44KB/s]                                                                                   \u001b[A"
     ]
    },
    {
     "name": "stderr",
     "output_type": "stream",
     "text": [
      "Downloading DESI Legacy Survey DR10 photometry:  54%|█████████████▍           | 36/67 [05:50<07:17, 14.11s/it][EveryStamp:LegacyDownloader] 2025-04-16 11:28:05,198 - INFO: Downloading cutout from https://www.legacysurvey.org/viewer/jpeg-cutout/?ra=175.350000&dec=-12.270000&layer=ls-dr10&pixscale=1.310&bands=griz&size=1074\n"
     ]
    },
    {
     "name": "stdout",
     "output_type": "stream",
     "text": [
      "\n",
      "\n",
      "  0%|                                                                                 | 0/292 [00:00<?, ?KB/s]\u001b[A\n",
      " 11%|███████▊                                                               | 32/292 [00:00<00:00, 260.17KB/s]\u001b[A\n",
      "293KB [00:00, 1136.22KB/s]                                                                                    \u001b[A"
     ]
    },
    {
     "name": "stderr",
     "output_type": "stream",
     "text": [
      "Downloading DESI Legacy Survey DR10 photometry:  55%|█████████████▊           | 37/67 [05:53<05:24, 10.83s/it][EveryStamp:LegacyDownloader] 2025-04-16 11:28:08,363 - INFO: Downloading cutout from https://www.legacysurvey.org/viewer/jpeg-cutout/?ra=334.502097&dec=-65.181454&layer=ls-dr10&pixscale=1.310&bands=griz&size=1313\n"
     ]
    },
    {
     "name": "stdout",
     "output_type": "stream",
     "text": [
      "\n",
      "\n",
      "  0%|                                                                                 | 0/434 [00:00<?, ?KB/s]\u001b[A\n",
      "  7%|█████▏                                                                 | 32/434 [00:00<00:01, 243.23KB/s]\u001b[A\n",
      "435KB [00:00, 1194.10KB/s]                                                                                    \u001b[A"
     ]
    },
    {
     "name": "stderr",
     "output_type": "stream",
     "text": [
      "Downloading DESI Legacy Survey DR10 photometry:  57%|██████████████▏          | 38/67 [05:58<04:21,  9.01s/it][EveryStamp:LegacyDownloader] 2025-04-16 11:28:13,117 - INFO: Downloading cutout from https://www.legacysurvey.org/viewer/jpeg-cutout/?ra=183.857822&dec=-39.027273&layer=ls-dr10&pixscale=1.310&bands=griz&size=1078\n"
     ]
    },
    {
     "name": "stdout",
     "output_type": "stream",
     "text": [
      "\n",
      "\n",
      "  0%|                                                                                 | 0/381 [00:00<?, ?KB/s]\u001b[A\n",
      "  8%|█████▉                                                                 | 32/381 [00:00<00:01, 237.19KB/s]\u001b[A\n",
      "382KB [00:00, 1128.86KB/s]                                                                                    \u001b[A"
     ]
    },
    {
     "name": "stderr",
     "output_type": "stream",
     "text": [
      "Downloading DESI Legacy Survey DR10 photometry:  58%|██████████████▌          | 39/67 [06:02<03:28,  7.46s/it][EveryStamp:LegacyDownloader] 2025-04-16 11:28:16,962 - INFO: Downloading cutout from https://www.legacysurvey.org/viewer/jpeg-cutout/?ra=323.568242&dec=-13.438889&layer=ls-dr10&pixscale=1.310&bands=griz&size=1384\n"
     ]
    },
    {
     "name": "stdout",
     "output_type": "stream",
     "text": [
      "\n",
      "\n",
      "  0%|                                                                                 | 0/469 [00:00<?, ?KB/s]\u001b[A\n",
      "  7%|████▊                                                                  | 32/469 [00:00<00:01, 248.81KB/s]\u001b[A\n",
      " 18%|████████████▋                                                          | 84/469 [00:00<00:01, 310.77KB/s]\u001b[A\n",
      "470KB [00:00, 957.36KB/s]                                                                                     \u001b[A"
     ]
    },
    {
     "name": "stderr",
     "output_type": "stream",
     "text": [
      "Downloading DESI Legacy Survey DR10 photometry:  60%|██████████████▉          | 40/67 [06:08<03:05,  6.87s/it][EveryStamp:LegacyDownloader] 2025-04-16 11:28:22,470 - INFO: Downloading cutout from https://www.legacysurvey.org/viewer/jpeg-cutout/?ra=334.572621&dec=-3.825365&layer=ls-dr10&pixscale=1.310&bands=griz&size=1378\n"
     ]
    },
    {
     "name": "stdout",
     "output_type": "stream",
     "text": [
      "\n",
      "\n",
      "  0%|                                                                                 | 0/460 [00:00<?, ?KB/s]\u001b[A\n",
      "  7%|████▉                                                                  | 32/460 [00:00<00:02, 163.24KB/s]\u001b[A\n",
      "461KB [00:00, 1069.83KB/s]                                                                                    \u001b[A"
     ]
    },
    {
     "name": "stderr",
     "output_type": "stream",
     "text": [
      "Downloading DESI Legacy Survey DR10 photometry:  61%|███████████████▎         | 41/67 [06:13<02:47,  6.45s/it][EveryStamp:LegacyDownloader] 2025-04-16 11:28:27,949 - INFO: Downloading cutout from https://www.legacysurvey.org/viewer/jpeg-cutout/?ra=334.666651&dec=-3.779926&layer=ls-dr10&pixscale=1.310&bands=griz&size=1378\n"
     ]
    },
    {
     "name": "stdout",
     "output_type": "stream",
     "text": [
      "\n",
      "\n",
      "  0%|                                                                                 | 0/461 [00:00<?, ?KB/s]\u001b[A\n",
      "  2%|█▎                                                                       | 8/461 [00:00<00:06, 74.61KB/s]\u001b[A\n",
      " 17%|████████████▎                                                          | 80/461 [00:00<00:01, 375.73KB/s]\u001b[A\n",
      "462KB [00:00, 1053.35KB/s]                                                                                    \u001b[A"
     ]
    },
    {
     "name": "stderr",
     "output_type": "stream",
     "text": [
      "Downloading DESI Legacy Survey DR10 photometry:  63%|███████████████▋         | 42/67 [06:17<02:25,  5.80s/it][EveryStamp:LegacyDownloader] 2025-04-16 11:28:32,225 - INFO: Downloading cutout from https://www.legacysurvey.org/viewer/jpeg-cutout/?ra=336.521149&dec=17.365823&layer=ls-dr10&pixscale=1.310&bands=griz&size=1181\n"
     ]
    },
    {
     "name": "stdout",
     "output_type": "stream",
     "text": [
      "\n",
      "\n",
      "  0%|                                                                                 | 0/307 [00:00<?, ?KB/s]\u001b[A\n",
      " 10%|███████▍                                                               | 32/307 [00:00<00:01, 164.42KB/s]\u001b[A\n",
      "308KB [00:00, 765.34KB/s]                                                                                     \u001b[A"
     ]
    },
    {
     "name": "stderr",
     "output_type": "stream",
     "text": [
      "Downloading DESI Legacy Survey DR10 photometry:  64%|████████████████         | 43/67 [06:21<02:05,  5.23s/it][EveryStamp:LegacyDownloader] 2025-04-16 11:28:36,114 - INFO: Downloading cutout from https://www.legacysurvey.org/viewer/jpeg-cutout/?ra=229.080000&dec=0.100000&layer=ls-dr10&pixscale=1.310&bands=griz&size=1085\n"
     ]
    },
    {
     "name": "stdout",
     "output_type": "stream",
     "text": [
      "\n",
      "\n",
      "  0%|                                                                                 | 0/308 [00:00<?, ?KB/s]\u001b[A\n",
      " 10%|███████▍                                                               | 32/308 [00:00<00:00, 295.29KB/s]\u001b[A\n",
      "309KB [00:00, 1040.96KB/s]                                                                                    \u001b[A"
     ]
    },
    {
     "name": "stderr",
     "output_type": "stream",
     "text": [
      "Downloading DESI Legacy Survey DR10 photometry:  66%|████████████████▍        | 44/67 [06:25<01:48,  4.70s/it][EveryStamp:LegacyDownloader] 2025-04-16 11:28:39,576 - INFO: Downloading cutout from https://www.legacysurvey.org/viewer/jpeg-cutout/?ra=201.725000&dec=-27.183333&layer=ls-dr10&pixscale=1.310&bands=griz&size=2578\n"
     ]
    },
    {
     "name": "stdout",
     "output_type": "stream",
     "text": [
      "\n",
      "\n",
      "  0%|                                                                                | 0/1778 [00:00<?, ?KB/s]\u001b[A\n",
      "  2%|█▎                                                                    | 32/1778 [00:00<00:05, 302.48KB/s]\u001b[A\n",
      "  7%|████▊                                                                | 124/1778 [00:00<00:02, 656.34KB/s]\u001b[A\n",
      " 21%|██████████████                                                      | 368/1778 [00:00<00:01, 1405.79KB/s]\u001b[A\n",
      " 49%|█████████████████████████████████▌                                  | 876/1778 [00:00<00:00, 2594.17KB/s]\u001b[A\n",
      " 78%|████████████████████████████████████████████████████▎              | 1388/1778 [00:00<00:00, 3107.38KB/s]\u001b[A\n",
      "1779KB [00:00, 2427.53KB/s]                                                                                   \u001b[A"
     ]
    },
    {
     "name": "stderr",
     "output_type": "stream",
     "text": [
      "Downloading DESI Legacy Survey DR10 photometry:  67%|████████████████▊        | 45/67 [06:39<02:49,  7.69s/it][EveryStamp:LegacyDownloader] 2025-04-16 11:28:54,265 - INFO: Downloading cutout from https://www.legacysurvey.org/viewer/jpeg-cutout/?ra=328.091327&dec=-19.546198&layer=ls-dr10&pixscale=1.310&bands=griz&size=1323\n"
     ]
    },
    {
     "name": "stdout",
     "output_type": "stream",
     "text": [
      "\n",
      "\n",
      "  0%|                                                                                 | 0/448 [00:00<?, ?KB/s]\u001b[A\n",
      "  7%|█████                                                                  | 32/448 [00:00<00:01, 311.81KB/s]\u001b[A\n",
      "449KB [00:00, 1533.98KB/s]                                                                                    \u001b[A"
     ]
    },
    {
     "name": "stderr",
     "output_type": "stream",
     "text": [
      "Downloading DESI Legacy Survey DR10 photometry:  69%|█████████████████▏       | 46/67 [06:47<02:44,  7.83s/it]"
     ]
    },
    {
     "name": "stdout",
     "output_type": "stream",
     "text": [
      "\n"
     ]
    },
    {
     "name": "stderr",
     "output_type": "stream",
     "text": [
      "[EveryStamp:LegacyDownloader] 2025-04-16 11:29:02,419 - INFO: Downloading cutout from https://www.legacysurvey.org/viewer/jpeg-cutout/?ra=328.032613&dec=-19.722221&layer=ls-dr10&pixscale=1.310&bands=griz&size=1323\n"
     ]
    },
    {
     "name": "stdout",
     "output_type": "stream",
     "text": [
      "\n",
      "  0%|                                                                                 | 0/452 [00:00<?, ?KB/s]\u001b[A\n",
      "  7%|█████                                                                  | 32/452 [00:00<00:01, 295.97KB/s]\u001b[A\n",
      "453KB [00:00, 1524.89KB/s]                                                                                    \u001b[A"
     ]
    },
    {
     "name": "stderr",
     "output_type": "stream",
     "text": [
      "Downloading DESI Legacy Survey DR10 photometry:  70%|█████████████████▌       | 47/67 [06:52<02:18,  6.91s/it]"
     ]
    },
    {
     "name": "stdout",
     "output_type": "stream",
     "text": [
      "\n"
     ]
    },
    {
     "name": "stderr",
     "output_type": "stream",
     "text": [
      "[EveryStamp:LegacyDownloader] 2025-04-16 11:29:07,174 - INFO: Downloading cutout from https://www.legacysurvey.org/viewer/jpeg-cutout/?ra=359.260000&dec=-34.760000&layer=ls-dr10&pixscale=1.310&bands=griz&size=2490\n"
     ]
    },
    {
     "name": "stdout",
     "output_type": "stream",
     "text": [
      "\n",
      "  0%|                                                                                | 0/1390 [00:00<?, ?KB/s]\u001b[A\n",
      "  2%|█▌                                                                    | 32/1390 [00:00<00:07, 174.93KB/s]\u001b[A\n",
      " 13%|████████▋                                                            | 176/1390 [00:00<00:01, 657.98KB/s]\u001b[A\n",
      " 54%|████████████████████████████████████▉                               | 756/1390 [00:00<00:00, 2128.99KB/s]\u001b[A\n",
      "1391KB [00:00, 1861.53KB/s]                                                                                   \u001b[A"
     ]
    },
    {
     "name": "stderr",
     "output_type": "stream",
     "text": [
      "Downloading DESI Legacy Survey DR10 photometry:  72%|█████████████████▉       | 48/67 [07:08<03:02,  9.60s/it][EveryStamp:LegacyDownloader] 2025-04-16 11:29:23,062 - INFO: Downloading cutout from https://www.legacysurvey.org/viewer/jpeg-cutout/?ra=332.347083&dec=-51.815000&layer=ls-dr10&pixscale=1.310&bands=griz&size=1188\n"
     ]
    },
    {
     "name": "stdout",
     "output_type": "stream",
     "text": [
      "\n",
      "\n",
      "  0%|                                                                                 | 0/342 [00:00<?, ?KB/s]\u001b[A\n",
      "  2%|█▋                                                                       | 8/342 [00:00<00:04, 78.93KB/s]\u001b[A\n",
      " 23%|████████████████▌                                                      | 80/342 [00:00<00:00, 316.58KB/s]\u001b[A\n",
      "343KB [00:00, 629.75KB/s]                                                                                     \u001b[A"
     ]
    },
    {
     "name": "stderr",
     "output_type": "stream",
     "text": [
      "Downloading DESI Legacy Survey DR10 photometry:  73%|██████████████████▎      | 49/67 [07:13<02:28,  8.23s/it][EveryStamp:LegacyDownloader] 2025-04-16 11:29:28,078 - INFO: Downloading cutout from https://www.legacysurvey.org/viewer/jpeg-cutout/?ra=346.809618&dec=-15.223940&layer=ls-dr10&pixscale=1.310&bands=griz&size=1145\n"
     ]
    },
    {
     "name": "stdout",
     "output_type": "stream",
     "text": [
      "\n",
      "\n",
      "  0%|                                                                                 | 0/276 [00:00<?, ?KB/s]\u001b[A\n",
      " 12%|████████▏                                                              | 32/276 [00:00<00:01, 201.43KB/s]\u001b[A\n",
      "277KB [00:00, 814.56KB/s]                                                                                     \u001b[A"
     ]
    },
    {
     "name": "stderr",
     "output_type": "stream",
     "text": [
      "Downloading DESI Legacy Survey DR10 photometry:  75%|██████████████████▋      | 50/67 [07:18<02:01,  7.16s/it][EveryStamp:LegacyDownloader] 2025-04-16 11:29:32,745 - INFO: Downloading cutout from https://www.legacysurvey.org/viewer/jpeg-cutout/?ra=348.250000&dec=-21.630000&layer=ls-dr10&pixscale=1.310&bands=griz&size=1421\n"
     ]
    },
    {
     "name": "stdout",
     "output_type": "stream",
     "text": [
      "\n",
      "\n",
      "  0%|                                                                                 | 0/505 [00:00<?, ?KB/s]\u001b[A\n",
      "  2%|█▏                                                                       | 8/505 [00:00<00:06, 74.02KB/s]\u001b[A\n",
      " 16%|███████████▏                                                           | 80/505 [00:00<00:01, 296.77KB/s]\u001b[A\n",
      "506KB [00:00, 1129.85KB/s]                                                                                    \u001b[A"
     ]
    },
    {
     "name": "stderr",
     "output_type": "stream",
     "text": [
      "Downloading DESI Legacy Survey DR10 photometry:  76%|███████████████████      | 51/67 [07:23<01:46,  6.63s/it][EveryStamp:LegacyDownloader] 2025-04-16 11:29:38,134 - INFO: Downloading cutout from https://www.legacysurvey.org/viewer/jpeg-cutout/?ra=52.160000&dec=-55.710000&layer=ls-dr10&pixscale=1.310&bands=griz&size=1448\n"
     ]
    },
    {
     "name": "stdout",
     "output_type": "stream",
     "text": [
      "\n",
      "\n",
      "  0%|                                                                                 | 0/481 [00:00<?, ?KB/s]\u001b[A\n",
      "  7%|████▋                                                                  | 32/481 [00:00<00:02, 168.94KB/s]\u001b[A\n",
      " 37%|█████████████████████████▌                                            | 176/481 [00:00<00:00, 608.35KB/s]\u001b[A\n",
      "482KB [00:00, 910.99KB/s]                                                                                     \u001b[A\n"
     ]
    },
    {
     "name": "stderr",
     "output_type": "stream",
     "text": [
      "Downloading DESI Legacy Survey DR10 photometry:  78%|███████████████████▍     | 52/67 [07:30<01:38,  6.58s/it][EveryStamp:LegacyDownloader] 2025-04-16 11:29:44,618 - INFO: Downloading cutout from https://www.legacysurvey.org/viewer/jpeg-cutout/?ra=12.350000&dec=-29.524444&layer=ls-dr10&pixscale=1.310&bands=griz&size=1169\n"
     ]
    },
    {
     "name": "stdout",
     "output_type": "stream",
     "text": [
      "\n",
      "  0%|                                                                                 | 0/286 [00:00<?, ?KB/s]\u001b[A\n",
      " 11%|███████▉                                                               | 32/286 [00:00<00:00, 291.12KB/s]\u001b[A\n",
      " 46%|████████████████████████████████▎                                     | 132/286 [00:00<00:00, 565.47KB/s]\u001b[A\n",
      "287KB [00:00, 625.37KB/s]                                                                                     \u001b[A"
     ]
    },
    {
     "name": "stderr",
     "output_type": "stream",
     "text": [
      "Downloading DESI Legacy Survey DR10 photometry:  79%|███████████████████▊     | 53/67 [07:37<01:35,  6.81s/it][EveryStamp:LegacyDownloader] 2025-04-16 11:29:51,950 - INFO: Downloading cutout from https://www.legacysurvey.org/viewer/jpeg-cutout/?ra=348.079888&dec=-21.504098&layer=ls-dr10&pixscale=1.310&bands=griz&size=1147\n"
     ]
    },
    {
     "name": "stdout",
     "output_type": "stream",
     "text": [
      "\n",
      "\n",
      "  0%|                                                                                 | 0/333 [00:00<?, ?KB/s]\u001b[A\n",
      " 10%|██████▊                                                                | 32/333 [00:00<00:01, 175.79KB/s]\u001b[A\n",
      " 41%|████████████████████████████▊                                         | 137/333 [00:00<00:00, 460.22KB/s]\u001b[A\n",
      "334KB [00:00, 620.39KB/s]                                                                                     \u001b[A"
     ]
    },
    {
     "name": "stderr",
     "output_type": "stream",
     "text": [
      "Downloading DESI Legacy Survey DR10 photometry:  81%|████████████████████▏    | 54/67 [07:42<01:21,  6.29s/it][EveryStamp:LegacyDownloader] 2025-04-16 11:29:57,037 - INFO: Downloading cutout from https://www.legacysurvey.org/viewer/jpeg-cutout/?ra=227.862104&dec=6.349277&layer=ls-dr10&pixscale=1.310&bands=griz&size=1506\n"
     ]
    },
    {
     "name": "stdout",
     "output_type": "stream",
     "text": [
      "\n",
      "\n",
      "  0%|                                                                                 | 0/558 [00:00<?, ?KB/s]\u001b[A\n",
      "  6%|████                                                                   | 32/558 [00:00<00:01, 281.77KB/s]\u001b[A\n",
      " 24%|████████████████▌                                                     | 132/558 [00:00<00:00, 574.25KB/s]\u001b[A\n",
      " 46%|████████████████████████████████                                      | 256/558 [00:00<00:00, 735.24KB/s]\u001b[A\n",
      " 70%|████████████████████████████████████████████████▋                     | 388/558 [00:00<00:00, 781.62KB/s]\u001b[A\n",
      "559KB [00:00, 791.53KB/s]                                                                                     \u001b[A"
     ]
    },
    {
     "name": "stderr",
     "output_type": "stream",
     "text": [
      "Downloading DESI Legacy Survey DR10 photometry:  82%|████████████████████▌    | 55/67 [07:51<01:24,  7.04s/it][EveryStamp:LegacyDownloader] 2025-04-16 11:30:05,818 - INFO: Downloading cutout from https://www.legacysurvey.org/viewer/jpeg-cutout/?ra=96.867142&dec=-54.438733&layer=ls-dr10&pixscale=1.310&bands=griz&size=2346\n"
     ]
    },
    {
     "name": "stdout",
     "output_type": "stream",
     "text": [
      "\n",
      "\n",
      "  0%|                                                                                | 0/1498 [00:00<?, ?KB/s]\u001b[A\n",
      "  5%|███▋                                                                  | 80/1498 [00:00<00:02, 530.81KB/s]\u001b[A\n",
      " 23%|███████████████▊                                                    | 348/1498 [00:00<00:00, 1401.50KB/s]\u001b[A\n",
      " 48%|████████████████████████████████▌                                   | 716/1498 [00:00<00:00, 2044.62KB/s]\u001b[A\n",
      "1499KB [00:00, 2387.96KB/s]                                                                                   \u001b[A"
     ]
    },
    {
     "name": "stderr",
     "output_type": "stream",
     "text": [
      "Downloading DESI Legacy Survey DR10 photometry:  84%|████████████████████▉    | 56/67 [08:05<01:41,  9.23s/it][EveryStamp:LegacyDownloader] 2025-04-16 11:30:20,160 - INFO: Downloading cutout from https://www.legacysurvey.org/viewer/jpeg-cutout/?ra=96.687844&dec=-54.539092&layer=ls-dr10&pixscale=1.310&bands=griz&size=2346\n"
     ]
    },
    {
     "name": "stdout",
     "output_type": "stream",
     "text": [
      "\n",
      "\n",
      "  0%|                                                                                | 0/1479 [00:00<?, ?KB/s]\u001b[A\n",
      "  2%|█▌                                                                    | 32/1479 [00:00<00:04, 301.64KB/s]\u001b[A\n",
      "  6%|███▉                                                                  | 84/1479 [00:00<00:03, 390.41KB/s]\u001b[A\n",
      " 13%|████████▊                                                            | 188/1479 [00:00<00:02, 471.59KB/s]\u001b[A\n",
      " 39%|██████████████████████████▎                                         | 572/1479 [00:00<00:00, 1347.50KB/s]\u001b[A\n",
      " 68%|█████████████████████████████████████████████▎                     | 1000/1479 [00:00<00:00, 1726.62KB/s]\u001b[A\n",
      "1480KB [00:00, 1678.27KB/s]                                                                                   \u001b[A"
     ]
    },
    {
     "name": "stderr",
     "output_type": "stream",
     "text": [
      "Downloading DESI Legacy Survey DR10 photometry:  85%|█████████████████████▎   | 57/67 [08:24<02:01, 12.19s/it][EveryStamp:LegacyDownloader] 2025-04-16 11:30:39,248 - INFO: Downloading cutout from https://www.legacysurvey.org/viewer/jpeg-cutout/?ra=191.149659&dec=-11.993136&layer=ls-dr10&pixscale=1.310&bands=griz&size=1298\n"
     ]
    },
    {
     "name": "stdout",
     "output_type": "stream",
     "text": [
      "\n",
      "\n",
      "  0%|                                                                                 | 0/407 [00:00<?, ?KB/s]\u001b[A\n",
      "  7%|████▉                                                                  | 28/407 [00:00<00:01, 279.96KB/s]\u001b[A\n",
      " 20%|█████████████▉                                                         | 80/407 [00:00<00:01, 323.91KB/s]\u001b[A\n",
      " 41%|████████████████████████████▉                                         | 168/407 [00:00<00:00, 405.60KB/s]\u001b[A\n",
      "408KB [00:00, 683.41KB/s]                                                                                     \u001b[A"
     ]
    },
    {
     "name": "stderr",
     "output_type": "stream",
     "text": [
      "Downloading DESI Legacy Survey DR10 photometry:  87%|█████████████████████▋   | 58/67 [08:29<01:29,  9.98s/it][EveryStamp:LegacyDownloader] 2025-04-16 11:30:44,092 - INFO: Downloading cutout from https://www.legacysurvey.org/viewer/jpeg-cutout/?ra=358.560000&dec=-10.410000&layer=ls-dr10&pixscale=1.310&bands=griz&size=1598\n"
     ]
    },
    {
     "name": "stdout",
     "output_type": "stream",
     "text": [
      "\n",
      "\n",
      "  0%|                                                                                 | 0/503 [00:00<?, ?KB/s]\u001b[A\n",
      "  1%|▌                                                                        | 4/503 [00:00<00:25, 19.31KB/s]\u001b[A\n",
      "  6%|████▌                                                                  | 32/503 [00:00<00:04, 114.99KB/s]\u001b[A\n",
      " 33%|███████████████████████▍                                              | 168/503 [00:00<00:00, 460.97KB/s]\u001b[A\n",
      "504KB [00:01, 274.91KB/s]                                                                                     \u001b[A"
     ]
    },
    {
     "name": "stderr",
     "output_type": "stream",
     "text": [
      "Downloading DESI Legacy Survey DR10 photometry:  88%|██████████████████████   | 59/67 [08:38<01:16,  9.60s/it][EveryStamp:LegacyDownloader] 2025-04-16 11:30:52,804 - INFO: Downloading cutout from https://www.legacysurvey.org/viewer/jpeg-cutout/?ra=194.333566&dec=-30.362907&layer=ls-dr10&pixscale=1.310&bands=griz&size=2155\n"
     ]
    },
    {
     "name": "stdout",
     "output_type": "stream",
     "text": [
      "\n",
      "\n",
      "  0%|                                                                                | 0/1348 [00:00<?, ?KB/s]\u001b[A\n",
      "  2%|█▋                                                                    | 32/1348 [00:00<00:04, 295.21KB/s]\u001b[A\n",
      " 13%|█████████                                                            | 176/1348 [00:00<00:01, 884.24KB/s]\u001b[A\n",
      " 46%|███████████████████████████████▍                                    | 624/1348 [00:00<00:00, 2271.14KB/s]\u001b[A\n",
      "1349KB [00:00, 2509.92KB/s]                                                                                   \u001b[A\n"
     ]
    },
    {
     "name": "stderr",
     "output_type": "stream",
     "text": [
      "Downloading DESI Legacy Survey DR10 photometry:  90%|██████████████████████▍  | 60/67 [08:51<01:14, 10.64s/it][EveryStamp:LegacyDownloader] 2025-04-16 11:31:05,875 - INFO: Downloading cutout from https://www.legacysurvey.org/viewer/jpeg-cutout/?ra=174.860000&dec=-33.450000&layer=ls-dr10&pixscale=1.310&bands=griz&size=1177\n"
     ]
    },
    {
     "name": "stdout",
     "output_type": "stream",
     "text": [
      "\n",
      "  0%|                                                                                 | 0/412 [00:00<?, ?KB/s]\u001b[A\n",
      "  8%|█████▌                                                                 | 32/412 [00:00<00:01, 293.21KB/s]\u001b[A\n",
      "413KB [00:00, 1451.23KB/s]                                                                                    \u001b[A"
     ]
    },
    {
     "name": "stderr",
     "output_type": "stream",
     "text": [
      "Downloading DESI Legacy Survey DR10 photometry:  91%|██████████████████████▊  | 61/67 [08:55<00:52,  8.67s/it][EveryStamp:LegacyDownloader] 2025-04-16 11:31:09,943 - INFO: Downloading cutout from https://www.legacysurvey.org/viewer/jpeg-cutout/?ra=125.258665&dec=7.863501&layer=ls-dr10&pixscale=1.310&bands=griz&size=1154\n"
     ]
    },
    {
     "name": "stdout",
     "output_type": "stream",
     "text": [
      "\n",
      "\n",
      "  0%|                                                                                 | 0/368 [00:00<?, ?KB/s]\u001b[A\n",
      "  2%|█▌                                                                       | 8/368 [00:00<00:05, 65.32KB/s]\u001b[A\n",
      " 23%|████████████████▏                                                      | 84/368 [00:00<00:00, 416.66KB/s]\u001b[A\n",
      "369KB [00:00, 1049.81KB/s]                                                                                    \u001b[A"
     ]
    },
    {
     "name": "stderr",
     "output_type": "stream",
     "text": [
      "Downloading DESI Legacy Survey DR10 photometry:  93%|███████████████████████▏ | 62/67 [09:00<00:37,  7.49s/it][EveryStamp:LegacyDownloader] 2025-04-16 11:31:14,661 - INFO: Downloading cutout from https://www.legacysurvey.org/viewer/jpeg-cutout/?ra=52.466189&dec=-52.580728&layer=ls-dr10&pixscale=1.310&bands=griz&size=1928\n"
     ]
    },
    {
     "name": "stdout",
     "output_type": "stream",
     "text": [
      "\n",
      "\n",
      "  0%|                                                                                 | 0/850 [00:00<?, ?KB/s]\u001b[A\n",
      "  4%|██▋                                                                    | 32/850 [00:00<00:02, 297.18KB/s]\u001b[A\n",
      " 16%|███████████▏                                                          | 136/850 [00:00<00:01, 658.82KB/s]\u001b[A\n",
      " 31%|█████████████████████▍                                                | 260/850 [00:00<00:00, 858.03KB/s]\u001b[A\n",
      " 46%|████████████████████████████████▎                                     | 392/850 [00:00<00:00, 820.06KB/s]\u001b[A\n",
      " 64%|████████████████████████████████████████████▍                         | 540/850 [00:00<00:00, 972.69KB/s]\u001b[A\n",
      "851KB [00:00, 1051.98KB/s]                                                                                    \u001b[A"
     ]
    },
    {
     "name": "stderr",
     "output_type": "stream",
     "text": [
      "Downloading DESI Legacy Survey DR10 photometry:  94%|███████████████████████▌ | 63/67 [09:11<00:34,  8.66s/it][EveryStamp:LegacyDownloader] 2025-04-16 11:31:26,070 - INFO: Downloading cutout from https://www.legacysurvey.org/viewer/jpeg-cutout/?ra=157.000000&dec=-6.800000&layer=ls-dr10&pixscale=1.310&bands=griz&size=1089\n"
     ]
    },
    {
     "name": "stdout",
     "output_type": "stream",
     "text": [
      "\n",
      "\n",
      "  0%|                                                                                 | 0/277 [00:00<?, ?KB/s]\u001b[A\n",
      " 12%|████████▏                                                              | 32/277 [00:00<00:00, 300.90KB/s]\u001b[A\n",
      "278KB [00:00, 1245.84KB/s]                                                                                    \u001b[A"
     ]
    },
    {
     "name": "stderr",
     "output_type": "stream",
     "text": [
      "Downloading DESI Legacy Survey DR10 photometry:  96%|███████████████████████▉ | 64/67 [09:15<00:21,  7.15s/it][EveryStamp:LegacyDownloader] 2025-04-16 11:31:29,685 - INFO: Downloading cutout from https://www.legacysurvey.org/viewer/jpeg-cutout/?ra=193.670000&dec=-29.220000&layer=ls-dr10&pixscale=1.310&bands=griz&size=2192\n"
     ]
    },
    {
     "name": "stdout",
     "output_type": "stream",
     "text": [
      "\n",
      "\n",
      "  0%|                                                                                | 0/1312 [00:00<?, ?KB/s]\u001b[A\n",
      "  2%|█▋                                                                    | 32/1312 [00:00<00:04, 298.73KB/s]\u001b[A\n",
      " 13%|█████████▎                                                           | 176/1312 [00:00<00:01, 643.99KB/s]\u001b[A\n",
      " 44%|█████████████████████████████▋                                      | 572/1312 [00:00<00:00, 1569.29KB/s]\u001b[A\n",
      "1313KB [00:00, 2019.63KB/s]                                                                                   \u001b[A"
     ]
    },
    {
     "name": "stderr",
     "output_type": "stream",
     "text": [
      "Downloading DESI Legacy Survey DR10 photometry:  97%|████████████████████████▎| 65/67 [09:30<00:18,  9.44s/it][EveryStamp:LegacyDownloader] 2025-04-16 11:31:44,482 - INFO: Downloading cutout from https://www.legacysurvey.org/viewer/jpeg-cutout/?ra=137.651250&dec=-10.581111&layer=ls-dr10&pixscale=1.310&bands=griz&size=1358\n"
     ]
    },
    {
     "name": "stdout",
     "output_type": "stream",
     "text": [
      "\n",
      "\n",
      "  0%|                                                                                 | 0/509 [00:00<?, ?KB/s]\u001b[A\n",
      "  6%|████▍                                                                  | 32/509 [00:00<00:01, 314.84KB/s]\u001b[A\n",
      " 16%|███████████▏                                                           | 80/509 [00:00<00:01, 336.86KB/s]\u001b[A\n",
      "510KB [00:00, 1125.18KB/s]                                                                                    \u001b[A"
     ]
    },
    {
     "name": "stderr",
     "output_type": "stream",
     "text": [
      "Downloading DESI Legacy Survey DR10 photometry:  99%|████████████████████████▋| 66/67 [09:37<00:08,  8.93s/it][EveryStamp:LegacyDownloader] 2025-04-16 11:31:52,209 - INFO: Downloading cutout from https://www.legacysurvey.org/viewer/jpeg-cutout/?ra=329.604682&dec=-60.413676&layer=ls-dr10&pixscale=1.310&bands=griz&size=1628\n"
     ]
    },
    {
     "name": "stdout",
     "output_type": "stream",
     "text": [
      "\n",
      "\n",
      "  0%|                                                                                 | 0/645 [00:00<?, ?KB/s]\u001b[A\n",
      "  5%|███▌                                                                   | 32/645 [00:00<00:02, 293.24KB/s]\u001b[A\n",
      " 27%|███████████████████▏                                                  | 177/645 [00:00<00:00, 685.53KB/s]\u001b[A\n",
      "646KB [00:00, 1331.89KB/s]                                                                                    \u001b[A"
     ]
    },
    {
     "name": "stderr",
     "output_type": "stream",
     "text": [
      "Downloading DESI Legacy Survey DR10 photometry: 100%|█████████████████████████| 67/67 [09:43<00:00,  8.71s/it]"
     ]
    },
    {
     "name": "stdout",
     "output_type": "stream",
     "text": [
      "\n"
     ]
    },
    {
     "name": "stderr",
     "output_type": "stream",
     "text": [
      "\n"
     ]
    }
   ],
   "source": [
    "if 'desi-ls' in rel_miss:\n",
    "    # Setting up the downloader class instance\n",
    "    desi_down = rel_downloaders['desi-ls']()\n",
    "\n",
    "    ls_pix_side_lengths = ((side_length/ang_prop_ratios)/ls_start_pix_scale).to('pix')\n",
    "\n",
    "    if (ls_pix_side_lengths > ls_pixsize_lim).any():\n",
    "        ls_worst_pix_len = ls_pix_side_lengths.max()\n",
    "        ls_pix_scale_multi = np.ceil(ls_worst_pix_len / ls_pixsize_lim).astype(int)\n",
    "        warn(\"The Legacy Survey pixel side length for one or more clusters is greater than allowed by the cutout \" \\\n",
    "             \"server - changing pixel scale to {}\".format(ls_pix_scale_multi*ls_start_pix_scale), stacklevel=2)\n",
    "    else:\n",
    "        ls_pix_scale_multi = 1\n",
    "\n",
    "    # Set up the final pixel scale\n",
    "    ls_final_pix_scale = ls_start_pix_scale * ls_pix_scale_multi\n",
    "\n",
    "    # Recalculate with the final scale\n",
    "    ls_pix_side_lengths = ((side_length/ang_prop_ratios)/ls_final_pix_scale).to('pix')\n",
    "\n",
    "    # We make a copy of the data operations section of the history, as it may be changed in this next bit\n",
    "    data_op_hist = deepcopy(cur_history['data_operations'])\n",
    "    # And a change flag\n",
    "    hist_change = False\n",
    "    \n",
    "    # Iterating through dataframes like this is a bad idea if you're performing calculations on dataframe information, or if the\n",
    "    #  dataframe is large (more than a few thousand entries), as iterating is very slow. However, we're just iterating to read\n",
    "    #  things out, so it is sort of okay (and quite convenient)\n",
    "    with tqdm(total=len(samp), desc='Downloading DESI Legacy Survey DR10 photometry') as onwards:\n",
    "        for row_ind, row in samp.iterrows():\n",
    "            # Read out the cluster name - so we can store things in the right place, and keep track of which image\n",
    "            #  belongs to which cluster\n",
    "            cur_name = row['name']\n",
    "            \n",
    "            # First, lets check if this cluster has had DESI-LS data downloaded already. We'll use the project \n",
    "            #  history, as it is much computationally cheaper than checking if the expected file names exist\n",
    "            if cur_history['data_operations'][cur_name]['raw_images']['desi-ls']['complete']:\n",
    "                onwards.update(1)\n",
    "                continue\n",
    "\n",
    "            # Reading out relevant information - position is obviously very important, it is where we will center the\n",
    "            #  downloaded images\n",
    "            cur_ra = row['cent_im_ra']\n",
    "            cur_dec = row['cent_im_dec']\n",
    "            # The conversion between arcmin and arcminutes we calculated earlier, note that retrieving from a row\n",
    "            #  of a dataframe like this seems to render it a float again, rather than an Astropy quantity\n",
    "            cur_ang_prop_ratio = Quantity(row['ang_prop_ratio'], 'kpc/arcmin')\n",
    "    \n",
    "            # Though we already calculated the final pixel sizes we need for the LS images, the download method\n",
    "            #  wants the pixel scale and an angular side length specified seperately, so we have to convert the\n",
    "            #  proper side-length to degrees\n",
    "            cur_deg_side_length = (side_length / cur_ang_prop_ratio).to('deg')\n",
    "    \n",
    "            # Populate the raw image storage directory path, with the cluster name and the current mission name\n",
    "            cur_download_dir = raw_im_pth.format(n=cur_name, m='desi-ls')\n",
    "            # Set up the final raw image file name, with some useful info in it\n",
    "            cur_file_name = \"{n}_sidelength{sl}_pixscale{ps}.jpeg\".format(n=cur_name, sl=str(side_length).replace(' ', ''), \n",
    "                                                                          ps=str(ls_final_pix_scale).replace(' ', '').replace('/', 'per'))\n",
    "            # Combine the raw image storage path with the file name\n",
    "            cur_download_pth = os.path.join(cur_download_dir, cur_file_name)\n",
    "    \n",
    "            desi_down.download(ra=cur_ra, dec=cur_dec, bands='griz', layer='ls-dr10', mode='jpeg', autoscale=False, \n",
    "                               ddir=cur_download_dir, size=cur_deg_side_length.value, pixscale=ls_final_pix_scale.value)\n",
    "    \n",
    "            # Change the name of the downloaded file to something more descriptive\n",
    "            down_file_name = 'legacystamps_{r}_{d}_ls-dr10.jpeg'.format(r='{:.6f}'.format(cur_ra), d='{:.6f}'.format(cur_dec))\n",
    "            down_file_path = os.path.join(cur_download_dir, down_file_name)\n",
    "            os.rename(down_file_path, cur_download_pth)\n",
    "\n",
    "            # Now we add to the data operation history - as well as setting the change flag to True so we know to run the \n",
    "            #  history file update at the end of the looping\n",
    "            hist_change = True\n",
    "            data_op_hist[cur_name]['raw_images']['desi-ls']['complete'] = True\n",
    "            data_op_hist[cur_name]['raw_images']['desi-ls']['arcsec_per_pix'] = ls_final_pix_scale.value\n",
    "            # This shouldn't be necessary, as it should be setup so the sample content won't change, but we'll\n",
    "            #  save the central RA and Dec here as well, so all the WCS-related information will be in one place\n",
    "            data_op_hist[cur_name]['raw_images']['desi-ls']['cen_pos'] = [cur_ra, cur_dec]\n",
    "            # Make sure we save the RELATIVE path - otherwise this history file won't work on other systems\n",
    "            data_op_hist[cur_name]['raw_images']['desi-ls']['im_path'] = os.path.relpath(cur_download_pth)\n",
    "            \n",
    "            onwards.update(1)\n",
    "\n",
    "    # Only run the update history function if there were changes\n",
    "    if hist_change:\n",
    "        cur_history = update_history({'data_operations': data_op_hist})\n",
    "\n",
    "# TODO COULD ADD SOME NICE FAIL SAFE SO THAT IT ATTEMPTS TO DOWNLOAD AN SDSS IMAGE IF THERE IS NO LS DATA"
   ]
  },
  {
   "cell_type": "markdown",
   "id": "0cc9bcc5-28f6-4d4e-b7a5-c4353acb208c",
   "metadata": {},
   "source": [
    "## Downloading VLASS images"
   ]
  },
  {
   "cell_type": "markdown",
   "id": "4b72d232-a93f-4968-884e-5a390259e0a4",
   "metadata": {},
   "source": []
  },
  {
   "cell_type": "code",
   "execution_count": 15,
   "id": "34f2204e-28de-44a0-97a5-d9c6b2a5806b",
   "metadata": {
    "scrolled": true
   },
   "outputs": [],
   "source": [
    "if 'vlass' in rel_miss:\n",
    "    # Setting up the downloader class instance for VLASS - it has fewer download options than the DESI one does\n",
    "    vlass_down = rel_downloaders['vlass'](datatype='se')\n",
    "\n",
    "    # We make a copy of the data operations section of the history, as it may be changed in this next bit\n",
    "    data_op_hist = deepcopy(cur_history['data_operations'])\n",
    "    # And a change flag\n",
    "    hist_change = False\n",
    "\n",
    "    os.chdir('raw_images/')\n",
    "    \n",
    "    # Iterating through dataframes like this is a bad idea if you're performing calculations on dataframe information, or if the\n",
    "    #  dataframe is large (more than a few thousand entries), as iterating is very slow. However, we're just iterating to read\n",
    "    #  things out, so it is sort of okay (and quite convenient)\n",
    "    with tqdm(total=len(samp), desc='Downloading VLASS maps') as onwards:\n",
    "        for row_ind, row in samp.iterrows():\n",
    "            # Read out the cluster name - so we can store things in the right place, and keep track of which image\n",
    "            #  belongs to which cluster\n",
    "            cur_name = row['name']\n",
    "            \n",
    "            # First, lets check if this cluster has had VLASS maps downloaded already. We'll use the project \n",
    "            #  history, as it is much computationally cheaper than checking if the expected file names exist\n",
    "            if cur_history['data_operations'][cur_name]['raw_images']['vlass']['complete']:\n",
    "                onwards.update(1)\n",
    "                continue\n",
    "\n",
    "            # Reading out relevant information - position is obviously very important, it is where we will center the\n",
    "            #  downloaded images\n",
    "            cur_ra = row['cent_im_ra']\n",
    "            cur_dec = row['cent_im_dec']\n",
    "            # The conversion between arcmin and arcminutes we calculated earlier, note that retrieving from a row\n",
    "            #  of a dataframe like this seems to render it a float again, rather than an Astropy quantity\n",
    "            cur_ang_prop_ratio = Quantity(row['ang_prop_ratio'], 'kpc/arcmin')\n",
    "\n",
    "            # Though we already calculated the final pixel sizes we need for the LS images, the download method\n",
    "            #  wants the pixel scale and an angular side length specified seperately, so we have to convert the\n",
    "            #  proper side-length to degrees\n",
    "            cur_deg_side_length = (side_length / cur_ang_prop_ratio).to('deg')\n",
    "    \n",
    "            # Populate the raw image storage directory path, with the cluster name and the current mission name\n",
    "            cur_download_dir = raw_im_pth.format(n=cur_name, m='vlass')\n",
    "            # Set up the final raw image file name, with some useful info in it\n",
    "            cur_file_name = \"{n}_sidelength{sl}_pixscale{ps}.fits\".format(n=cur_name, sl=str(side_length).replace(' ', ''), \n",
    "                                                                          ps='2.5arcsecperpix')\n",
    "            # Combine the raw image storage path with the file name\n",
    "            cur_download_pth = os.path.join(cur_download_dir, cur_file_name)\n",
    "            \n",
    "            # Unfortunately this downloader can raise a general exception rather than a specific one, so I have\n",
    "            #  to account for that\n",
    "            try:\n",
    "                vlass_down.download(ra=cur_ra, dec=cur_dec, ddir=cur_download_dir, size=cur_deg_side_length.value, \n",
    "                                    consider_QA_rejected=True, crop=True)\n",
    "            # I am aware that excepting both is pointless because Exception is the super-class, but it is to remind me\n",
    "            except (HTTPError, Exception) as err:\n",
    "                print(err)\n",
    "                # Record that we tried to get the image, but it wasn't available\n",
    "                hist_change = True\n",
    "                data_op_hist[cur_name]['raw_images']['vlass']['unavailable'] = True\n",
    "                data_op_hist[cur_name]['raw_images']['vlass']['complete'] = True\n",
    "                onwards.update(1)\n",
    "                continue\n",
    "                \n",
    "            # Change the name of the downloaded file to something more descriptive\n",
    "            # down_file_name = 'VLASS_{r}_{d}_'.format(r='{:.6f}'.format(cur_ra), d='{:.6f}'.format(cur_dec))\n",
    "            # poss_vlass_files = [f for f in os.listdir(cur_download_dir) if down_file_name in f]\n",
    "            if len(poss_vlass_files) != 1:\n",
    "                raise ValueError(\"There are multiple possible VLASS images for {n}.\".format(n=cur_name))\n",
    "            else:\n",
    "                down_file_name = poss_vlass_files[0]\n",
    "                \n",
    "            down_file_path = os.path.join(cur_download_dir, down_file_name)\n",
    "            os.rename(down_file_path, cur_download_pth)\n",
    "            \n",
    "            # Now we add to the data operation history - as well as setting the change flag to True so we know to run the \n",
    "            #  history file update at the end of the looping\n",
    "            hist_change = True\n",
    "            data_op_hist[cur_name]['raw_images']['vlass']['complete'] = True\n",
    "            # This shouldn't be necessary, as it should be setup so the sample content won't change, but we'll\n",
    "            #  save the central RA and Dec here as well, so all the WCS-related information will be in one place\n",
    "            data_op_hist[cur_name]['raw_images']['vlass']['cen_pos'] = [cur_ra, cur_dec]\n",
    "            data_op_hist[cur_name]['raw_images']['vlass']['im_path'] = os.path.relpath(cur_download_pth)\n",
    "            \n",
    "            onwards.update(1)\n",
    "\n",
    "    # # Only run the update history function if there were changes\n",
    "    if hist_change:\n",
    "        cur_history = update_history({'data_operations': data_op_hist})\n",
    "\n",
    "os.chdir(TOP_WD)"
   ]
  }
 ],
 "metadata": {
  "kernelspec": {
   "display_name": "Python 3 (ipykernel)",
   "language": "python",
   "name": "python3"
  },
  "language_info": {
   "codemirror_mode": {
    "name": "ipython",
    "version": 3
   },
   "file_extension": ".py",
   "mimetype": "text/x-python",
   "name": "python",
   "nbconvert_exporter": "python",
   "pygments_lexer": "ipython3",
   "version": "3.12.9"
  }
 },
 "nbformat": 4,
 "nbformat_minor": 5
}
